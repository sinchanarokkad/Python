{
 "cells": [
  {
   "cell_type": "code",
   "execution_count": 1,
   "id": "ffec18b5",
   "metadata": {},
   "outputs": [
    {
     "data": {
      "text/plain": [
       "0.5"
      ]
     },
     "execution_count": 1,
     "metadata": {},
     "output_type": "execute_result"
    }
   ],
   "source": [
    "a = 5\n",
    "a/10"
   ]
  },
  {
   "cell_type": "code",
   "execution_count": 2,
   "id": "f14af816",
   "metadata": {},
   "outputs": [
    {
     "ename": "ZeroDivisionError",
     "evalue": "division by zero",
     "output_type": "error",
     "traceback": [
      "\u001b[1;31m---------------------------------------------------------------------------\u001b[0m",
      "\u001b[1;31mZeroDivisionError\u001b[0m                         Traceback (most recent call last)",
      "Cell \u001b[1;32mIn[2], line 1\u001b[0m\n\u001b[1;32m----> 1\u001b[0m a\u001b[38;5;241m/\u001b[39m\u001b[38;5;241m0\u001b[39m\n",
      "\u001b[1;31mZeroDivisionError\u001b[0m: division by zero"
     ]
    }
   ],
   "source": [
    "a/0"
   ]
  },
  {
   "cell_type": "code",
   "execution_count": 3,
   "id": "df4365ab",
   "metadata": {},
   "outputs": [
    {
     "data": {
      "text/plain": [
       "14"
      ]
     },
     "execution_count": 3,
     "metadata": {},
     "output_type": "execute_result"
    }
   ],
   "source": [
    "f = open(\"test.text\" , \"w\")\n",
    "f.write(\"sinj nji smeni\")"
   ]
  },
  {
   "cell_type": "code",
   "execution_count": 4,
   "id": "b2b70041",
   "metadata": {},
   "outputs": [
    {
     "name": "stdout",
     "output_type": "stream",
     "text": [
      "there was mistake\n",
      "i love india\n"
     ]
    }
   ],
   "source": [
    "try :\n",
    "    f = open('test.txt' , \"r\")\n",
    "    f.write(\"darshsinch\") \n",
    "except:\n",
    "    print(\"there was mistake\")\n",
    "print(\"i love india\")"
   ]
  },
  {
   "cell_type": "code",
   "execution_count": 5,
   "id": "3dd2a965",
   "metadata": {},
   "outputs": [
    {
     "ename": "SyntaxError",
     "evalue": "incomplete input (1405652737.py, line 3)",
     "output_type": "error",
     "traceback": [
      "\u001b[1;36m  Cell \u001b[1;32mIn[5], line 3\u001b[1;36m\u001b[0m\n\u001b[1;33m    f.write(\"darshsinch\")\u001b[0m\n\u001b[1;37m                          ^\u001b[0m\n\u001b[1;31mSyntaxError\u001b[0m\u001b[1;31m:\u001b[0m incomplete input\n"
     ]
    }
   ],
   "source": [
    "try :\n",
    "    f = open('test.txt' , \"r\")\n",
    "    f.write(\"darshsinch\") \n"
   ]
  },
  {
   "cell_type": "code",
   "execution_count": 6,
   "id": "70e9e8cf",
   "metadata": {},
   "outputs": [
    {
     "name": "stdout",
     "output_type": "stream",
     "text": [
      "[4, 5, 6, 7, 8, 8, 9, 0]\n",
      "[4, 5, 6, 7, 8, 8, 9, 0]\n",
      "[4, 5, 6, 7, 8, 8, 9, 0]\n",
      "[4, 5, 6, 7, 8, 8, 9, 0]\n",
      "[4, 5, 6, 7, 8, 8, 9, 0]\n",
      "[4, 5, 6, 7, 8, 8, 9, 0]\n",
      "[4, 5, 6, 7, 8, 8, 9, 0]\n",
      "[4, 5, 6, 7, 8, 8, 9, 0]\n"
     ]
    }
   ],
   "source": [
    "l = [4 ,5 ,6 , 7, 8 ,8 ,9 ,0]\n",
    "for i in range(len(l)) :\n",
    "    print(l)"
   ]
  },
  {
   "cell_type": "code",
   "execution_count": 7,
   "id": "f2ef50ca",
   "metadata": {},
   "outputs": [
    {
     "ename": "IndentationError",
     "evalue": "expected an indented block after 'try' statement on line 2 (2872007366.py, line 3)",
     "output_type": "error",
     "traceback": [
      "\u001b[1;36m  Cell \u001b[1;32mIn[7], line 3\u001b[1;36m\u001b[0m\n\u001b[1;33m    for i in range(len(l)) :\u001b[0m\n\u001b[1;37m    ^\u001b[0m\n\u001b[1;31mIndentationError\u001b[0m\u001b[1;31m:\u001b[0m expected an indented block after 'try' statement on line 2\n"
     ]
    }
   ],
   "source": [
    "l = [4 ,5 ,6 , 7, 8 ,8 ,9 ,0]\n",
    "try:\n",
    "for i in range(len(l)) :\n",
    "    print(l)\n",
    "except :\n",
    "    print(\"this is my code\")"
   ]
  },
  {
   "cell_type": "code",
   "execution_count": 8,
   "id": "8587cb03",
   "metadata": {},
   "outputs": [
    {
     "ename": "TypeError",
     "evalue": "unsupported operand type(s) for +: 'int' and 'list'",
     "output_type": "error",
     "traceback": [
      "\u001b[1;31m---------------------------------------------------------------------------\u001b[0m",
      "\u001b[1;31mTypeError\u001b[0m                                 Traceback (most recent call last)",
      "Cell \u001b[1;32mIn[8], line 2\u001b[0m\n\u001b[0;32m      1\u001b[0m l \u001b[38;5;241m=\u001b[39m [\u001b[38;5;241m4\u001b[39m ,\u001b[38;5;241m5\u001b[39m ,\u001b[38;5;241m6\u001b[39m , \u001b[38;5;241m7\u001b[39m, \u001b[38;5;241m8\u001b[39m ,\u001b[38;5;241m8\u001b[39m ,\u001b[38;5;241m9\u001b[39m ,\u001b[38;5;241m0\u001b[39m]\n\u001b[1;32m----> 2\u001b[0m \u001b[38;5;28;01mfor\u001b[39;00m i \u001b[38;5;129;01min\u001b[39;00m \u001b[38;5;28mrange\u001b[39m(\u001b[38;5;28mlen\u001b[39m(l)\u001b[38;5;241m+\u001b[39ml) :\n\u001b[0;32m      3\u001b[0m     \u001b[38;5;28mprint\u001b[39m(l[i])\n",
      "\u001b[1;31mTypeError\u001b[0m: unsupported operand type(s) for +: 'int' and 'list'"
     ]
    }
   ],
   "source": [
    "l = [4 ,5 ,6 , 7, 8 ,8 ,9 ,0]\n",
    "for i in range(len(l)+l) :\n",
    "    print(l[i])"
   ]
  },
  {
   "cell_type": "code",
   "execution_count": 10,
   "id": "c0a5e62e",
   "metadata": {},
   "outputs": [
    {
     "name": "stdout",
     "output_type": "stream",
     "text": [
      "98\n",
      "99\n",
      "sinchu darsh megha\n"
     ]
    }
   ],
   "source": [
    "try :\n",
    "    a = int(input())\n",
    "    b = int(input())\n",
    "except Exception as e :\n",
    "    print(e)\n",
    "print(\"sinchu darsh megha\")"
   ]
  },
  {
   "cell_type": "code",
   "execution_count": 11,
   "id": "9bd01c01",
   "metadata": {},
   "outputs": [
    {
     "name": "stdout",
     "output_type": "stream",
     "text": [
      "sinchu\n"
     ]
    }
   ],
   "source": [
    "print(\"sinchu\")"
   ]
  },
  {
   "cell_type": "code",
   "execution_count": 12,
   "id": "2d696d20",
   "metadata": {},
   "outputs": [
    {
     "name": "stdout",
     "output_type": "stream",
     "text": [
      "6\n"
     ]
    }
   ],
   "source": [
    "a = int(input())"
   ]
  },
  {
   "cell_type": "code",
   "execution_count": 13,
   "id": "65a63e31",
   "metadata": {},
   "outputs": [
    {
     "name": "stdout",
     "output_type": "stream",
     "text": [
      "this is my handling\n",
      "1\n",
      "2\n",
      "3\n",
      "4\n",
      "5\n",
      "6\n"
     ]
    }
   ],
   "source": [
    "try :\n",
    "    f = open(\"test1\" , 'r')\n",
    "    f.write(\"this is my first code with expceptol handling\")\n",
    "    print(\"this is my laptop\")\n",
    "except :\n",
    "    print(\"this is my handling\")\n",
    "l = [1,2,3,4,5,6]\n",
    "for i in l :\n",
    "    print(i)"
   ]
  },
  {
   "cell_type": "code",
   "execution_count": 14,
   "id": "f9a4f06c",
   "metadata": {},
   "outputs": [
    {
     "ename": "SyntaxError",
     "evalue": "invalid syntax (3526892097.py, line 10)",
     "output_type": "error",
     "traceback": [
      "\u001b[1;36m  Cell \u001b[1;32mIn[14], line 10\u001b[1;36m\u001b[0m\n\u001b[1;33m    except :\u001b[0m\n\u001b[1;37m    ^\u001b[0m\n\u001b[1;31mSyntaxError\u001b[0m\u001b[1;31m:\u001b[0m invalid syntax\n"
     ]
    }
   ],
   "source": [
    "try :\n",
    "    f = open(\"test1\" , 'r')\n",
    "    f.write(\"this is my first code with expceptol handling\")\n",
    "    print(\"this is my laptop\")\n",
    "except :\n",
    "    print(\"this is my handling\")\n",
    "l = [1,2,3,4,5,6]\n",
    "for i in l :\n",
    "    print(i)\n",
    "except :\n",
    "    print(\"this is handler for loop\")"
   ]
  },
  {
   "cell_type": "code",
   "execution_count": 15,
   "id": "2a77836d",
   "metadata": {},
   "outputs": [
    {
     "name": "stdout",
     "output_type": "stream",
     "text": [
      "53\n"
     ]
    }
   ],
   "source": [
    "try:\n",
    "    d = {\"key1\":\"sinch\" , \"key2\":[1 ,2,3,4,5] , \"key3\":(4,5,6,7)}\n",
    "    d[\"key4\"] = int(input())\n",
    "except Exception as sinch :\n",
    "    print(sinch)"
   ]
  },
  {
   "cell_type": "code",
   "execution_count": 16,
   "id": "ebec50b4",
   "metadata": {},
   "outputs": [
    {
     "name": "stdout",
     "output_type": "stream",
     "text": [
      "23\n"
     ]
    }
   ],
   "source": [
    "try:\n",
    "    d = {\"key1\":\"sinch\" , \"key2\":[1 ,2,3,4,5] , \"key3\":(4,5,6,7)}\n",
    "    d[\"key4\"] = int(input())\n",
    "except Exception as sinch :\n",
    "    print(sinch)"
   ]
  },
  {
   "cell_type": "code",
   "execution_count": 17,
   "id": "f3c747b6",
   "metadata": {},
   "outputs": [
    {
     "name": "stdout",
     "output_type": "stream",
     "text": [
      "gh58\n",
      "invalid literal for int() with base 10: 'gh58'\n"
     ]
    }
   ],
   "source": [
    "try:\n",
    "    d = {\"key1\":\"sinch\" , \"key2\":[1 ,2,3,4,5] , \"key3\":(4,5,6,7)}\n",
    "    d[\"key4\"] = int(input())\n",
    "    f = open(\"test2\" , \"r\")\n",
    "except Exception as sinch :\n",
    "    print(sinch)"
   ]
  },
  {
   "cell_type": "code",
   "execution_count": 18,
   "id": "6d98cf02",
   "metadata": {},
   "outputs": [
    {
     "name": "stdout",
     "output_type": "stream",
     "text": [
      "26108\n",
      "[Errno 2] No such file or directory: 'test2'\n"
     ]
    }
   ],
   "source": [
    "try:\n",
    "    d = {\"key1\":\"sinch\" , \"key2\":[1 ,2,3,4,5] , \"key3\":(4,5,6,7)}\n",
    "    d[\"key4\"] = int(input())\n",
    "    f = open(\"test2\" , \"r\")\n",
    "except Exception as sinch :\n",
    "    print(sinch)\n",
    "except FileNOTFoundError as e:\n",
    "    print(e)"
   ]
  },
  {
   "cell_type": "code",
   "execution_count": 19,
   "id": "740ba490",
   "metadata": {},
   "outputs": [
    {
     "name": "stdout",
     "output_type": "stream",
     "text": [
      "roh\n",
      "this is my exception class invalid literal for int() with base 10: 'roh'\n"
     ]
    }
   ],
   "source": [
    "try:\n",
    "    d = {\"key1\":\"sinch\" , \"key2\":[1 ,2,3,4,5] , \"key3\":(4,5,6,7)}\n",
    "    d[\"key4\"] = int(input())\n",
    "    f = open(\"test2\" , \"r\")\n",
    "except Exception as ee :\n",
    "    print(\"this is my exception class\" , ee)\n",
    "except Exception as sinch :\n",
    "    print(sinch)\n",
    "except FileNOTFoundError as e:\n",
    "    print(e)"
   ]
  },
  {
   "cell_type": "code",
   "execution_count": 20,
   "id": "6527d109",
   "metadata": {},
   "outputs": [
    {
     "name": "stdout",
     "output_type": "stream",
     "text": [
      "this will execute once my try block will be executed succesfully\n"
     ]
    }
   ],
   "source": [
    "try :\n",
    "    f = open(\"test1.txt\" , \"w\")\n",
    "    f.write(\"this is my code in try\")\n",
    "except Exception as e :\n",
    "    print(\"this will handle an error\")\n",
    "else:\n",
    "    print(\"this will execute once my try block will be executed succesfully\")\n",
    "    f.close()"
   ]
  },
  {
   "cell_type": "code",
   "execution_count": 21,
   "id": "2e6f0924",
   "metadata": {},
   "outputs": [
    {
     "name": "stdout",
     "output_type": "stream",
     "text": [
      "sdjimajd [Errno 2] No such file or directory: 'test43'\n",
      "do this for sure\n"
     ]
    }
   ],
   "source": [
    "try:\n",
    "    f = open(\"test43\" , 'r')\n",
    "except Exception as e :\n",
    "    print(\"sdjimajd\" , e)\n",
    "finally :\n",
    "    print(\"do this for sure\")"
   ]
  },
  {
   "cell_type": "code",
   "execution_count": 22,
   "id": "b098dc33",
   "metadata": {},
   "outputs": [
    {
     "name": "stdout",
     "output_type": "stream",
     "text": [
      "do this on succesfull excution of try block\n",
      "do this for sure\n",
      "handl this\n",
      "it will come to this block for sure\n"
     ]
    }
   ],
   "source": [
    "try:\n",
    "    f = open(\"test43.txt\" , 'w')\n",
    "except Exception as e :\n",
    "    print(\"sdfsdfsdfsdf\" , e)\n",
    "else:\n",
    "    print(\"do this on succesfull excution of try block\")\n",
    "finally:\n",
    "    print(\"do this for sure\")\n",
    "    try:\n",
    "        \n",
    "        f = open(\"sinsinsin\" , 'r')\n",
    "    except :\n",
    "        print(\"handl this\")\n",
    "    finally:\n",
    "        print(\"it will come to this block for sure\")"
   ]
  },
  {
   "cell_type": "code",
   "execution_count": 23,
   "id": "7c17f7c8",
   "metadata": {},
   "outputs": [],
   "source": [
    "def askint():\n",
    "    try:\n",
    "        a = int(input())\n",
    "        return a\n",
    "    except Exception as e :\n",
    "        print(\"this is my input error\" , e)"
   ]
  },
  {
   "cell_type": "code",
   "execution_count": 24,
   "id": "92557ac3",
   "metadata": {},
   "outputs": [
    {
     "name": "stdout",
     "output_type": "stream",
     "text": [
      "688886\n"
     ]
    },
    {
     "data": {
      "text/plain": [
       "688886"
      ]
     },
     "execution_count": 24,
     "metadata": {},
     "output_type": "execute_result"
    }
   ],
   "source": [
    "askint()"
   ]
  },
  {
   "cell_type": "code",
   "execution_count": 25,
   "id": "0153642d",
   "metadata": {},
   "outputs": [],
   "source": [
    "def fun1():\n",
    "    flag = True\n",
    "    while flage :\n",
    "        try:\n",
    "            a = int(input(\"enter the interger:\"))\n",
    "            if type(a) == int :\n",
    "                return\"yes , you have enter an integer\"\n",
    "                flag = False\n",
    "                \n",
    "                \n",
    "                \n",
    "        except Exception as e:\n",
    "            print(\"Nah , you did not enter an integer , please entr an integer, ERROR:\" , E)\n",
    "            \n",
    "            \n",
    "    fun1()"
   ]
  },
  {
   "cell_type": "code",
   "execution_count": 26,
   "id": "62aad05e",
   "metadata": {},
   "outputs": [
    {
     "name": "stdout",
     "output_type": "stream",
     "text": [
      "90\n"
     ]
    }
   ],
   "source": [
    "def integer() :\n",
    "    while True :\n",
    "        \"\"\"function ask for an integer unless provided otherwise\"\"\"\n",
    "        try:\n",
    "            x = int(input())\n",
    "            break\n",
    "        except ValueError as e:\n",
    "            print(\"enter the input again\" , e)\n",
    "            \n",
    "integer()"
   ]
  },
  {
   "cell_type": "code",
   "execution_count": 27,
   "id": "63ac6a09",
   "metadata": {},
   "outputs": [],
   "source": [
    "def getint(p):\n",
    "    while True:\n",
    "        try:\n",
    "            value = int(input(p))\n",
    "        except ValueError :\n",
    "            print(\"sorry , I didn't understand that.\")\n",
    "            continue\n",
    "        \n",
    "        if value < 0 :\n",
    "            print(\"sorry,your response must not be negative.\")\n",
    "            continue\n",
    "        else:\n",
    "            break\n",
    "        return value"
   ]
  },
  {
   "cell_type": "code",
   "execution_count": 28,
   "id": "427887c7",
   "metadata": {},
   "outputs": [
    {
     "name": "stdout",
     "output_type": "stream",
     "text": [
      "sinchrokkad78\n"
     ]
    }
   ],
   "source": [
    "getint(\"sinchrokkad\")"
   ]
  },
  {
   "cell_type": "code",
   "execution_count": 29,
   "id": "6b0cc6e3",
   "metadata": {},
   "outputs": [],
   "source": [
    "def askint():\n",
    "    while True:\n",
    "        try:\n",
    "            num = int(input(\"enter only no\"))\n",
    "            break\n",
    "        except ValueError :\n",
    "            print(\"plz input no only..\")\n",
    "            continue"
   ]
  },
  {
   "cell_type": "code",
   "execution_count": 30,
   "id": "2a9c88e4",
   "metadata": {},
   "outputs": [],
   "source": [
    "def test(a):\n",
    "    if a <0 :\n",
    "        raise Exception(a)\n",
    "    return a"
   ]
  },
  {
   "cell_type": "code",
   "execution_count": 31,
   "id": "923460c4",
   "metadata": {},
   "outputs": [
    {
     "data": {
      "text/plain": [
       "4"
      ]
     },
     "execution_count": 31,
     "metadata": {},
     "output_type": "execute_result"
    }
   ],
   "source": [
    "test(4)"
   ]
  },
  {
   "cell_type": "code",
   "execution_count": 32,
   "id": "f5561257",
   "metadata": {},
   "outputs": [
    {
     "ename": "Exception",
     "evalue": "-2",
     "output_type": "error",
     "traceback": [
      "\u001b[1;31m---------------------------------------------------------------------------\u001b[0m",
      "\u001b[1;31mException\u001b[0m                                 Traceback (most recent call last)",
      "Cell \u001b[1;32mIn[32], line 1\u001b[0m\n\u001b[1;32m----> 1\u001b[0m test(\u001b[38;5;241m-\u001b[39m\u001b[38;5;241m2\u001b[39m)\n",
      "Cell \u001b[1;32mIn[30], line 3\u001b[0m, in \u001b[0;36mtest\u001b[1;34m(a)\u001b[0m\n\u001b[0;32m      1\u001b[0m \u001b[38;5;28;01mdef\u001b[39;00m \u001b[38;5;21mtest\u001b[39m(a):\n\u001b[0;32m      2\u001b[0m     \u001b[38;5;28;01mif\u001b[39;00m a \u001b[38;5;241m<\u001b[39m\u001b[38;5;241m0\u001b[39m :\n\u001b[1;32m----> 3\u001b[0m         \u001b[38;5;28;01mraise\u001b[39;00m \u001b[38;5;167;01mException\u001b[39;00m(a)\n\u001b[0;32m      4\u001b[0m     \u001b[38;5;28;01mreturn\u001b[39;00m a\n",
      "\u001b[1;31mException\u001b[0m: -2"
     ]
    }
   ],
   "source": [
    "test(-2)"
   ]
  },
  {
   "cell_type": "code",
   "execution_count": 33,
   "id": "165a3937",
   "metadata": {},
   "outputs": [],
   "source": [
    "def test(a):\n",
    "    if a <0 :\n",
    "        raise Exception(\"you hv entered a negative no\")\n",
    "    return a"
   ]
  },
  {
   "cell_type": "code",
   "execution_count": 34,
   "id": "5490e1c7",
   "metadata": {},
   "outputs": [
    {
     "ename": "Exception",
     "evalue": "you hv entered a negative no",
     "output_type": "error",
     "traceback": [
      "\u001b[1;31m---------------------------------------------------------------------------\u001b[0m",
      "\u001b[1;31mException\u001b[0m                                 Traceback (most recent call last)",
      "Cell \u001b[1;32mIn[34], line 1\u001b[0m\n\u001b[1;32m----> 1\u001b[0m test(\u001b[38;5;241m-\u001b[39m\u001b[38;5;241m123\u001b[39m)\n",
      "Cell \u001b[1;32mIn[33], line 3\u001b[0m, in \u001b[0;36mtest\u001b[1;34m(a)\u001b[0m\n\u001b[0;32m      1\u001b[0m \u001b[38;5;28;01mdef\u001b[39;00m \u001b[38;5;21mtest\u001b[39m(a):\n\u001b[0;32m      2\u001b[0m     \u001b[38;5;28;01mif\u001b[39;00m a \u001b[38;5;241m<\u001b[39m\u001b[38;5;241m0\u001b[39m :\n\u001b[1;32m----> 3\u001b[0m         \u001b[38;5;28;01mraise\u001b[39;00m \u001b[38;5;167;01mException\u001b[39;00m(\u001b[38;5;124m\"\u001b[39m\u001b[38;5;124myou hv entered a negative no\u001b[39m\u001b[38;5;124m\"\u001b[39m)\n\u001b[0;32m      4\u001b[0m     \u001b[38;5;28;01mreturn\u001b[39;00m a\n",
      "\u001b[1;31mException\u001b[0m: you hv entered a negative no"
     ]
    }
   ],
   "source": [
    "test(-123)"
   ]
  },
  {
   "cell_type": "code",
   "execution_count": 35,
   "id": "a8bd77d7",
   "metadata": {},
   "outputs": [],
   "source": [
    "a = 6/10"
   ]
  },
  {
   "cell_type": "code",
   "execution_count": 36,
   "id": "9ffe1940",
   "metadata": {},
   "outputs": [
    {
     "name": "stdout",
     "output_type": "stream",
     "text": [
      "raise exception\n"
     ]
    }
   ],
   "source": [
    "try:\n",
    "    test(\"rokkad\")\n",
    "except Exception as e :\n",
    "    print(\"raise exception\")"
   ]
  },
  {
   "cell_type": "code",
   "execution_count": 37,
   "id": "fd89ca54",
   "metadata": {},
   "outputs": [
    {
     "name": "stdout",
     "output_type": "stream",
     "text": [
      "enter the integer43\n"
     ]
    },
    {
     "data": {
      "text/plain": [
       "'yes , you hv entered a integer'"
      ]
     },
     "execution_count": 37,
     "metadata": {},
     "output_type": "execute_result"
    }
   ],
   "source": [
    "def fun1():\n",
    "    flag = True \n",
    "    while flag:\n",
    "        try:\n",
    "            a = int(input(\"enter the integer\"))\n",
    "            if type(a)==int:\n",
    "                return\"yes , you hv entered a integer\"\n",
    "                flag = False \n",
    "                \n",
    "        except Exception as e :\n",
    "                print(\"nah, you did not enter an integer, plz enter an integer,ERROR:\",e)\n",
    "\n",
    "fun1()"
   ]
  },
  {
   "cell_type": "code",
   "execution_count": 38,
   "id": "da52bc9d",
   "metadata": {},
   "outputs": [],
   "source": [
    "def test(a):\n",
    "    if a == \"rokkad\":\n",
    "        raise ZeroDivisionError(\"you hv entered a negative value \")\n",
    "    return(a)"
   ]
  },
  {
   "cell_type": "code",
   "execution_count": 39,
   "id": "33bb6a47",
   "metadata": {},
   "outputs": [
    {
     "ename": "ZeroDivisionError",
     "evalue": "you hv entered a negative value ",
     "output_type": "error",
     "traceback": [
      "\u001b[1;31m---------------------------------------------------------------------------\u001b[0m",
      "\u001b[1;31mZeroDivisionError\u001b[0m                         Traceback (most recent call last)",
      "Cell \u001b[1;32mIn[39], line 1\u001b[0m\n\u001b[1;32m----> 1\u001b[0m test(\u001b[38;5;124m\"\u001b[39m\u001b[38;5;124mrokkad\u001b[39m\u001b[38;5;124m\"\u001b[39m)\n",
      "Cell \u001b[1;32mIn[38], line 3\u001b[0m, in \u001b[0;36mtest\u001b[1;34m(a)\u001b[0m\n\u001b[0;32m      1\u001b[0m \u001b[38;5;28;01mdef\u001b[39;00m \u001b[38;5;21mtest\u001b[39m(a):\n\u001b[0;32m      2\u001b[0m     \u001b[38;5;28;01mif\u001b[39;00m a \u001b[38;5;241m==\u001b[39m \u001b[38;5;124m\"\u001b[39m\u001b[38;5;124mrokkad\u001b[39m\u001b[38;5;124m\"\u001b[39m:\n\u001b[1;32m----> 3\u001b[0m         \u001b[38;5;28;01mraise\u001b[39;00m \u001b[38;5;167;01mZeroDivisionError\u001b[39;00m(\u001b[38;5;124m\"\u001b[39m\u001b[38;5;124myou hv entered a negative value \u001b[39m\u001b[38;5;124m\"\u001b[39m)\n\u001b[0;32m      4\u001b[0m     \u001b[38;5;28;01mreturn\u001b[39;00m(a)\n",
      "\u001b[1;31mZeroDivisionError\u001b[0m: you hv entered a negative value "
     ]
    }
   ],
   "source": [
    "test(\"rokkad\")"
   ]
  },
  {
   "cell_type": "code",
   "execution_count": 40,
   "id": "7455877d",
   "metadata": {},
   "outputs": [],
   "source": [
    "import logging"
   ]
  },
  {
   "cell_type": "code",
   "execution_count": 41,
   "id": "3c78e56e",
   "metadata": {},
   "outputs": [],
   "source": [
    "logging.basicConfig(filename = \"test.log\" , level = logging.INFO)"
   ]
  },
  {
   "cell_type": "code",
   "execution_count": 42,
   "id": "da79e7d7",
   "metadata": {},
   "outputs": [
    {
     "data": {
      "text/plain": [
       "'E:\\\\04_Python\\\\02_Advance'"
      ]
     },
     "execution_count": 42,
     "metadata": {},
     "output_type": "execute_result"
    }
   ],
   "source": [
    "pwd()"
   ]
  },
  {
   "cell_type": "code",
   "execution_count": 43,
   "id": "8b87d95a",
   "metadata": {},
   "outputs": [],
   "source": [
    "logging.info(\"this is my info log\")\n",
    "logging.warning(\"this is my warning log\")\n",
    "logging.error(\"this is my error\")"
   ]
  },
  {
   "cell_type": "code",
   "execution_count": 44,
   "id": "36b577e9",
   "metadata": {},
   "outputs": [],
   "source": [
    "logging.shutdown()"
   ]
  },
  {
   "cell_type": "code",
   "execution_count": 45,
   "id": "8c7c84df",
   "metadata": {},
   "outputs": [],
   "source": [
    "logging.basicConfig(filename = \"test2.log\" , level = logging.DEBUG ,format = '%(acstime)s %(message)s')"
   ]
  },
  {
   "cell_type": "code",
   "execution_count": 46,
   "id": "7ea9b878",
   "metadata": {},
   "outputs": [
    {
     "ename": "NameError",
     "evalue": "name 'DEBUG' is not defined",
     "output_type": "error",
     "traceback": [
      "\u001b[1;31m---------------------------------------------------------------------------\u001b[0m",
      "\u001b[1;31mNameError\u001b[0m                                 Traceback (most recent call last)",
      "Cell \u001b[1;32mIn[46], line 1\u001b[0m\n\u001b[1;32m----> 1\u001b[0m DEBUG\n\u001b[0;32m      2\u001b[0m INFO\n\u001b[0;32m      3\u001b[0m WARNING\n",
      "\u001b[1;31mNameError\u001b[0m: name 'DEBUG' is not defined"
     ]
    }
   ],
   "source": [
    "DEBUG\n",
    "INFO\n",
    "WARNING\n",
    "ERROR\n",
    "CRITICAL"
   ]
  },
  {
   "cell_type": "code",
   "execution_count": 47,
   "id": "85473dda",
   "metadata": {},
   "outputs": [],
   "source": [
    "logging.info(\"this is my info log\")\n",
    "logging.warning(\"this is my warning log\")\n",
    "logging.debug(\"this my debug\")\n",
    "logging.error(\"this is my error\")"
   ]
  },
  {
   "cell_type": "code",
   "execution_count": 48,
   "id": "84a3e784",
   "metadata": {},
   "outputs": [],
   "source": [
    "def divbyzero(a,b):\n",
    "    logging.info(\"this is a start of my code and i am try to enter %s and %s\" , a ,b)\n",
    "    try:\n",
    "        div = a/b\n",
    "        logging.info(\"executed succ\")\n",
    "    except Exception as e:\n",
    "        logging.error(\"Error hs happend\")\n",
    "        logging.exception(\"Exception occured\"+ str(e))\n",
    "    "
   ]
  },
  {
   "cell_type": "code",
   "execution_count": 49,
   "id": "286d1a8c",
   "metadata": {},
   "outputs": [],
   "source": [
    "divbyzero(4,5)"
   ]
  },
  {
   "cell_type": "code",
   "execution_count": 50,
   "id": "50b79d4e",
   "metadata": {},
   "outputs": [],
   "source": [
    "divbyzero(4,0)"
   ]
  },
  {
   "cell_type": "code",
   "execution_count": 51,
   "id": "f0408c9f",
   "metadata": {},
   "outputs": [
    {
     "ename": "ZeroDivisionError",
     "evalue": "division by zero",
     "output_type": "error",
     "traceback": [
      "\u001b[1;31m---------------------------------------------------------------------------\u001b[0m",
      "\u001b[1;31mZeroDivisionError\u001b[0m                         Traceback (most recent call last)",
      "Cell \u001b[1;32mIn[51], line 1\u001b[0m\n\u001b[1;32m----> 1\u001b[0m \u001b[38;5;241m4\u001b[39m\u001b[38;5;241m/\u001b[39m\u001b[38;5;241m0\u001b[39m\n",
      "\u001b[1;31mZeroDivisionError\u001b[0m: division by zero"
     ]
    }
   ],
   "source": [
    "4/0"
   ]
  },
  {
   "cell_type": "code",
   "execution_count": 52,
   "id": "8d050ba7",
   "metadata": {},
   "outputs": [
    {
     "data": {
      "text/plain": [
       "1.3333333333333333"
      ]
     },
     "execution_count": 52,
     "metadata": {},
     "output_type": "execute_result"
    }
   ],
   "source": [
    "4/3\n"
   ]
  },
  {
   "cell_type": "code",
   "execution_count": 53,
   "id": "3ed1d3b8",
   "metadata": {},
   "outputs": [],
   "source": [
    "divbyzero(9,3)"
   ]
  },
  {
   "cell_type": "code",
   "execution_count": 54,
   "id": "e13570ca",
   "metadata": {},
   "outputs": [
    {
     "data": {
      "text/plain": [
       "3.0"
      ]
     },
     "execution_count": 54,
     "metadata": {},
     "output_type": "execute_result"
    }
   ],
   "source": [
    "9/3"
   ]
  },
  {
   "cell_type": "markdown",
   "id": "0a12b107",
   "metadata": {},
   "source": [
    "#conclude"
   ]
  }
 ],
 "metadata": {
  "kernelspec": {
   "display_name": "Python 3 (ipykernel)",
   "language": "python",
   "name": "python3"
  },
  "language_info": {
   "codemirror_mode": {
    "name": "ipython",
    "version": 3
   },
   "file_extension": ".py",
   "mimetype": "text/x-python",
   "name": "python",
   "nbconvert_exporter": "python",
   "pygments_lexer": "ipython3",
   "version": "3.11.5"
  }
 },
 "nbformat": 4,
 "nbformat_minor": 5
}
