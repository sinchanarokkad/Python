{
 "cells": [
  {
   "cell_type": "code",
   "execution_count": 1,
   "id": "9ca152e4",
   "metadata": {},
   "outputs": [],
   "source": [
    "class car:\n",
    "    def _init_(self , body_type , engien , fuel_type )  :\n",
    "        self.body_type = body_type\n",
    "        self.engien = engien\n",
    "        self.fuel_type = fuel_type\n",
    "        \n",
    "    def test(self):\n",
    "        print(\"this is my first car\")"
   ]
  },
  {
   "cell_type": "code",
   "execution_count": 2,
   "id": "4240f7be",
   "metadata": {},
   "outputs": [],
   "source": [
    "class car:\n",
    "    def _init_(sin , body_type , engien , fuel_type )  :\n",
    "        sin.body_type = body_type\n",
    "        sin.engien = engien\n",
    "        sin.fuel_type = fuel_type\n",
    "        \n",
    "    def test(sin):\n",
    "        print(\"this is my first car\")"
   ]
  },
  {
   "cell_type": "code",
   "execution_count": 3,
   "id": "2af7060f",
   "metadata": {},
   "outputs": [
    {
     "ename": "NameError",
     "evalue": "name 'fortuner' is not defined",
     "output_type": "error",
     "traceback": [
      "\u001b[1;31m---------------------------------------------------------------------------\u001b[0m",
      "\u001b[1;31mNameError\u001b[0m                                 Traceback (most recent call last)",
      "Cell \u001b[1;32mIn[3], line 1\u001b[0m\n\u001b[1;32m----> 1\u001b[0m fortuner\u001b[38;5;241m.\u001b[39mtest()\n",
      "\u001b[1;31mNameError\u001b[0m: name 'fortuner' is not defined"
     ]
    }
   ],
   "source": [
    "fortuner.test()"
   ]
  },
  {
   "cell_type": "code",
   "execution_count": 4,
   "id": "5ed4ec82",
   "metadata": {},
   "outputs": [],
   "source": [
    "engien = car()"
   ]
  },
  {
   "cell_type": "code",
   "execution_count": 5,
   "id": "1fa29231",
   "metadata": {},
   "outputs": [],
   "source": [
    "fortuner = car()"
   ]
  },
  {
   "cell_type": "code",
   "execution_count": 6,
   "id": "48f38ac4",
   "metadata": {},
   "outputs": [
    {
     "ename": "AttributeError",
     "evalue": "'car' object has no attribute 'a'",
     "output_type": "error",
     "traceback": [
      "\u001b[1;31m---------------------------------------------------------------------------\u001b[0m",
      "\u001b[1;31mAttributeError\u001b[0m                            Traceback (most recent call last)",
      "Cell \u001b[1;32mIn[6], line 1\u001b[0m\n\u001b[1;32m----> 1\u001b[0m fortuner\u001b[38;5;241m.\u001b[39ma\n",
      "\u001b[1;31mAttributeError\u001b[0m: 'car' object has no attribute 'a'"
     ]
    }
   ],
   "source": [
    "fortuner.a"
   ]
  },
  {
   "cell_type": "code",
   "execution_count": 7,
   "id": "e587c80a",
   "metadata": {},
   "outputs": [],
   "source": [
    "a =10"
   ]
  },
  {
   "cell_type": "code",
   "execution_count": 8,
   "id": "de2cc2ea",
   "metadata": {},
   "outputs": [
    {
     "name": "stdout",
     "output_type": "stream",
     "text": [
      "<class 'int'>\n"
     ]
    }
   ],
   "source": [
    "print(type(a))"
   ]
  },
  {
   "cell_type": "code",
   "execution_count": 9,
   "id": "6d2cb0ef",
   "metadata": {},
   "outputs": [],
   "source": [
    "s = \"rokkad\""
   ]
  },
  {
   "cell_type": "code",
   "execution_count": 10,
   "id": "66211100",
   "metadata": {},
   "outputs": [
    {
     "name": "stdout",
     "output_type": "stream",
     "text": [
      "<class 'str'>\n"
     ]
    }
   ],
   "source": [
    "print(type(s))"
   ]
  },
  {
   "cell_type": "code",
   "execution_count": 11,
   "id": "e714d739",
   "metadata": {},
   "outputs": [],
   "source": [
    "n = 57"
   ]
  },
  {
   "cell_type": "code",
   "execution_count": 12,
   "id": "54f0c2e5",
   "metadata": {},
   "outputs": [],
   "source": [
    "x = \"sinch\""
   ]
  },
  {
   "cell_type": "code",
   "execution_count": 13,
   "id": "325cfd72",
   "metadata": {},
   "outputs": [],
   "source": [
    "class car :\n",
    "    def test(sinch):\n",
    "        print(\"hle my name \")"
   ]
  },
  {
   "cell_type": "code",
   "execution_count": 14,
   "id": "d5348677",
   "metadata": {},
   "outputs": [],
   "source": [
    "x = car"
   ]
  },
  {
   "cell_type": "code",
   "execution_count": 15,
   "id": "cb0f9460",
   "metadata": {},
   "outputs": [
    {
     "name": "stdout",
     "output_type": "stream",
     "text": [
      "hle my name \n"
     ]
    }
   ],
   "source": [
    "x.test(6)"
   ]
  },
  {
   "cell_type": "code",
   "execution_count": 16,
   "id": "4a5d53cf",
   "metadata": {},
   "outputs": [
    {
     "name": "stdout",
     "output_type": "stream",
     "text": [
      "<class 'type'>\n"
     ]
    }
   ],
   "source": [
    "print(type(x))"
   ]
  },
  {
   "cell_type": "code",
   "execution_count": 17,
   "id": "961028d5",
   "metadata": {},
   "outputs": [],
   "source": [
    "class list_parser:\n",
    "    def parser(self , a):\n",
    "        if type(a) == list:\n",
    "            for i in a:\n",
    "                print(i)"
   ]
  },
  {
   "cell_type": "code",
   "execution_count": 18,
   "id": "e358702a",
   "metadata": {},
   "outputs": [
    {
     "name": "stdout",
     "output_type": "stream",
     "text": [
      "2\n",
      "3\n",
      "4\n",
      "5\n"
     ]
    }
   ],
   "source": [
    "c = list_parser()\n",
    "c.parser([2,3,4,5])"
   ]
  },
  {
   "cell_type": "code",
   "execution_count": 19,
   "id": "a61b81b3",
   "metadata": {},
   "outputs": [],
   "source": [
    "class list_parser:\n",
    "    def parser(self , a):\n",
    "        if type(a) == list:\n",
    "            for i in a:\n",
    "                print(i)\n",
    "    def reverse_list(self,z):\n",
    "        if type(z) == list:\n",
    "            return z[::-1]"
   ]
  },
  {
   "cell_type": "code",
   "execution_count": 20,
   "id": "dc9d1d69",
   "metadata": {},
   "outputs": [
    {
     "name": "stdout",
     "output_type": "stream",
     "text": [
      "2\n",
      "3\n",
      "4\n",
      "5\n"
     ]
    }
   ],
   "source": [
    "c = list_parser()\n",
    "c.parser([2,3,4,5])"
   ]
  },
  {
   "cell_type": "code",
   "execution_count": 21,
   "id": "40974e2f",
   "metadata": {},
   "outputs": [
    {
     "data": {
      "text/plain": [
       "[5, 4, 3, 2]"
      ]
     },
     "execution_count": 21,
     "metadata": {},
     "output_type": "execute_result"
    }
   ],
   "source": [
    "c.reverse_list([2,3,4,5])"
   ]
  },
  {
   "cell_type": "code",
   "execution_count": 22,
   "id": "e8591230",
   "metadata": {},
   "outputs": [
    {
     "ename": "SyntaxError",
     "evalue": "invalid syntax (683243415.py, line 1)",
     "output_type": "error",
     "traceback": [
      "\u001b[1;36m  Cell \u001b[1;32mIn[22], line 1\u001b[1;36m\u001b[0m\n\u001b[1;33m    d = dict_pursing(\"k\":\"sinch\" , \"k1\":[3,4,5,6])\u001b[0m\n\u001b[1;37m                        ^\u001b[0m\n\u001b[1;31mSyntaxError\u001b[0m\u001b[1;31m:\u001b[0m invalid syntax\n"
     ]
    }
   ],
   "source": [
    "d = dict_pursing(\"k\":\"sinch\" , \"k1\":[3,4,5,6])\n",
    "d.getkeys()"
   ]
  },
  {
   "cell_type": "code",
   "execution_count": 23,
   "id": "0454ab9c",
   "metadata": {},
   "outputs": [],
   "source": [
    "class DictonaryParser:\n",
    "    def _init_(self,Dictonary):\n",
    "        self.Dictonary = Dictonary\n",
    "        \n",
    "    def get_all_values(self):\n",
    "        if isinstance(self.Dictonary,dict):\n",
    "            return list(self.Dictonary.keys())\n",
    "        else:\n",
    "            return ()\n",
    "        \n",
    "        "
   ]
  },
  {
   "cell_type": "code",
   "execution_count": 24,
   "id": "2bb1ad75",
   "metadata": {},
   "outputs": [
    {
     "ename": "IndentationError",
     "evalue": "unexpected indent (4238999017.py, line 5)",
     "output_type": "error",
     "traceback": [
      "\u001b[1;36m  Cell \u001b[1;32mIn[24], line 5\u001b[1;36m\u001b[0m\n\u001b[1;33m    Parser = DictionaryParser(my_dict)\u001b[0m\n\u001b[1;37m    ^\u001b[0m\n\u001b[1;31mIndentationError\u001b[0m\u001b[1;31m:\u001b[0m unexpected indent\n"
     ]
    }
   ],
   "source": [
    "my_dict ={\"name\":\"sinch\" ,\n",
    "           \"age\":18 , \n",
    "          \"city\":\"blg\"}\n",
    "\n",
    "    Parser = DictionaryParser(my_dict)\n",
    "    keys = parser.get_all_keys()\n",
    "\n",
    "print(keys)"
   ]
  },
  {
   "cell_type": "code",
   "execution_count": 25,
   "id": "29c1c102",
   "metadata": {},
   "outputs": [],
   "source": [
    "class dictionaryparser:\n",
    "    def _init_(self,dictionary):\n",
    "        self.dictionary = dictionary\n",
    "        \n",
    "    def get_all_values(self):\n",
    "        if isinstance(self.dictonary,dict):\n",
    "            return list(self.dictonary.values())\n",
    "        else:\n",
    "            return[]\n",
    "    \n",
    "    "
   ]
  },
  {
   "cell_type": "code",
   "execution_count": 26,
   "id": "ea3aed7a",
   "metadata": {},
   "outputs": [
    {
     "ename": "IndentationError",
     "evalue": "unexpected indent (1604492056.py, line 4)",
     "output_type": "error",
     "traceback": [
      "\u001b[1;36m  Cell \u001b[1;32mIn[26], line 4\u001b[1;36m\u001b[0m\n\u001b[1;33m    values = parser.get_all_values()\u001b[0m\n\u001b[1;37m    ^\u001b[0m\n\u001b[1;31mIndentationError\u001b[0m\u001b[1;31m:\u001b[0m unexpected indent\n"
     ]
    }
   ],
   "source": [
    "my_dict={\"name\":\"rokkad\" , \"age\":9 , \"city\":\"blg\"}\n",
    "\n",
    "    \n",
    "    values = parser.get_all_values()\n",
    "print(values)"
   ]
  },
  {
   "cell_type": "code",
   "execution_count": 27,
   "id": "08f693c7",
   "metadata": {},
   "outputs": [],
   "source": [
    "class DictionaryParser:\n",
    "    def _init_(self, dictionary):\n",
    "        if not isinstance(dictionary, dict):\n",
    "            raise ValueError(\"Input must be a dictionary\")\n",
    "        self.dictionary = dictionary\n",
    "\n",
    "    def get_all_keys(self):\n",
    "        return list(self.dictionary.keys())\n",
    "\n",
    "    def get_all_values(self):\n",
    "        return list(self.dictionary.values())\n",
    "\n"
   ]
  },
  {
   "cell_type": "code",
   "execution_count": 1,
   "id": "07d0962d",
   "metadata": {},
   "outputs": [
    {
     "ename": "NameError",
     "evalue": "name 'DictionaryParser' is not defined",
     "output_type": "error",
     "traceback": [
      "\u001b[1;31m---------------------------------------------------------------------------\u001b[0m",
      "\u001b[1;31mNameError\u001b[0m                                 Traceback (most recent call last)",
      "Cell \u001b[1;32mIn[1], line 8\u001b[0m\n\u001b[0;32m      1\u001b[0m my_dict \u001b[38;5;241m=\u001b[39m {\n\u001b[0;32m      2\u001b[0m     \u001b[38;5;124m\"\u001b[39m\u001b[38;5;124mname\u001b[39m\u001b[38;5;124m\"\u001b[39m: \u001b[38;5;124m\"\u001b[39m\u001b[38;5;124mJohn\u001b[39m\u001b[38;5;124m\"\u001b[39m,\n\u001b[0;32m      3\u001b[0m     \u001b[38;5;124m\"\u001b[39m\u001b[38;5;124mage\u001b[39m\u001b[38;5;124m\"\u001b[39m: \u001b[38;5;241m30\u001b[39m,\n\u001b[0;32m      4\u001b[0m     \u001b[38;5;124m\"\u001b[39m\u001b[38;5;124mcity\u001b[39m\u001b[38;5;124m\"\u001b[39m: \u001b[38;5;124m\"\u001b[39m\u001b[38;5;124mNew York\u001b[39m\u001b[38;5;124m\"\u001b[39m\n\u001b[0;32m      5\u001b[0m }\n\u001b[0;32m      7\u001b[0m \u001b[38;5;28;01mtry\u001b[39;00m:\n\u001b[1;32m----> 8\u001b[0m         parser \u001b[38;5;241m=\u001b[39m DictionaryParser(my_dict)\n\u001b[0;32m      9\u001b[0m         keys \u001b[38;5;241m=\u001b[39m parser\u001b[38;5;241m.\u001b[39mget_all_keys()\n\u001b[0;32m     10\u001b[0m         values \u001b[38;5;241m=\u001b[39m parser\u001b[38;5;241m.\u001b[39mget_all_values()\n",
      "\u001b[1;31mNameError\u001b[0m: name 'DictionaryParser' is not defined"
     ]
    }
   ],
   "source": [
    "my_dict = {\n",
    "    \"name\": \"John\",\n",
    "    \"age\": 30,\n",
    "    \"city\": \"New York\"\n",
    "}\n",
    "\n",
    "try:\n",
    "        parser = DictionaryParser(my_dict)\n",
    "        keys = parser.get_all_keys()\n",
    "        values = parser.get_all_values()\n",
    "        print(\"Keys:\", keys)\n",
    "        print(\"Values:\", values)\n",
    "except ValueError as e:\n",
    "        print(\"Error:\" , e )"
   ]
  },
  {
   "cell_type": "code",
   "execution_count": 29,
   "id": "a7734923",
   "metadata": {},
   "outputs": [],
   "source": [
    "class DictionaryParser:\n",
    "    def _init_(self, dictionary):\n",
    "        self.dictionary = dictionary\n",
    "\n",
    "    def parse_input(self, user_input):\n",
    "        try:\n",
    "            key, value = user_input.split(':')\n",
    "            key = key.strip()\n",
    "            value = value.strip()\n",
    "            if key in self.dictionary:\n",
    "                self.dictionary[key] = value\n",
    "                return f\"Updated dictionary key '{key}' with value '{value}'.\"\n",
    "            else:\n",
    "                return f\"Key '{key}' not found in the dictionary.\"\n",
    "        except ValueError:\n",
    "            return \"Invalid input format. Please use 'key: value'.\"\n"
   ]
  },
  {
   "cell_type": "code",
   "execution_count": 1,
   "id": "c50d440b",
   "metadata": {},
   "outputs": [
    {
     "name": "stdout",
     "output_type": "stream",
     "text": [
      "Enter key and value : ghmnu\n"
     ]
    },
    {
     "ename": "NameError",
     "evalue": "name 'parser' is not defined",
     "output_type": "error",
     "traceback": [
      "\u001b[1;31m---------------------------------------------------------------------------\u001b[0m",
      "\u001b[1;31mNameError\u001b[0m                                 Traceback (most recent call last)",
      "Cell \u001b[1;32mIn[1], line 4\u001b[0m\n\u001b[0;32m      1\u001b[0m my_dict \u001b[38;5;241m=\u001b[39m {\u001b[38;5;124m'\u001b[39m\u001b[38;5;124mname\u001b[39m\u001b[38;5;124m'\u001b[39m: \u001b[38;5;124m'\u001b[39m\u001b[38;5;124mJohn\u001b[39m\u001b[38;5;124m'\u001b[39m, \u001b[38;5;124m'\u001b[39m\u001b[38;5;124mage\u001b[39m\u001b[38;5;124m'\u001b[39m: \u001b[38;5;241m30\u001b[39m, \u001b[38;5;124m'\u001b[39m\u001b[38;5;124mcity\u001b[39m\u001b[38;5;124m'\u001b[39m: \u001b[38;5;124m'\u001b[39m\u001b[38;5;124mNew York\u001b[39m\u001b[38;5;124m'\u001b[39m}\n\u001b[0;32m      3\u001b[0m user_input \u001b[38;5;241m=\u001b[39m \u001b[38;5;28minput\u001b[39m(\u001b[38;5;124m\"\u001b[39m\u001b[38;5;124mEnter key and value : \u001b[39m\u001b[38;5;124m\"\u001b[39m)\n\u001b[1;32m----> 4\u001b[0m result \u001b[38;5;241m=\u001b[39m parser\u001b[38;5;241m.\u001b[39mparse_input(user_input)\n\u001b[0;32m      5\u001b[0m \u001b[38;5;28mprint\u001b[39m(result)\n\u001b[0;32m      6\u001b[0m \u001b[38;5;28mprint\u001b[39m(\u001b[38;5;124m\"\u001b[39m\u001b[38;5;124mUpdated Dictionary:\u001b[39m\u001b[38;5;124m\"\u001b[39m,my_dict)\n",
      "\u001b[1;31mNameError\u001b[0m: name 'parser' is not defined"
     ]
    }
   ],
   "source": [
    "my_dict = {'name': 'John', 'age': 30, 'city': 'New York'}\n",
    "\n",
    "user_input = input(\"Enter key and value : \")\n",
    "result = parser.parse_input(user_input)\n",
    "print(result)\n",
    "print(\"Updated Dictionary:\",my_dict)"
   ]
  },
  {
   "cell_type": "code",
   "execution_count": 2,
   "id": "103e2a9c",
   "metadata": {},
   "outputs": [],
   "source": [
    "class DictionaryParser:\n",
    "    def _init_(self, dictionary):\n",
    "        self.dictionary = dictionary\n",
    "\n",
    "    def insert_key_value(self, key, value):\n",
    "        self.dictionary[key] = value\n",
    "        return f\"Inserted key '{key}' with value '{value}' into the dictionary.\"\n",
    "\n"
   ]
  },
  {
   "cell_type": "code",
   "execution_count": 4,
   "id": "725d1d0d",
   "metadata": {},
   "outputs": [
    {
     "ename": "TypeError",
     "evalue": "DictionaryParser() takes no arguments",
     "output_type": "error",
     "traceback": [
      "\u001b[1;31m---------------------------------------------------------------------------\u001b[0m",
      "\u001b[1;31mTypeError\u001b[0m                                 Traceback (most recent call last)",
      "Cell \u001b[1;32mIn[4], line 2\u001b[0m\n\u001b[0;32m      1\u001b[0m my_dict \u001b[38;5;241m=\u001b[39m {\u001b[38;5;124m'\u001b[39m\u001b[38;5;124mname\u001b[39m\u001b[38;5;124m'\u001b[39m: \u001b[38;5;124m'\u001b[39m\u001b[38;5;124mJohn\u001b[39m\u001b[38;5;124m'\u001b[39m, \u001b[38;5;124m'\u001b[39m\u001b[38;5;124mage\u001b[39m\u001b[38;5;124m'\u001b[39m: \u001b[38;5;241m30\u001b[39m, \u001b[38;5;124m'\u001b[39m\u001b[38;5;124mcity\u001b[39m\u001b[38;5;124m'\u001b[39m: \u001b[38;5;124m'\u001b[39m\u001b[38;5;124mNew York\u001b[39m\u001b[38;5;124m'\u001b[39m}\n\u001b[1;32m----> 2\u001b[0m parser \u001b[38;5;241m=\u001b[39m DictionaryParser(my_dict)\n\u001b[0;32m      4\u001b[0m key_to_insert \u001b[38;5;241m=\u001b[39m \u001b[38;5;28minput\u001b[39m(\u001b[38;5;124m\"\u001b[39m\u001b[38;5;124mEnter a new key: \u001b[39m\u001b[38;5;124m\"\u001b[39m)\n\u001b[0;32m      5\u001b[0m value_to_insert \u001b[38;5;241m=\u001b[39m \u001b[38;5;28minput\u001b[39m(\u001b[38;5;124m\"\u001b[39m\u001b[38;5;124mEnter a value for the key: \u001b[39m\u001b[38;5;124m\"\u001b[39m)\n",
      "\u001b[1;31mTypeError\u001b[0m: DictionaryParser() takes no arguments"
     ]
    }
   ],
   "source": [
    "my_dict = {'name': 'John', 'age': 30, 'city': 'New York'}\n",
    "parser = DictionaryParser(my_dict)\n",
    "\n",
    "key_to_insert = input(\"Enter a new key: \")\n",
    "value_to_insert = input(\"Enter a value for the key: \")\n",
    "result = parser.insert_key_value(key_to_insert, value_to_insert)\n",
    "print(result)\n",
    "print(\"Updated Dictionary:\",my_dict)"
   ]
  },
  {
   "cell_type": "code",
   "execution_count": null,
   "id": "7a609f42",
   "metadata": {},
   "outputs": [],
   "source": []
  }
 ],
 "metadata": {
  "kernelspec": {
   "display_name": "Python 3 (ipykernel)",
   "language": "python",
   "name": "python3"
  },
  "language_info": {
   "codemirror_mode": {
    "name": "ipython",
    "version": 3
   },
   "file_extension": ".py",
   "mimetype": "text/x-python",
   "name": "python",
   "nbconvert_exporter": "python",
   "pygments_lexer": "ipython3",
   "version": "3.11.5"
  }
 },
 "nbformat": 4,
 "nbformat_minor": 5
}
