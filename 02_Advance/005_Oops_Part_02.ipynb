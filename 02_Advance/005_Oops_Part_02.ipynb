{
 "cells": [
  {
   "cell_type": "code",
   "execution_count": 1,
   "id": "04ceb388",
   "metadata": {},
   "outputs": [],
   "source": [
    "class xyz:\n",
    "    def __init__(self , a, b, c ):\n",
    "        self.a = a\n",
    "        self.b = b\n",
    "        self.c = c\n",
    "         \n",
    "    def test(self):\n",
    "        print(\"this is my first test method xyz class\")\n",
    "    def test1(self):\n",
    "        print(\"this is my test1 code\")\n",
    "    def test2(self):\n",
    "        print(\"this is my test2 method\")"
   ]
  },
  {
   "cell_type": "code",
   "execution_count": 2,
   "id": "6e505481",
   "metadata": {},
   "outputs": [],
   "source": [
    "class xyz1(xyz):\n",
    "    pass"
   ]
  },
  {
   "cell_type": "code",
   "execution_count": 3,
   "id": "ab7ea3b1",
   "metadata": {},
   "outputs": [],
   "source": [
    "q = xyz1(4 , 5, 6 )"
   ]
  },
  {
   "cell_type": "code",
   "execution_count": 4,
   "id": "4c52f8a2",
   "metadata": {},
   "outputs": [
    {
     "name": "stdout",
     "output_type": "stream",
     "text": [
      "this is my first test method xyz class\n"
     ]
    }
   ],
   "source": [
    "q.test()"
   ]
  },
  {
   "cell_type": "code",
   "execution_count": 5,
   "id": "71f4ff5c",
   "metadata": {},
   "outputs": [
    {
     "name": "stdout",
     "output_type": "stream",
     "text": [
      "this is my test1 code\n"
     ]
    }
   ],
   "source": [
    "q.test1()"
   ]
  },
  {
   "cell_type": "code",
   "execution_count": 6,
   "id": "334624e3",
   "metadata": {},
   "outputs": [
    {
     "name": "stdout",
     "output_type": "stream",
     "text": [
      "this is my test2 method\n"
     ]
    }
   ],
   "source": [
    "q.test2()"
   ]
  },
  {
   "cell_type": "code",
   "execution_count": 7,
   "id": "7312810e",
   "metadata": {},
   "outputs": [],
   "source": [
    "class xyz1(xyz):\n",
    "     def test(self):\n",
    "            print(\"this is my new code \")\n",
    "            \n",
    "            "
   ]
  },
  {
   "cell_type": "code",
   "execution_count": 8,
   "id": "777c780a",
   "metadata": {},
   "outputs": [],
   "source": [
    "s= xyz1(1 ,2 ,4 )"
   ]
  },
  {
   "cell_type": "code",
   "execution_count": 9,
   "id": "e1adede0",
   "metadata": {},
   "outputs": [
    {
     "name": "stdout",
     "output_type": "stream",
     "text": [
      "this is my new code \n"
     ]
    }
   ],
   "source": [
    "s.test()"
   ]
  },
  {
   "cell_type": "code",
   "execution_count": 10,
   "id": "16ae93b7",
   "metadata": {},
   "outputs": [],
   "source": [
    "class xyz():\n",
    "    def __init__(self , a , b ,c ):\n",
    "        self.a = a\n",
    "        self.b = b\n",
    "        self.c = c\n",
    "        \n",
    "    def test(self):\n",
    "        print(\"thiS is class xyz\")\n",
    "        \n",
    "        \n",
    "class xyz1():\n",
    "    def __init__(self, p , v ,q):\n",
    "        self.p = p\n",
    "        self.v = v\n",
    "        self.q = q\n",
    "        \n",
    "    def test(self):\n",
    "        print(\"this is class xyz1\")\n",
    "        \n",
    "\n",
    "class child(xyz , xyz1):\n",
    "    pass"
   ]
  },
  {
   "cell_type": "code",
   "execution_count": 11,
   "id": "2641c850",
   "metadata": {},
   "outputs": [],
   "source": [
    "n = child(3 , 4 ,5)"
   ]
  },
  {
   "cell_type": "code",
   "execution_count": 12,
   "id": "3b192b5d",
   "metadata": {},
   "outputs": [
    {
     "data": {
      "text/plain": [
       "3"
      ]
     },
     "execution_count": 12,
     "metadata": {},
     "output_type": "execute_result"
    }
   ],
   "source": [
    "n.a\n"
   ]
  },
  {
   "cell_type": "code",
   "execution_count": 13,
   "id": "9e167e69",
   "metadata": {},
   "outputs": [
    {
     "data": {
      "text/plain": [
       "4"
      ]
     },
     "execution_count": 13,
     "metadata": {},
     "output_type": "execute_result"
    }
   ],
   "source": [
    "n.b"
   ]
  },
  {
   "cell_type": "code",
   "execution_count": 14,
   "id": "890d2dc2",
   "metadata": {},
   "outputs": [
    {
     "data": {
      "text/plain": [
       "5"
      ]
     },
     "execution_count": 14,
     "metadata": {},
     "output_type": "execute_result"
    }
   ],
   "source": [
    "n.c"
   ]
  },
  {
   "cell_type": "code",
   "execution_count": 15,
   "id": "82458dbe",
   "metadata": {},
   "outputs": [
    {
     "name": "stdout",
     "output_type": "stream",
     "text": [
      "thiS is class xyz\n"
     ]
    }
   ],
   "source": [
    "n.test()"
   ]
  },
  {
   "cell_type": "code",
   "execution_count": 16,
   "id": "d0767567",
   "metadata": {},
   "outputs": [],
   "source": [
    "class xyz():\n",
    "    def __init__(self , a , b ,c ):\n",
    "        self.a = a\n",
    "        self.b = b\n",
    "        self.c = c\n",
    "        \n",
    "    def test(self):\n",
    "        print(\"thiS is class xyz\")\n",
    "        \n",
    "        \n",
    "class xyz1(xyz):\n",
    "      \n",
    "    def test1(self):\n",
    "        print(\"this is class xyz1\")\n",
    "        \n",
    "\n",
    "class  xyz2(xyz1):\n",
    "    \n",
    "    def test2(self):\n",
    "        print(\"this is my test2\")"
   ]
  },
  {
   "cell_type": "code",
   "execution_count": 17,
   "id": "5cf39efc",
   "metadata": {},
   "outputs": [],
   "source": [
    "v = xyz2(5,6,7)"
   ]
  },
  {
   "cell_type": "code",
   "execution_count": 18,
   "id": "cea7af98",
   "metadata": {},
   "outputs": [
    {
     "data": {
      "text/plain": [
       "5"
      ]
     },
     "execution_count": 18,
     "metadata": {},
     "output_type": "execute_result"
    }
   ],
   "source": [
    "v.a"
   ]
  },
  {
   "cell_type": "code",
   "execution_count": 19,
   "id": "a5e63fda",
   "metadata": {},
   "outputs": [
    {
     "data": {
      "text/plain": [
       "6"
      ]
     },
     "execution_count": 19,
     "metadata": {},
     "output_type": "execute_result"
    }
   ],
   "source": [
    "v.b"
   ]
  },
  {
   "cell_type": "code",
   "execution_count": 20,
   "id": "729c11d2",
   "metadata": {},
   "outputs": [
    {
     "data": {
      "text/plain": [
       "7"
      ]
     },
     "execution_count": 20,
     "metadata": {},
     "output_type": "execute_result"
    }
   ],
   "source": [
    "v.c"
   ]
  },
  {
   "cell_type": "code",
   "execution_count": 21,
   "id": "3b3ad98a",
   "metadata": {},
   "outputs": [],
   "source": [
    "s =xyz1(10,20 ,24)"
   ]
  },
  {
   "cell_type": "code",
   "execution_count": 22,
   "id": "b44aa083",
   "metadata": {},
   "outputs": [
    {
     "data": {
      "text/plain": [
       "10"
      ]
     },
     "execution_count": 22,
     "metadata": {},
     "output_type": "execute_result"
    }
   ],
   "source": [
    "s.a\n"
   ]
  },
  {
   "cell_type": "code",
   "execution_count": 23,
   "id": "47fc26a8",
   "metadata": {},
   "outputs": [
    {
     "data": {
      "text/plain": [
       "20"
      ]
     },
     "execution_count": 23,
     "metadata": {},
     "output_type": "execute_result"
    }
   ],
   "source": [
    "s.b"
   ]
  },
  {
   "cell_type": "code",
   "execution_count": 24,
   "id": "de883a5f",
   "metadata": {},
   "outputs": [
    {
     "data": {
      "text/plain": [
       "24"
      ]
     },
     "execution_count": 24,
     "metadata": {},
     "output_type": "execute_result"
    }
   ],
   "source": [
    "s.c"
   ]
  },
  {
   "cell_type": "code",
   "execution_count": 25,
   "id": "c485a824",
   "metadata": {},
   "outputs": [
    {
     "name": "stdout",
     "output_type": "stream",
     "text": [
      "Hello, this is some data.\n"
     ]
    }
   ],
   "source": [
    "class DataFile:\n",
    "    def __init__(self, file_name):\n",
    "        self.file_name = file_name\n",
    "\n",
    "    def read(self):\n",
    "        try:\n",
    "            with open(self.file_name, 'r') as file:\n",
    "                data = file.read()\n",
    "            return data\n",
    "        except FileNotFoundError:\n",
    "            return \"File not found.\"\n",
    "\n",
    "    def write(self, data):\n",
    "        with open(self.file_name, 'w') as file:\n",
    "            file.write(data)\n",
    "            return \"Data written to the file.\"\n",
    "\n",
    "\n",
    "file_handler = DataFile(\"example.txt\")\n",
    "\n",
    "\n",
    "file_handler.write(\"Hello, this is some data.\")\n",
    "\n",
    "\n",
    "file_data = file_handler.read()\n",
    "print(file_data)"
   ]
  },
  {
   "cell_type": "code",
   "execution_count": 26,
   "id": "1c47a7ec",
   "metadata": {},
   "outputs": [
    {
     "name": "stdout",
     "output_type": "stream",
     "text": [
      "Hello, this is some data.\n"
     ]
    },
    {
     "data": {
      "text/plain": [
       "'Data appended to the file.'"
      ]
     },
     "execution_count": 26,
     "metadata": {},
     "output_type": "execute_result"
    }
   ],
   "source": [
    "class DataFile:\n",
    "    def __init__(self, file_name):\n",
    "        self.file_name = file_name\n",
    "\n",
    "    def read(self):\n",
    "        try:\n",
    "            with open(self.file_name, 'r') as file:\n",
    "                data = file.read()\n",
    "            return data\n",
    "        except FileNotFoundError:\n",
    "            return \"File not found.\"\n",
    "\n",
    "    def write(self, data):\n",
    "        with open(self.file_name, 'w') as file:\n",
    "            file.write(data)\n",
    "            return \"Data written to the file.\"\n",
    "\n",
    "class ChildDataFile(DataFile):\n",
    "    def append(self, data):\n",
    "        with open(self.file_name, 'a') as file:\n",
    "            file.write(data)\n",
    "            return \"Data appended to the file.\"\n",
    "\n",
    "\n",
    "child_file_handler = ChildDataFile(\"example.txt\")\n",
    "\n",
    "\n",
    "child_file_handler.write(\"Hello, this is some data.\")\n",
    "\n",
    "\n",
    "file_data = child_file_handler.read()\n",
    "print(file_data)\n",
    "\n",
    "\n",
    "child_file_handler.append(\"\\nThis is additional data.\")"
   ]
  },
  {
   "cell_type": "code",
   "execution_count": 27,
   "id": "d0167941",
   "metadata": {},
   "outputs": [],
   "source": [
    "class test :\n",
    "    def __init__( self , a , b , c ):\n",
    "        self.a = a\n",
    "        self.b = b\n",
    "        self.c = c\n",
    "        \n",
    "class test1(test):\n",
    "    pass\n",
    "u = test(4 ,6,7)"
   ]
  },
  {
   "cell_type": "code",
   "execution_count": 28,
   "id": "ea6a3917",
   "metadata": {},
   "outputs": [],
   "source": [
    "V = test1(4 ,4, 5)"
   ]
  },
  {
   "cell_type": "code",
   "execution_count": 29,
   "id": "02afcf75",
   "metadata": {},
   "outputs": [],
   "source": [
    "class test :\n",
    "    def __init__( self):\n",
    "        self.a = 6\n",
    "       \n",
    "    class test1(test):\n",
    "        def __init__( self ):\n",
    "            self.a =1 \n",
    "u = test()"
   ]
  },
  {
   "cell_type": "code",
   "execution_count": 30,
   "id": "9da2044a",
   "metadata": {},
   "outputs": [
    {
     "data": {
      "text/plain": [
       "6"
      ]
     },
     "execution_count": 30,
     "metadata": {},
     "output_type": "execute_result"
    }
   ],
   "source": [
    "u.a"
   ]
  },
  {
   "cell_type": "code",
   "execution_count": 31,
   "id": "d04c9e5f",
   "metadata": {},
   "outputs": [],
   "source": [
    "class test:\n",
    "    def __init__(self , a, b ,c):\n",
    "        self._a = a\n",
    "        self.__b = b\n",
    "        self.c = c\n",
    "        \n",
    "v = test(3 ,4 ,5)"
   ]
  },
  {
   "cell_type": "code",
   "execution_count": 32,
   "id": "9dc7d564",
   "metadata": {},
   "outputs": [
    {
     "data": {
      "text/plain": [
       "3"
      ]
     },
     "execution_count": 32,
     "metadata": {},
     "output_type": "execute_result"
    }
   ],
   "source": [
    "v._a"
   ]
  },
  {
   "cell_type": "code",
   "execution_count": 33,
   "id": "ce7b1f55",
   "metadata": {},
   "outputs": [
    {
     "data": {
      "text/plain": [
       "4"
      ]
     },
     "execution_count": 33,
     "metadata": {},
     "output_type": "execute_result"
    }
   ],
   "source": [
    "v._test__b"
   ]
  },
  {
   "cell_type": "code",
   "execution_count": 34,
   "id": "2715e44f",
   "metadata": {},
   "outputs": [
    {
     "data": {
      "text/plain": [
       "5"
      ]
     },
     "execution_count": 34,
     "metadata": {},
     "output_type": "execute_result"
    }
   ],
   "source": [
    "v.c"
   ]
  },
  {
   "cell_type": "code",
   "execution_count": 35,
   "id": "95d846c0",
   "metadata": {},
   "outputs": [],
   "source": [
    "u = test( 26 , 10 , 62 )"
   ]
  },
  {
   "cell_type": "code",
   "execution_count": 36,
   "id": "a829c455",
   "metadata": {},
   "outputs": [
    {
     "data": {
      "text/plain": [
       "62"
      ]
     },
     "execution_count": 36,
     "metadata": {},
     "output_type": "execute_result"
    }
   ],
   "source": [
    "u.c"
   ]
  },
  {
   "cell_type": "code",
   "execution_count": 37,
   "id": "9e4efde7",
   "metadata": {},
   "outputs": [
    {
     "data": {
      "text/plain": [
       "26"
      ]
     },
     "execution_count": 37,
     "metadata": {},
     "output_type": "execute_result"
    }
   ],
   "source": [
    "u._a"
   ]
  },
  {
   "cell_type": "code",
   "execution_count": 43,
   "id": "574e4d9d",
   "metadata": {},
   "outputs": [],
   "source": [
    "class bonousclaculator :\n",
    "    def __init__ (self , empid , emprating):\n",
    "        self.empid = empid \n",
    "        self.empraing = emprating\n",
    "        self.__bonousforratingA = \"70%\"\n",
    "        self.__bonousforratingB = \"20%\"\n",
    "        self.__bonousforratingC =  \"50%\"\n",
    "        \n",
    "    def bonuscalculator(self):\n",
    "        if self.emprating == \"A\":\n",
    "            bonus = self.__bonusformatingA\n",
    "            return bonus\n",
    "         \n",
    "    \n",
    "        elif self.emparating == \"B\":\n",
    "            bonus = self.__bonusformatingB\n",
    "            return bonus\n",
    "        else:\n",
    "            bonus = self.__bonusformatingC\n",
    "            return bonus"
   ]
  },
  {
   "cell_type": "code",
   "execution_count": 44,
   "id": "0083f54c",
   "metadata": {},
   "outputs": [],
   "source": [
    "emp1 = bonousclaculator(101 ,\"A\")\n",
    "emp2 = bonousclaculator(102 , \"B\")\n",
    "emp3 = bonousclaculator(103 , \"c\")\n"
   ]
  },
  {
   "cell_type": "code",
   "execution_count": 46,
   "id": "696ed36c",
   "metadata": {},
   "outputs": [
    {
     "ename": "AttributeError",
     "evalue": "'bonousclaculator' object has no attribute 'bonusclaculator'",
     "output_type": "error",
     "traceback": [
      "\u001b[1;31m---------------------------------------------------------------------------\u001b[0m",
      "\u001b[1;31mAttributeError\u001b[0m                            Traceback (most recent call last)",
      "Cell \u001b[1;32mIn[46], line 1\u001b[0m\n\u001b[1;32m----> 1\u001b[0m emp1\u001b[38;5;241m.\u001b[39mbonusclaculator()\n",
      "\u001b[1;31mAttributeError\u001b[0m: 'bonousclaculator' object has no attribute 'bonusclaculator'"
     ]
    }
   ],
   "source": [
    " emp1.bonusclaculator()"
   ]
  },
  {
   "cell_type": "code",
   "execution_count": 47,
   "id": "250306b2",
   "metadata": {},
   "outputs": [
    {
     "ename": "AttributeError",
     "evalue": "'bonousclaculator' object has no attribute 'bonousclaculator'",
     "output_type": "error",
     "traceback": [
      "\u001b[1;31m---------------------------------------------------------------------------\u001b[0m",
      "\u001b[1;31mAttributeError\u001b[0m                            Traceback (most recent call last)",
      "Cell \u001b[1;32mIn[47], line 1\u001b[0m\n\u001b[1;32m----> 1\u001b[0m emp2\u001b[38;5;241m.\u001b[39mbonousclaculator()\n",
      "\u001b[1;31mAttributeError\u001b[0m: 'bonousclaculator' object has no attribute 'bonousclaculator'"
     ]
    }
   ],
   "source": [
    " emp2.bonousclaculator()"
   ]
  },
  {
   "cell_type": "code",
   "execution_count": 48,
   "id": "8991efa0",
   "metadata": {
    "scrolled": true
   },
   "outputs": [
    {
     "ename": "AttributeError",
     "evalue": "'bonousclaculator' object has no attribute 'emprating'",
     "output_type": "error",
     "traceback": [
      "\u001b[1;31m---------------------------------------------------------------------------\u001b[0m",
      "\u001b[1;31mAttributeError\u001b[0m                            Traceback (most recent call last)",
      "Cell \u001b[1;32mIn[48], line 1\u001b[0m\n\u001b[1;32m----> 1\u001b[0m emp2\u001b[38;5;241m.\u001b[39memprating\n",
      "\u001b[1;31mAttributeError\u001b[0m: 'bonousclaculator' object has no attribute 'emprating'"
     ]
    }
   ],
   "source": [
    "emp2.emprating"
   ]
  },
  {
   "cell_type": "markdown",
   "id": "f3f0a629",
   "metadata": {},
   "source": [
    "#THE_END"
   ]
  }
 ],
 "metadata": {
  "kernelspec": {
   "display_name": "Python 3 (ipykernel)",
   "language": "python",
   "name": "python3"
  },
  "language_info": {
   "codemirror_mode": {
    "name": "ipython",
    "version": 3
   },
   "file_extension": ".py",
   "mimetype": "text/x-python",
   "name": "python",
   "nbconvert_exporter": "python",
   "pygments_lexer": "ipython3",
   "version": "3.11.5"
  }
 },
 "nbformat": 4,
 "nbformat_minor": 5
}
