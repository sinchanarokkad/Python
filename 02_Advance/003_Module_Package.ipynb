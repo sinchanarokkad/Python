{
 "cells": [
  {
   "cell_type": "code",
   "execution_count": 1,
   "id": "9667d454",
   "metadata": {},
   "outputs": [],
   "source": [
    "import os\n"
   ]
  },
  {
   "cell_type": "code",
   "execution_count": 2,
   "id": "68572ce7",
   "metadata": {},
   "outputs": [],
   "source": [
    "def test(a,b):\n",
    "    return a+b\n"
   ]
  },
  {
   "cell_type": "code",
   "execution_count": 3,
   "id": "0f8923e0",
   "metadata": {},
   "outputs": [
    {
     "data": {
      "text/plain": [
       "(2, 3)"
      ]
     },
     "execution_count": 3,
     "metadata": {},
     "output_type": "execute_result"
    }
   ],
   "source": [
    "2,3\n"
   ]
  },
  {
   "cell_type": "code",
   "execution_count": 4,
   "id": "a73f7b1d",
   "metadata": {},
   "outputs": [
    {
     "data": {
      "text/plain": [
       "7"
      ]
     },
     "execution_count": 4,
     "metadata": {},
     "output_type": "execute_result"
    }
   ],
   "source": [
    "test(3,4)"
   ]
  },
  {
   "cell_type": "code",
   "execution_count": 5,
   "id": "ae22d1b1",
   "metadata": {},
   "outputs": [
    {
     "data": {
      "text/plain": [
       "'E:\\\\04_Python\\\\02_Advance'"
      ]
     },
     "execution_count": 5,
     "metadata": {},
     "output_type": "execute_result"
    }
   ],
   "source": [
    "pwd()"
   ]
  },
  {
   "cell_type": "code",
   "execution_count": 6,
   "id": "4480948e",
   "metadata": {},
   "outputs": [
    {
     "data": {
      "text/plain": [
       "['In',\n",
       " 'Out',\n",
       " '_',\n",
       " '_3',\n",
       " '_4',\n",
       " '_5',\n",
       " '__',\n",
       " '___',\n",
       " '__builtin__',\n",
       " '__builtins__',\n",
       " '__doc__',\n",
       " '__loader__',\n",
       " '__name__',\n",
       " '__package__',\n",
       " '__spec__',\n",
       " '_dh',\n",
       " '_i',\n",
       " '_i1',\n",
       " '_i2',\n",
       " '_i3',\n",
       " '_i4',\n",
       " '_i5',\n",
       " '_i6',\n",
       " '_ih',\n",
       " '_ii',\n",
       " '_iii',\n",
       " '_oh',\n",
       " 'exit',\n",
       " 'get_ipython',\n",
       " 'open',\n",
       " 'os',\n",
       " 'quit',\n",
       " 'test']"
      ]
     },
     "execution_count": 6,
     "metadata": {},
     "output_type": "execute_result"
    }
   ],
   "source": [
    "dir()"
   ]
  },
  {
   "cell_type": "code",
   "execution_count": 7,
   "id": "0f6fae8a",
   "metadata": {},
   "outputs": [
    {
     "name": "stdout",
     "output_type": "stream",
     "text": [
      " Volume in drive E is New Volume\n",
      " Volume Serial Number is 3C92-9CF3\n",
      "\n",
      " Directory of E:\\04_Python\\02_Advance\n",
      "\n",
      "30-10-2023  19:19    <DIR>          .\n",
      "30-10-2023  18:45    <DIR>          ..\n",
      "30-10-2023  18:53    <DIR>          .ipynb_checkpoints\n",
      "30-10-2023  18:52    <DIR>          __pycache__\n",
      "15-10-2023  22:13            30,652 001_Iterator_Generator_And_File_System.ipynb\n",
      "30-10-2023  19:19             7,582 003_Module_Package.ipynb\n",
      "29-10-2023  19:46            19,949 004_OOPS_part_01.ipynb\n",
      "28-10-2023  16:04            17,636 005_Oops_Part_02.ipynb\n",
      "29-10-2023  19:46            12,576 006_OOPS_part_03.ipynb\n",
      "23-10-2023  17:53    <DIR>          02_Exception_Handling\n",
      "28-10-2023  16:02                51 example.txt\n",
      "30-10-2023  18:49                 0 test1.py\n",
      "30-10-2023  18:57             1,534 Untitled.ipynb\n",
      "               8 File(s)         89,980 bytes\n",
      "               5 Dir(s)  214,617,157,632 bytes free\n"
     ]
    }
   ],
   "source": [
    "ls"
   ]
  },
  {
   "cell_type": "code",
   "execution_count": 8,
   "id": "e0c31690",
   "metadata": {},
   "outputs": [
    {
     "data": {
      "text/plain": [
       "<_io.TextIOWrapper name='test1.py' mode='w' encoding='cp1252'>"
      ]
     },
     "execution_count": 8,
     "metadata": {},
     "output_type": "execute_result"
    }
   ],
   "source": [
    "open(\"test1.py\",\"w\")"
   ]
  },
  {
   "cell_type": "code",
   "execution_count": 9,
   "id": "1ea34a13",
   "metadata": {},
   "outputs": [
    {
     "name": "stdout",
     "output_type": "stream",
     "text": [
      " Volume in drive E is New Volume\n",
      " Volume Serial Number is 3C92-9CF3\n",
      "\n",
      " Directory of E:\\04_Python\\02_Advance\n",
      "\n",
      "30-10-2023  19:19    <DIR>          .\n",
      "30-10-2023  18:45    <DIR>          ..\n",
      "30-10-2023  18:53    <DIR>          .ipynb_checkpoints\n",
      "30-10-2023  18:52    <DIR>          __pycache__\n",
      "15-10-2023  22:13            30,652 001_Iterator_Generator_And_File_System.ipynb\n",
      "30-10-2023  19:19             7,582 003_Module_Package.ipynb\n",
      "29-10-2023  19:46            19,949 004_OOPS_part_01.ipynb\n",
      "28-10-2023  16:04            17,636 005_Oops_Part_02.ipynb\n",
      "29-10-2023  19:46            12,576 006_OOPS_part_03.ipynb\n",
      "23-10-2023  17:53    <DIR>          02_Exception_Handling\n",
      "28-10-2023  16:02                51 example.txt\n",
      "30-10-2023  19:22                 0 test1.py\n",
      "30-10-2023  18:57             1,534 Untitled.ipynb\n",
      "               8 File(s)         89,980 bytes\n",
      "               5 Dir(s)  214,617,157,632 bytes free\n"
     ]
    }
   ],
   "source": [
    "ls"
   ]
  },
  {
   "cell_type": "code",
   "execution_count": 10,
   "id": "411fe713",
   "metadata": {},
   "outputs": [],
   "source": [
    "import test1"
   ]
  },
  {
   "cell_type": "code",
   "execution_count": 11,
   "id": "42dedb74",
   "metadata": {},
   "outputs": [
    {
     "ename": "AttributeError",
     "evalue": "module 'test1' has no attribute 'test'",
     "output_type": "error",
     "traceback": [
      "\u001b[1;31m---------------------------------------------------------------------------\u001b[0m",
      "\u001b[1;31mAttributeError\u001b[0m                            Traceback (most recent call last)",
      "Cell \u001b[1;32mIn[11], line 1\u001b[0m\n\u001b[1;32m----> 1\u001b[0m test1\u001b[38;5;241m.\u001b[39mtest(\u001b[38;5;241m3\u001b[39m,\u001b[38;5;241m4\u001b[39m)\n",
      "\u001b[1;31mAttributeError\u001b[0m: module 'test1' has no attribute 'test'"
     ]
    }
   ],
   "source": [
    "test1.test(3,4)"
   ]
  },
  {
   "cell_type": "code",
   "execution_count": 12,
   "id": "97a9af1e",
   "metadata": {},
   "outputs": [
    {
     "ename": "NameError",
     "evalue": "name 'test3' is not defined",
     "output_type": "error",
     "traceback": [
      "\u001b[1;31m---------------------------------------------------------------------------\u001b[0m",
      "\u001b[1;31mNameError\u001b[0m                                 Traceback (most recent call last)",
      "Cell \u001b[1;32mIn[12], line 1\u001b[0m\n\u001b[1;32m----> 1\u001b[0m test3\u001b[38;5;241m.\u001b[39mtest4(\u001b[38;5;241m5\u001b[39m , \u001b[38;5;241m9\u001b[39m)\n",
      "\u001b[1;31mNameError\u001b[0m: name 'test3' is not defined"
     ]
    }
   ],
   "source": [
    "test3.test4(5 , 9)"
   ]
  },
  {
   "cell_type": "code",
   "execution_count": 13,
   "id": "316310dc",
   "metadata": {},
   "outputs": [
    {
     "ename": "TypeError",
     "evalue": "'module' object is not callable",
     "output_type": "error",
     "traceback": [
      "\u001b[1;31m---------------------------------------------------------------------------\u001b[0m",
      "\u001b[1;31mTypeError\u001b[0m                                 Traceback (most recent call last)",
      "Cell \u001b[1;32mIn[13], line 1\u001b[0m\n\u001b[1;32m----> 1\u001b[0m test1(\u001b[38;5;241m4\u001b[39m,\u001b[38;5;241m5\u001b[39m)\n",
      "\u001b[1;31mTypeError\u001b[0m: 'module' object is not callable"
     ]
    }
   ],
   "source": [
    "test1(4,5)"
   ]
  },
  {
   "cell_type": "code",
   "execution_count": 14,
   "id": "fa41d2a2",
   "metadata": {},
   "outputs": [],
   "source": [
    "l = [3,5,6,7]"
   ]
  },
  {
   "cell_type": "code",
   "execution_count": 15,
   "id": "2c1f9354",
   "metadata": {},
   "outputs": [
    {
     "ename": "TypeError",
     "evalue": "len() takes exactly one argument (0 given)",
     "output_type": "error",
     "traceback": [
      "\u001b[1;31m---------------------------------------------------------------------------\u001b[0m",
      "\u001b[1;31mTypeError\u001b[0m                                 Traceback (most recent call last)",
      "Cell \u001b[1;32mIn[15], line 1\u001b[0m\n\u001b[1;32m----> 1\u001b[0m \u001b[38;5;28mlen\u001b[39m()\n",
      "\u001b[1;31mTypeError\u001b[0m: len() takes exactly one argument (0 given)"
     ]
    }
   ],
   "source": [
    "len()"
   ]
  },
  {
   "cell_type": "code",
   "execution_count": 16,
   "id": "bdae6909",
   "metadata": {},
   "outputs": [],
   "source": [
    "data = {\"name\":\"sinchu\" , \"course\":[\"data science\",\"blockchain\",\"drone\",\"robotics\", \"cloud\"],\"greeting\":\"greeting from sinch\"}\n",
    "\n",
    "def get_course ():\n",
    "    return data[\"course\"]\n",
    "\n",
    "def greeting():\n",
    "    return data['greeting']"
   ]
  },
  {
   "cell_type": "code",
   "execution_count": 18,
   "id": "a67c0bfd",
   "metadata": {},
   "outputs": [
    {
     "data": {
      "text/plain": [
       "'greeting from sinch'"
      ]
     },
     "execution_count": 18,
     "metadata": {},
     "output_type": "execute_result"
    }
   ],
   "source": [
    "greeting()"
   ]
  },
  {
   "cell_type": "code",
   "execution_count": 20,
   "id": "0d78fb3c",
   "metadata": {},
   "outputs": [
    {
     "name": "stdout",
     "output_type": "stream",
     "text": [
      "2\n",
      "4\n",
      "6\n",
      "8\n",
      "10\n"
     ]
    }
   ],
   "source": [
    "l=[2,4,6,8,10]\n",
    "for i in l:\n",
    "        print(i)"
   ]
  },
  {
   "cell_type": "code",
   "execution_count": 1,
   "id": "044c4114",
   "metadata": {},
   "outputs": [
    {
     "name": "stdout",
     "output_type": "stream",
     "text": [
      "45\n",
      "56\n",
      "89\n"
     ]
    }
   ],
   "source": [
    "l= [45 , 56 , 89]\n",
    "for i in l :\n",
    "    print(i)"
   ]
  },
  {
   "cell_type": "code",
   "execution_count": 1,
   "id": "e5527e76",
   "metadata": {},
   "outputs": [],
   "source": [
    "def great(name):\n",
    "    return \"hello,{name}!\""
   ]
  },
  {
   "cell_type": "code",
   "execution_count": 2,
   "id": "0c187b0e",
   "metadata": {},
   "outputs": [],
   "source": [
    "def add(a,b):\n",
    "    return a+b"
   ]
  },
  {
   "cell_type": "code",
   "execution_count": 6,
   "id": "2f184b25",
   "metadata": {},
   "outputs": [
    {
     "ename": "ModuleNotFoundError",
     "evalue": "No module named 'My_Module'",
     "output_type": "error",
     "traceback": [
      "\u001b[1;31m---------------------------------------------------------------------------\u001b[0m",
      "\u001b[1;31mModuleNotFoundError\u001b[0m                       Traceback (most recent call last)",
      "Cell \u001b[1;32mIn[6], line 1\u001b[0m\n\u001b[1;32m----> 1\u001b[0m \u001b[38;5;28;01mimport\u001b[39;00m \u001b[38;5;21;01mMy_Module\u001b[39;00m\n\u001b[0;32m      3\u001b[0m name \u001b[38;5;241m=\u001b[39m  \u001b[38;5;124m\"\u001b[39m\u001b[38;5;124msin\u001b[39m\u001b[38;5;124m\"\u001b[39m\n\u001b[0;32m      4\u001b[0m result \u001b[38;5;241m=\u001b[39m my_module\u001b[38;5;241m.\u001b[39mgreet(name)\n",
      "\u001b[1;31mModuleNotFoundError\u001b[0m: No module named 'My_Module'"
     ]
    }
   ],
   "source": [
    "import My_Module\n",
    "\n",
    "name =  \"sin\"\n",
    "result = my_module.greet(name)\n",
    "print(result)\n",
    "\n",
    "sum_result = my_module.add(3,5)\n",
    "print(\"3+4 = {sum_result}\")"
   ]
  },
  {
   "cell_type": "code",
   "execution_count": 12,
   "id": "45cdce2c",
   "metadata": {},
   "outputs": [],
   "source": [
    "\n",
    "\n",
    "class Circle:\n",
    "    def __init__(self, radius):\n",
    "        self.radius = radius\n",
    "\n",
    "    def area(self):\n",
    "        return 3.14159 * self.radius ** 2\n",
    "\n",
    "class Square:\n",
    "    def __init__(self, side_length):\n",
    "        self.side_length = side_length\n",
    "\n",
    "    def area(self):\n",
    "        return self.side_length**2"
   ]
  },
  {
   "cell_type": "code",
   "execution_count": 13,
   "id": "ac33dbaf",
   "metadata": {},
   "outputs": [
    {
     "ename": "ModuleNotFoundError",
     "evalue": "No module named 'shapes'",
     "output_type": "error",
     "traceback": [
      "\u001b[1;31m---------------------------------------------------------------------------\u001b[0m",
      "\u001b[1;31mModuleNotFoundError\u001b[0m                       Traceback (most recent call last)",
      "Cell \u001b[1;32mIn[13], line 1\u001b[0m\n\u001b[1;32m----> 1\u001b[0m \u001b[38;5;28;01mimport\u001b[39;00m \u001b[38;5;21;01mshapes\u001b[39;00m\n\u001b[0;32m      3\u001b[0m circle \u001b[38;5;241m=\u001b[39m shapes\u001b[38;5;241m.\u001b[39mCircle(\u001b[38;5;241m5\u001b[39m)\n\u001b[0;32m      4\u001b[0m \u001b[38;5;28mprint\u001b[39m(\u001b[38;5;124mf\u001b[39m\u001b[38;5;124m\"\u001b[39m\u001b[38;5;124mCircle Area: \u001b[39m\u001b[38;5;132;01m{\u001b[39;00mcircle\u001b[38;5;241m.\u001b[39marea()\u001b[38;5;132;01m}\u001b[39;00m\u001b[38;5;124m\"\u001b[39m)\n",
      "\u001b[1;31mModuleNotFoundError\u001b[0m: No module named 'shapes'"
     ]
    }
   ],
   "source": [
    "import shapes\n",
    "\n",
    "circle = shapes.Circle(5)\n",
    "print(f\"Circle Area: {circle.area()}\")\n",
    "\n",
    "square = shapes.Square(4)\n",
    "print(f\"Square Area: {square.area()}\")"
   ]
  },
  {
   "cell_type": "code",
   "execution_count": 14,
   "id": "b3704a3d",
   "metadata": {},
   "outputs": [
    {
     "ename": "SyntaxError",
     "evalue": "invalid non-printable character U+00A0 (3378807348.py, line 2)",
     "output_type": "error",
     "traceback": [
      "\u001b[1;36m  Cell \u001b[1;32mIn[14], line 2\u001b[1;36m\u001b[0m\n\u001b[1;33m    G = 9.81\u001b[0m\n\u001b[1;37m     ^\u001b[0m\n\u001b[1;31mSyntaxError\u001b[0m\u001b[1;31m:\u001b[0m invalid non-printable character U+00A0\n"
     ]
    }
   ],
   "source": [
    "PI = 3.14159\n",
    "G = 9.81"
   ]
  },
  {
   "cell_type": "code",
   "execution_count": 15,
   "id": "99500bf9",
   "metadata": {},
   "outputs": [
    {
     "ename": "SyntaxError",
     "evalue": "invalid syntax (1307525280.py, line 1)",
     "output_type": "error",
     "traceback": [
      "\u001b[1;36m  Cell \u001b[1;32mIn[15], line 1\u001b[1;36m\u001b[0m\n\u001b[1;33m    mport constants\u001b[0m\n\u001b[1;37m          ^\u001b[0m\n\u001b[1;31mSyntaxError\u001b[0m\u001b[1;31m:\u001b[0m invalid syntax\n"
     ]
    }
   ],
   "source": [
    "mport constants\n",
    "\n",
    "print(f\"Value of PI: {constants.PI}\")\n",
    "print(f\"Value of G: {constants.G}\")"
   ]
  },
  {
   "cell_type": "code",
   "execution_count": 17,
   "id": "cc8be617",
   "metadata": {},
   "outputs": [
    {
     "name": "stdout",
     "output_type": "stream",
     "text": [
      "hello,world\n"
     ]
    }
   ],
   "source": [
    "print(\"hello,world\")"
   ]
  },
  {
   "cell_type": "code",
   "execution_count": null,
   "id": "27e05b5a",
   "metadata": {},
   "outputs": [],
   "source": [
    "num1 = 5\n",
    "num2 = 7\n",
    "sum_reult = num2+num2\n",
    "print(\"the sum is: \",sum)"
   ]
  }
 ],
 "metadata": {
  "kernelspec": {
   "display_name": "Python 3 (ipykernel)",
   "language": "python",
   "name": "python3"
  },
  "language_info": {
   "codemirror_mode": {
    "name": "ipython",
    "version": 3
   },
   "file_extension": ".py",
   "mimetype": "text/x-python",
   "name": "python",
   "nbconvert_exporter": "python",
   "pygments_lexer": "ipython3",
   "version": "3.11.5"
  }
 },
 "nbformat": 4,
 "nbformat_minor": 5
}
