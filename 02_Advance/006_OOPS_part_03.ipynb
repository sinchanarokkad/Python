{
 "cells": [
  {
   "cell_type": "code",
   "execution_count": 1,
   "id": "f94134e6",
   "metadata": {},
   "outputs": [],
   "source": [
    "def test(a,b):\n",
    "    return a+b"
   ]
  },
  {
   "cell_type": "code",
   "execution_count": 2,
   "id": "e7cf160b",
   "metadata": {},
   "outputs": [
    {
     "data": {
      "text/plain": [
       "9"
      ]
     },
     "execution_count": 2,
     "metadata": {},
     "output_type": "execute_result"
    }
   ],
   "source": [
    "test(4,5)"
   ]
  },
  {
   "cell_type": "code",
   "execution_count": 3,
   "id": "bbf6fa82",
   "metadata": {},
   "outputs": [
    {
     "data": {
      "text/plain": [
       "'sinchuRokkad'"
      ]
     },
     "execution_count": 3,
     "metadata": {},
     "output_type": "execute_result"
    }
   ],
   "source": [
    "test(\"sinchu\",\"Rokkad\")"
   ]
  },
  {
   "cell_type": "code",
   "execution_count": 4,
   "id": "f67a39e8",
   "metadata": {},
   "outputs": [],
   "source": [
    "class insta :\n",
    "    def share_stories(self):\n",
    "        print(\"this will share the stories\")\n",
    "        \n",
    "class facebook :\n",
    "    def share_stories(self):\n",
    "        print(\"this will share stories\")"
   ]
  },
  {
   "cell_type": "code",
   "execution_count": 5,
   "id": "31a218e0",
   "metadata": {},
   "outputs": [],
   "source": [
    "def sharestories(app):\n",
    "    app.share_stories()"
   ]
  },
  {
   "cell_type": "code",
   "execution_count": 6,
   "id": "7b105322",
   "metadata": {},
   "outputs": [],
   "source": [
    "i = insta()\n",
    "f = facebook()"
   ]
  },
  {
   "cell_type": "code",
   "execution_count": 7,
   "id": "6bb88321",
   "metadata": {},
   "outputs": [
    {
     "name": "stdout",
     "output_type": "stream",
     "text": [
      "this will share the stories\n"
     ]
    }
   ],
   "source": [
    "sharestories(i)"
   ]
  },
  {
   "cell_type": "code",
   "execution_count": 8,
   "id": "d2805d36",
   "metadata": {},
   "outputs": [
    {
     "name": "stdout",
     "output_type": "stream",
     "text": [
      "this will share stories\n"
     ]
    }
   ],
   "source": [
    "sharestories(f)"
   ]
  },
  {
   "cell_type": "code",
   "execution_count": 9,
   "id": "f85887c7",
   "metadata": {},
   "outputs": [],
   "source": [
    "class social_media:\n",
    "    def share_stories(self):\n",
    "        print(\"this will share stories\")\n",
    "    def upload_stories(self):\n",
    "        print(\"this will upload stories\")\n",
    "\n",
    "class facebook( social_media):\n",
    "    def share_stories(self):\n",
    "        print(\"this will upload stories\")\n",
    "        \n",
    "class insta( social_media):\n",
    "    def share_stories(self):\n",
    "        print(\"this will upload stories\")"
   ]
  },
  {
   "cell_type": "code",
   "execution_count": 10,
   "id": "bb63f34d",
   "metadata": {},
   "outputs": [],
   "source": [
    "f = facebook()\n",
    "i = insta()"
   ]
  },
  {
   "cell_type": "code",
   "execution_count": 11,
   "id": "fbe5cb9f",
   "metadata": {},
   "outputs": [
    {
     "name": "stdout",
     "output_type": "stream",
     "text": [
      "this will upload stories\n"
     ]
    }
   ],
   "source": [
    "f.share_stories()"
   ]
  },
  {
   "cell_type": "code",
   "execution_count": 12,
   "id": "d6263514",
   "metadata": {},
   "outputs": [
    {
     "name": "stdout",
     "output_type": "stream",
     "text": [
      "this will upload stories\n"
     ]
    }
   ],
   "source": [
    "i.share_stories()"
   ]
  },
  {
   "cell_type": "code",
   "execution_count": 13,
   "id": "50cf0784",
   "metadata": {},
   "outputs": [
    {
     "name": "stdout",
     "output_type": "stream",
     "text": [
      "this will upload stories\n"
     ]
    }
   ],
   "source": [
    "f.upload_stories()"
   ]
  },
  {
   "cell_type": "code",
   "execution_count": 14,
   "id": "d262fe72",
   "metadata": {},
   "outputs": [],
   "source": [
    "class test(Exception):\n",
    "    def __init__(self , msg) :\n",
    "        self.msg = msg"
   ]
  },
  {
   "cell_type": "code",
   "execution_count": 15,
   "id": "b96e8f11",
   "metadata": {},
   "outputs": [
    {
     "name": "stdout",
     "output_type": "stream",
     "text": [
      "this is my own exception class\n"
     ]
    }
   ],
   "source": [
    "try:\n",
    "    raise(test(\"this is my own exception class\"))\n",
    "except test as t:\n",
    "    print(t)"
   ]
  },
  {
   "cell_type": "code",
   "execution_count": 16,
   "id": "8cf53360",
   "metadata": {},
   "outputs": [
    {
     "name": "stdout",
     "output_type": "stream",
     "text": [
      "this is my own exception class\n"
     ]
    }
   ],
   "source": [
    "try:\n",
    "    raise(test(\"this is my own exception class\"))\n",
    "    5/0\n",
    "except test as t :\n",
    "    print(t)"
   ]
  },
  {
   "cell_type": "code",
   "execution_count": 17,
   "id": "d7a2ee8f",
   "metadata": {},
   "outputs": [
    {
     "name": "stdout",
     "output_type": "stream",
     "text": [
      "Lion is a mammal and it makes a sound.\n",
      "Parrot is a bird and it chirps.\n",
      "Golden Retriever is a dog and it barks.\n"
     ]
    }
   ],
   "source": [
    "\n",
    "class Animal:\n",
    "    def __init__(self, name):\n",
    "        self.name = name\n",
    "\n",
    "    def speak(self):\n",
    "        pass\n",
    "\n",
    "class Mammal(Animal):\n",
    "    def speak(self):\n",
    "        return f\"{self.name} is a mammal and it makes a sound.\"\n",
    "\n",
    "class Bird(Animal):\n",
    "    def speak(self):\n",
    "        return f\"{self.name} is a bird and it chirps.\"\n",
    "\n",
    "\n",
    "class Dog(Mammal):\n",
    "    def speak(self):\n",
    "        return f\"{self.name} is a dog and it barks.\"\n",
    "\n",
    "\n",
    "lion = Mammal(\"Lion\")\n",
    "parrot = Bird(\"Parrot\")\n",
    "golden_retriever = Dog(\"Golden Retriever\")\n",
    "\n",
    "print(lion.speak()) \n",
    "print(parrot.speak())  \n",
    "print(golden_retriever.speak()) "
   ]
  },
  {
   "cell_type": "code",
   "execution_count": 18,
   "id": "6b0aa437",
   "metadata": {},
   "outputs": [
    {
     "name": "stdout",
     "output_type": "stream",
     "text": [
      "Bark\n",
      "Meow\n"
     ]
    }
   ],
   "source": [
    "class Animal:\n",
    "    def make_sound(self):\n",
    "        pass\n",
    "\n",
    "class Dog(Animal):\n",
    "    def make_sound(self):\n",
    "        return \"Bark\"\n",
    "\n",
    "class Cat(Animal):\n",
    "    def make_sound(self):\n",
    "        return \"Meow\"\n",
    "\n",
    "animals = [Dog(), Cat()]\n",
    "\n",
    "for animal in animals:\n",
    "    print(animal.make_sound())"
   ]
  },
  {
   "cell_type": "code",
   "execution_count": 19,
   "id": "606629c0",
   "metadata": {},
   "outputs": [
    {
     "name": "stdout",
     "output_type": "stream",
     "text": [
      "Custom Exception Caught: This is a custom exception.\n"
     ]
    }
   ],
   "source": [
    "class CustomException(Exception):\n",
    "    def _init_(self, message):\n",
    "        super()._init_(message)\n",
    "\n",
    "# Raise the custom exception\n",
    "try:\n",
    "    raise CustomException(\"This is a custom exception.\")\n",
    "except CustomException as ce:\n",
    "    print(f\"Custom Exception Caught: {ce}\")"
   ]
  },
  {
   "cell_type": "code",
   "execution_count": 20,
   "id": "1fd1362c",
   "metadata": {},
   "outputs": [
    {
     "ename": "SyntaxError",
     "evalue": "unterminated string literal (detected at line 32) (2156392329.py, line 32)",
     "output_type": "error",
     "traceback": [
      "\u001b[1;36m  Cell \u001b[1;32mIn[20], line 32\u001b[1;36m\u001b[0m\n\u001b[1;33m    print(f\"Modified Age: {student.get_age()}\u001b[0m\n\u001b[1;37m          ^\u001b[0m\n\u001b[1;31mSyntaxError\u001b[0m\u001b[1;31m:\u001b[0m unterminated string literal (detected at line 32)\n"
     ]
    }
   ],
   "source": [
    "class Student:\n",
    "    def _init_(self, name, age):\n",
    "        self.__name = name  \n",
    "        self.__age = age\n",
    "    \n",
    "    def get_name(self):\n",
    "        return self.__name\n",
    "\n",
    "    def get_age(self):\n",
    "        return self.__age\n",
    "\n",
    "   \n",
    "    def set_name(self, new_name):\n",
    "        self.__name = new_name\n",
    "\n",
    "    def set_age(self, new_age):\n",
    "        self.__age = new_age\n",
    "\n",
    "\n",
    "student = Student(\"Alice\", 20)\n",
    "\n",
    "\n",
    "print(f\"Name: {student.get_name()}\")\n",
    "print(f\"Age: {student.get_age()}\")\n",
    "\n",
    "\n",
    "student.set_name(\"Bob\")\n",
    "student.set_age(22)\n",
    "\n",
    "\n",
    "print(f\"Modified Name: {student.get_name()}\")\n",
    "print(f\"Modified Age: {student.get_age()}"
   ]
  },
  {
   "cell_type": "code",
   "execution_count": 21,
   "id": "0adec750",
   "metadata": {},
   "outputs": [
    {
     "name": "stdout",
     "output_type": "stream",
     "text": [
      "Circle Area: 78.5\n",
      "Rectangle Area: 24\n"
     ]
    }
   ],
   "source": [
    "class Shape:\n",
    "    def calculate_area(self):\n",
    "        pass\n",
    "\n",
    "class Circle(Shape):\n",
    "    def __init__(self, radius):\n",
    "        self.radius = radius\n",
    "\n",
    "    def calculate_area(self):\n",
    "        return 3.14 * self.radius * self.radius\n",
    "\n",
    "class Rectangle(Shape):\n",
    "    def __init__(self, length, width):\n",
    "        self.length = length\n",
    "        self.width = width\n",
    "\n",
    "    def calculate_area(self):\n",
    "        return self.length * self.width\n",
    "\n",
    "# Method overloading\n",
    "def get_area(shape):\n",
    "    return shape.calculate_area()\n",
    "\n",
    "# Create objects\n",
    "circle = Circle(5)\n",
    "rectangle = Rectangle(4, 6)\n",
    "\n",
    "# Method overriding\n",
    "print(f\"Circle Area: {get_area(circle)}\")\n",
    "print(f\"Rectangle Area: {get_area(rectangle)}\")"
   ]
  },
  {
   "cell_type": "code",
   "execution_count": 22,
   "id": "2105b349",
   "metadata": {},
   "outputs": [],
   "source": [
    "class test(Exception):\n",
    "    def __init__(self , msg):\n",
    "        self.msg = msg\n",
    "        "
   ]
  },
  {
   "cell_type": "code",
   "execution_count": 23,
   "id": "381ea3dc",
   "metadata": {},
   "outputs": [
    {
     "name": "stdout",
     "output_type": "stream",
     "text": [
      "this is my own excepting class\n"
     ]
    }
   ],
   "source": [
    "try:\n",
    "    raise(test(\"this is my own excepting class\"))\n",
    "except test as t :\n",
    "    print(t)\n",
    "    "
   ]
  },
  {
   "cell_type": "code",
   "execution_count": 24,
   "id": "231da2b1",
   "metadata": {},
   "outputs": [],
   "source": [
    "class abc:\n",
    "    pass"
   ]
  },
  {
   "cell_type": "code",
   "execution_count": 25,
   "id": "8a867962",
   "metadata": {},
   "outputs": [],
   "source": [
    "class data_project:\n",
    "    \n",
    "    def read_file(self):\n",
    "        pass\n",
    "    \n",
    "    def validate_file_name(self):\n",
    "        pass\n",
    "    \n",
    "    def validate_datatype(self):\n",
    "        pass\n",
    "    \n",
    "    def validate_db_conn(self):\n",
    "        pass\n",
    "    \n",
    "    def creat_conn(self):\n",
    "        pass\n",
    "    \n",
    "    def insert_data(self):\n",
    "        pass\n",
    "    \n",
    "    def delete_data(self):\n",
    "        pass\n",
    "    \n",
    "    def update_data(self):\n",
    "        pass\n",
    "    \n",
    "    def perform_data(self):\n",
    "        pass\n",
    "    \n",
    "    def perform_status(self):\n",
    "        pass\n",
    "    \n",
    "    def perform_status(self):\n",
    "        pass\n",
    "    \n",
    "    def perform_eda(self):\n",
    "        pass"
   ]
  },
  {
   "cell_type": "markdown",
   "id": "ef1a11ab",
   "metadata": {},
   "source": [
    "#TheEnd"
   ]
  }
 ],
 "metadata": {
  "kernelspec": {
   "display_name": "Python 3 (ipykernel)",
   "language": "python",
   "name": "python3"
  },
  "language_info": {
   "codemirror_mode": {
    "name": "ipython",
    "version": 3
   },
   "file_extension": ".py",
   "mimetype": "text/x-python",
   "name": "python",
   "nbconvert_exporter": "python",
   "pygments_lexer": "ipython3",
   "version": "3.11.5"
  }
 },
 "nbformat": 4,
 "nbformat_minor": 5
}
