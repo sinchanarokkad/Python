{
 "cells": [
  {
   "cell_type": "markdown",
   "id": "a3e99886",
   "metadata": {},
   "source": [
    "# Add\n"
   ]
  },
  {
   "cell_type": "code",
   "execution_count": 5,
   "id": "ee7c6af1",
   "metadata": {},
   "outputs": [
    {
     "name": "stdout",
     "output_type": "stream",
     "text": [
      "enter the number 1: 3\n",
      "enter the  number 2: 4\n",
      "3+4= 7\n"
     ]
    }
   ],
   "source": [
    "num1 = int(input(\"enter the number 1: \"))\n",
    "num2 = int(input(\"enter the  number 2: \"))\n",
    "sum_result = num1 + num2 \n",
    "print(f\"{num1}+{num2}= {sum_result}\")"
   ]
  },
  {
   "cell_type": "markdown",
   "id": "65366c8c",
   "metadata": {},
   "source": [
    "# division"
   ]
  },
  {
   "cell_type": "code",
   "execution_count": 1,
   "id": "4923bd89",
   "metadata": {},
   "outputs": [
    {
     "name": "stdout",
     "output_type": "stream",
     "text": [
      "enter the number 1: 8\n",
      "enter the  number 2: 4\n",
      "2.0\n"
     ]
    }
   ],
   "source": [
    "num3 = int(input(\"enter the number 1: \"))\n",
    "num4 = int(input(\"enter the  number 2: \") )\n",
    "if num3 == 0:\n",
    "    print(\"ERROR \")\n",
    "else:\n",
    "    div_result = num3 / num4 \n",
    "print(div_result)"
   ]
  },
  {
   "cell_type": "markdown",
   "id": "a1642ed0",
   "metadata": {},
   "source": [
    "# AREA_OF_TRIANGLE"
   ]
  },
  {
   "cell_type": "code",
   "execution_count": 8,
   "id": "493ceffd",
   "metadata": {},
   "outputs": [
    {
     "name": "stdout",
     "output_type": "stream",
     "text": [
      "enter the base: 10\n",
      "enter the height: 10\n",
      "the area of triangle is :  50.0\n"
     ]
    }
   ],
   "source": [
    "Base = int(input(\"enter the base: \"))\n",
    "Height = int(input(\"enter the height: \"))\n",
    "Area = 0.5 * Base * Height\n",
    "print(\"the area of triangle is : \",Area)"
   ]
  },
  {
   "cell_type": "markdown",
   "id": "77d504c7",
   "metadata": {},
   "source": [
    "# swap_variables"
   ]
  },
  {
   "cell_type": "code",
   "execution_count": 16,
   "id": "06c55286",
   "metadata": {},
   "outputs": [
    {
     "name": "stdout",
     "output_type": "stream",
     "text": [
      "enter the number a: 5\n",
      "enter the number b: 8\n",
      "swap number: 8 5\n"
     ]
    }
   ],
   "source": [
    "a = int(input(\"enter the number a: \"))\n",
    "b = int(input(\"enter the number b: \"))\n",
    "\n",
    "temp = a\n",
    "a = b\n",
    "b = temp\n",
    "print(\"swap number:\",a , b)"
   ]
  },
  {
   "cell_type": "markdown",
   "id": "d77dc6f2",
   "metadata": {},
   "source": [
    "# Km to M"
   ]
  },
  {
   "cell_type": "code",
   "execution_count": 17,
   "id": "06267106",
   "metadata": {},
   "outputs": [
    {
     "name": "stdout",
     "output_type": "stream",
     "text": [
      "enter the kilometer: 15\n",
      "conversion of KM to M:  9.320565\n"
     ]
    }
   ],
   "source": [
    "kilometer = float(input(\"enter the kilometer: \"))\n",
    "conversion_factor = 0.621371\n",
    "miles = kilometer * conversion_factor\n",
    "print(\"conversion of KM to M: \",miles)"
   ]
  },
  {
   "cell_type": "markdown",
   "id": "06e2de64",
   "metadata": {},
   "source": [
    "# Celcius_to_Fhrenite"
   ]
  },
  {
   "cell_type": "code",
   "execution_count": 19,
   "id": "7e86a29f",
   "metadata": {},
   "outputs": [
    {
     "name": "stdout",
     "output_type": "stream",
     "text": [
      "enter the celcius: 17\n",
      "62.6\n"
     ]
    }
   ],
   "source": [
    "celcius =float(input(\"enter the celcius: \"))\n",
    "fahrenite = (celcius* 9/5)+32\n",
    "print(fahrenite)"
   ]
  },
  {
   "cell_type": "markdown",
   "id": "cbaaab5b",
   "metadata": {},
   "source": [
    "# Calender"
   ]
  },
  {
   "cell_type": "code",
   "execution_count": 23,
   "id": "f12bcbd2",
   "metadata": {},
   "outputs": [
    {
     "name": "stdout",
     "output_type": "stream",
     "text": [
      "enter the year: 2005\n",
      "enter the month: 10\n",
      "    October 2005\n",
      "Mo Tu We Th Fr Sa Su\n",
      "                1  2\n",
      " 3  4  5  6  7  8  9\n",
      "10 11 12 13 14 15 16\n",
      "17 18 19 20 21 22 23\n",
      "24 25 26 27 28 29 30\n",
      "31\n",
      "\n"
     ]
    }
   ],
   "source": [
    "import calendar\n",
    "year = int(input(\"enter the year: \"))\n",
    "month = int(input(\"enter the month: \"))\n",
    "cal = calendar.month(year,month)\n",
    "print(cal)"
   ]
  },
  {
   "cell_type": "markdown",
   "id": "fd451ab1",
   "metadata": {},
   "source": [
    "# Prime_Number"
   ]
  },
  {
   "cell_type": "code",
   "execution_count": 31,
   "id": "a80b3c1a",
   "metadata": {},
   "outputs": [
    {
     "name": "stdout",
     "output_type": "stream",
     "text": [
      "Enter a number: 5\n",
      "5 is a prime number\n"
     ]
    }
   ],
   "source": [
    "num = int(input(\"Enter a number: \"))\n",
    "\n",
    "flag = False\n",
    "if num == 1:\n",
    "    print(f\"{num} is not a prime number\")\n",
    "elif num > 1:\n",
    "    for i in range(2, num):\n",
    "        if (num % i) == 0:\n",
    "            flag = True \n",
    "            break\n",
    "\n",
    "    if flag:\n",
    "        print(f\"{num} is not a prime number\")\n",
    "    else:\n",
    "        print(f\"{num} is a prime number\")\n"
   ]
  },
  {
   "cell_type": "code",
   "execution_count": 34,
   "id": "bcdfa31a",
   "metadata": {},
   "outputs": [
    {
     "name": "stdout",
     "output_type": "stream",
     "text": [
      "Prime numbers between 1 and 10 are:\n",
      "2\n",
      "3\n",
      "5\n",
      "7\n"
     ]
    }
   ],
   "source": [
    "lower = 1\n",
    "upper = 10\n",
    "print(\"Prime numbers between\", lower, \"and\", upper, \"are:\")\n",
    "for num in range(lower, upper + 1):\n",
    "    if num > 1:\n",
    "        for i in range(2, num):\n",
    "            if (num % i) == 0:\n",
    "                break\n",
    "        else:\n",
    "            print(num)\n",
    "\n",
    "            "
   ]
  },
  {
   "cell_type": "markdown",
   "id": "e191f8c0",
   "metadata": {},
   "source": [
    "# Table"
   ]
  },
  {
   "cell_type": "code",
   "execution_count": 36,
   "id": "60c3da03",
   "metadata": {},
   "outputs": [
    {
     "name": "stdout",
     "output_type": "stream",
     "text": [
      "Display multiplication table of: 13\n",
      "13 X 1 = 13\n",
      "13 X 2 = 26\n",
      "13 X 3 = 39\n",
      "13 X 4 = 52\n",
      "13 X 5 = 65\n",
      "13 X 6 = 78\n",
      "13 X 7 = 91\n",
      "13 X 8 = 104\n",
      "13 X 9 = 117\n",
      "13 X 10 = 130\n"
     ]
    }
   ],
   "source": [
    "num = int(input(\"Display multiplication table of: \"))\n",
    "for i in range(1, 11):\n",
    "    print(f\"{num} X {i} = {num*i}\")"
   ]
  },
  {
   "cell_type": "code",
   "execution_count": 38,
   "id": "7fa706cd",
   "metadata": {},
   "outputs": [
    {
     "name": "stdout",
     "output_type": "stream",
     "text": [
      "How many terms: 10\n",
      "Fibonacci sequence:\n",
      "0\n",
      "1\n",
      "1\n",
      "2\n",
      "3\n",
      "5\n",
      "8\n",
      "13\n",
      "21\n",
      "34\n"
     ]
    }
   ],
   "source": [
    "\n",
    "nterms = int(input(\"How many terms: \"))\n",
    "\n",
    "\n",
    "n1, n2 = 0, 1\n",
    "count = 0\n",
    "\n",
    "\n",
    "if nterms <= 0:\n",
    "    print(\"Please enter a positive integer\")\n",
    "\n",
    "elif nterms == 1:\n",
    "    print(\"Fibonacci sequence up to\", nterms, \":\")\n",
    "    print(n1)\n",
    "\n",
    "else:\n",
    "    print(\"Fibonacci sequence:\")\n",
    "    while count < nterms:\n",
    "        print(n1)\n",
    "        nth = n1 + n2\n",
    "        \n",
    "        n1 = n2\n",
    "        n2 = nth\n",
    "        count += 1\n"
   ]
  },
  {
   "cell_type": "markdown",
   "id": "df69f7cf",
   "metadata": {},
   "source": [
    "# Armstrong"
   ]
  },
  {
   "cell_type": "code",
   "execution_count": 41,
   "id": "fe6b9006",
   "metadata": {},
   "outputs": [
    {
     "name": "stdout",
     "output_type": "stream",
     "text": [
      "Enter a number: 0\n",
      "0 is an Armstrong number.\n"
     ]
    }
   ],
   "source": [
    "num = int(input(\"Enter a number: \"))\n",
    "\n",
    "num_str = str(num)\n",
    "num_digits = len(num_str)\n",
    "\n",
    "sum_of_powers = 0\n",
    "temp_num = num\n",
    "\n",
    "while temp_num > 0:\n",
    "    digit = temp_num % 10\n",
    "    sum_of_powers += digit ** num_digits\n",
    "    temp_num //= 10\n",
    "\n",
    "if sum_of_powers == num:\n",
    "    print(f\"{num} is an Armstrong number.\")\n",
    "else:\n",
    "    print(f\"{num} is not an Armstrong number.\")\n",
    "\n",
    "    "
   ]
  },
  {
   "cell_type": "markdown",
   "id": "7331e492",
   "metadata": {},
   "source": [
    "# sum_of_natural_number"
   ]
  },
  {
   "cell_type": "code",
   "execution_count": 4,
   "id": "9f2100c7",
   "metadata": {},
   "outputs": [
    {
     "name": "stdout",
     "output_type": "stream",
     "text": [
      "enter the number: 3\n",
      "the sum of natural number 3 is:  1\n",
      "the sum of natural number 3 is:  3\n"
     ]
    }
   ],
   "source": [
    "num = int(input(\"enter the number: \"))\n",
    "sum = 0\n",
    "for i in range (1,num):\n",
    "    sum+= i\n",
    "    print(\"the sum of natural number\",num,\"is: \",sum)"
   ]
  },
  {
   "cell_type": "markdown",
   "id": "d9b735e3",
   "metadata": {},
   "source": [
    "# Binary_octa_Hexa"
   ]
  },
  {
   "cell_type": "code",
   "execution_count": 5,
   "id": "4d6680cf",
   "metadata": {},
   "outputs": [
    {
     "name": "stdout",
     "output_type": "stream",
     "text": [
      "enter the number: 25\n",
      "the decimal value of 25 is: \n",
      "0b11001 is binary\n",
      "0o31 is octal\n",
      "0x19 is hexa\n"
     ]
    }
   ],
   "source": [
    "dec_num = int (input(\"enter the number: \"))\n",
    "print(\"the decimal value of\",dec_num,\"is: \")\n",
    "print(bin(dec_num),\"is binary\")\n",
    "print(oct(dec_num),\"is octal\")\n",
    "print(hex(dec_num),\"is hexa\")"
   ]
  },
  {
   "cell_type": "markdown",
   "id": "5cd228dd",
   "metadata": {},
   "source": [
    "# Body_Mass_index"
   ]
  },
  {
   "cell_type": "code",
   "execution_count": 10,
   "id": "34932b42",
   "metadata": {},
   "outputs": [
    {
     "name": "stdout",
     "output_type": "stream",
     "text": [
      "Enter your height in meters: 1.6\n",
      "Enter your weight in kg: 55\n",
      "Welcome to the BMI calculator.\n",
      "Your BMI is:  21.48\n",
      "Your weight is normal.\n"
     ]
    }
   ],
   "source": [
    "def bodymassindex(height, weight):\n",
    "    return round((weight / height**2),2)\n",
    "\n",
    "h = float(input(\"Enter your height in meters: \"))\n",
    "w = float(input(\"Enter your weight in kg: \"))\n",
    "\n",
    "print(\"Welcome to the BMI calculator.\")\n",
    "bmi = bodymassindex(h, w)\n",
    "print(\"Your BMI is: \", bmi)\n",
    "\n",
    "if bmi <= 18.5:\n",
    "    print(\"You are underweight.\")\n",
    "elif 18.5 < bmi <= 24.9:\n",
    "    print(\"Your weight is normal.\")\n",
    "elif 25 < bmi <= 29.29:\n",
    "    print(\"You are overweight.\")\n",
    "else:\n",
    "    print(\"You are obese.\")"
   ]
  },
  {
   "cell_type": "markdown",
   "id": "a2902020",
   "metadata": {},
   "source": [
    "# Natural_Logarithum"
   ]
  },
  {
   "cell_type": "code",
   "execution_count": 16,
   "id": "914b32e6",
   "metadata": {},
   "outputs": [
    {
     "name": "stdout",
     "output_type": "stream",
     "text": [
      "enter the number: 1.2\n",
      "The natural logrithum of 1.2 is : 0.1823215567939546\n"
     ]
    }
   ],
   "source": [
    "import math\n",
    "num = float(input(\"enter the number: \"))\n",
    "if num<=0:\n",
    "    print(\"enter the positive number\")\n",
    "else :\n",
    "    result = math.log(num)\n",
    "    print(f\"The natural logrithum of {num} is : {result}\")"
   ]
  },
  {
   "cell_type": "markdown",
   "id": "be1af6f2",
   "metadata": {},
   "source": [
    "# Cube_sum_of_natural_number"
   ]
  },
  {
   "cell_type": "code",
   "execution_count": 23,
   "id": "301bf781",
   "metadata": {},
   "outputs": [
    {
     "name": "stdout",
     "output_type": "stream",
     "text": [
      "Enter the value of n: 5\n"
     ]
    },
    {
     "ename": "TypeError",
     "evalue": "'int' object is not callable",
     "output_type": "error",
     "traceback": [
      "\u001b[1;31m---------------------------------------------------------------------------\u001b[0m",
      "\u001b[1;31mTypeError\u001b[0m                                 Traceback (most recent call last)",
      "Cell \u001b[1;32mIn[23], line 12\u001b[0m\n\u001b[0;32m     10\u001b[0m     \u001b[38;5;28mprint\u001b[39m(\u001b[38;5;124m\"\u001b[39m\u001b[38;5;124mPlease enter a positive integer.\u001b[39m\u001b[38;5;124m\"\u001b[39m)\n\u001b[0;32m     11\u001b[0m \u001b[38;5;28;01melse\u001b[39;00m:\n\u001b[1;32m---> 12\u001b[0m     result \u001b[38;5;241m=\u001b[39m cube_sum_of_natural_numbers(n)\n\u001b[0;32m     14\u001b[0m     \u001b[38;5;28mprint\u001b[39m(\u001b[38;5;124mf\u001b[39m\u001b[38;5;124m\"\u001b[39m\u001b[38;5;124mThe cube sum of the first \u001b[39m\u001b[38;5;132;01m{\u001b[39;00mn\u001b[38;5;132;01m}\u001b[39;00m\u001b[38;5;124m natural numbers is: \u001b[39m\u001b[38;5;132;01m{\u001b[39;00mresult\u001b[38;5;132;01m}\u001b[39;00m\u001b[38;5;124m\"\u001b[39m)\n",
      "Cell \u001b[1;32mIn[23], line 5\u001b[0m, in \u001b[0;36mcube_sum_of_natural_numbers\u001b[1;34m(n)\u001b[0m\n\u001b[0;32m      3\u001b[0m     \u001b[38;5;28;01mreturn\u001b[39;00m \u001b[38;5;241m0\u001b[39m\n\u001b[0;32m      4\u001b[0m \u001b[38;5;28;01melse\u001b[39;00m:\n\u001b[1;32m----> 5\u001b[0m     total \u001b[38;5;241m=\u001b[39m \u001b[38;5;28msum\u001b[39m([i\u001b[38;5;241m*\u001b[39m\u001b[38;5;241m*\u001b[39m\u001b[38;5;241m3\u001b[39m \u001b[38;5;28;01mfor\u001b[39;00m i \u001b[38;5;129;01min\u001b[39;00m \u001b[38;5;28mrange\u001b[39m(\u001b[38;5;241m1\u001b[39m, n \u001b[38;5;241m+\u001b[39m \u001b[38;5;241m1\u001b[39m)])\n\u001b[0;32m      6\u001b[0m \u001b[38;5;28;01mreturn\u001b[39;00m total\n",
      "\u001b[1;31mTypeError\u001b[0m: 'int' object is not callable"
     ]
    }
   ],
   "source": [
    "def cube_sum_of_natural_numbers(n):\n",
    "    if n <= 0:\n",
    "        return 0\n",
    "    else:\n",
    "        total = sum([i**3 for i in range(1, n + 1)])\n",
    "    return total\n",
    "\n",
    "n = int(input(\"Enter the value of n: \"))\n",
    "if n <= 0:\n",
    "    print(\"Please enter a positive integer.\")\n",
    "else:\n",
    "    result = cube_sum_of_natural_numbers(n)\n",
    "    \n",
    "    print(f\"The cube sum of the first {n} natural numbers is: {result}\")"
   ]
  },
  {
   "cell_type": "markdown",
   "id": "95ea1604",
   "metadata": {},
   "source": [
    "# ARRay"
   ]
  },
  {
   "cell_type": "code",
   "execution_count": 1,
   "id": "1c178047",
   "metadata": {},
   "outputs": [
    {
     "name": "stdout",
     "output_type": "stream",
     "text": [
      "Sum of the array is  6\n"
     ]
    }
   ],
   "source": [
    "arr = [1,2,3]\n",
    "ans = sum(arr)\n",
    "print('Sum of the array is ', ans)"
   ]
  },
  {
   "cell_type": "code",
   "execution_count": 6,
   "id": "433c5926",
   "metadata": {},
   "outputs": [
    {
     "name": "stdout",
     "output_type": "stream",
     "text": [
      "Sum of the array: 6\n"
     ]
    }
   ],
   "source": [
    "def sum_of_array(arr):\n",
    "    total = 0  \n",
    "    for element in arr:\n",
    "        total += element \n",
    "    return total\n",
    "\n",
    "\n",
    "array = [1, 2, 3]\n",
    "result = sum_of_array(array)\n",
    "print(\"Sum of the array:\", result)\n"
   ]
  },
  {
   "cell_type": "code",
   "execution_count": 11,
   "id": "1ec7c763",
   "metadata": {},
   "outputs": [
    {
     "name": "stdout",
     "output_type": "stream",
     "text": [
      "The largest element in the array is: 99\n"
     ]
    }
   ],
   "source": [
    "def find_largest_element(arr):\n",
    "    if not arr:\n",
    "        return \"Array is empty\"\n",
    "\n",
    "    largest_element = arr[0]\n",
    "\n",
    "    for element in arr:\n",
    "        if element > largest_element:\n",
    "            largest_element = element\n",
    "\n",
    "    return largest_element\n",
    "\n",
    "my_array = [10, 20, 30, 99]\n",
    "result = find_largest_element(my_array)\n",
    "print(f\"The largest element in the array is: {result}\")\n"
   ]
  },
  {
   "cell_type": "code",
   "execution_count": 15,
   "id": "a3253ce1",
   "metadata": {},
   "outputs": [
    {
     "name": "stdout",
     "output_type": "stream",
     "text": [
      "Original Array: [1, 2, 3, 4, 5]\n",
      "Rotated Array: [3, 4, 5, 1, 2]\n"
     ]
    }
   ],
   "source": [
    "def rotate_array(arr, d):\n",
    "    n = len(arr)\n",
    "    if d < 0 or d >= n:\n",
    "        return \"Invalid rotation value\"\n",
    "\n",
    "    rotated_arr = [0] * n\n",
    "\n",
    "    for i in range(n):\n",
    "        rotated_arr[i] = arr[(i + d) % n]\n",
    "\n",
    "    return rotated_arr\n",
    "\n",
    "arr = [1, 2, 3, 4, 5]\n",
    "d = 2\n",
    "result = rotate_array(arr, d)\n",
    "\n",
    "print(\"Original Array:\", arr)\n",
    "print(\"Rotated Array:\", result)\n"
   ]
  },
  {
   "cell_type": "code",
   "execution_count": 17,
   "id": "ce7825fd",
   "metadata": {},
   "outputs": [
    {
     "ename": "SyntaxError",
     "evalue": "invalid syntax (1969179649.py, line 6)",
     "output_type": "error",
     "traceback": [
      "\u001b[1;36m  Cell \u001b[1;32mIn[17], line 6\u001b[1;36m\u001b[0m\n\u001b[1;33m    elif arr[i] < arr[i - 1]:\u001b[0m\n\u001b[1;37m    ^\u001b[0m\n\u001b[1;31mSyntaxError\u001b[0m\u001b[1;31m:\u001b[0m invalid syntax\n"
     ]
    }
   ],
   "source": [
    "def is_monotonic(arr):\n",
    "     increasing = decreasing = True\n",
    "for i in range(1, len(arr)):\n",
    "    if arr[i] > arr[i - 1]:\n",
    "        decreasing = False\n",
    "elif arr[i] < arr[i - 1]:\n",
    "    increasing = False\n",
    "return increasing or decreasing\n",
    "\n",
    "arr1 = [1, 2, 2, 3] \n",
    "arr2 = [3, 2, 1] \n",
    "arr3 = [1, 3, 2, 4] \n",
    "print(\"arr1 is monotonic:\", is_monotonic(arr1))\n",
    "print(\"arr2 is monotonic:\", is_monotonic(arr2))\n",
    "print(\"arr3 is monotonic:\", is_monotonic(arr3))"
   ]
  },
  {
   "cell_type": "code",
   "execution_count": 18,
   "id": "cf8355d6",
   "metadata": {},
   "outputs": [
    {
     "name": "stdout",
     "output_type": "stream",
     "text": [
      "arr1 is monotonic: True\n",
      "arr2 is monotonic: True\n",
      "arr3 is monotonic: False\n"
     ]
    }
   ],
   "source": [
    "def is_monotonic(arr):\n",
    "    increasing = decreasing = True\n",
    "    \n",
    "    for i in range(1, len(arr)):\n",
    "        if arr[i] > arr[i - 1]:\n",
    "            decreasing = False\n",
    "        elif arr[i] < arr[i - 1]:\n",
    "            increasing = False\n",
    "\n",
    "    return increasing or decreasing\n",
    "\n",
    "arr1 = [1, 2, 2, 3]\n",
    "arr2 = [3, 2, 1]\n",
    "arr3 = [1, 3, 2, 4]\n",
    "\n",
    "print(\"arr1 is monotonic:\", is_monotonic(arr1))\n",
    "print(\"arr2 is monotonic:\", is_monotonic(arr2))\n",
    "print(\"arr3 is monotonic:\", is_monotonic(arr3))\n",
    "\n"
   ]
  },
  {
   "cell_type": "code",
   "execution_count": 10,
   "id": "4d4f8d34",
   "metadata": {},
   "outputs": [
    {
     "name": "stdout",
     "output_type": "stream",
     "text": [
      "57.3\n",
      "1145.9\n",
      "2864.8\n"
     ]
    }
   ],
   "source": [
    "import math\n",
    "\n",
    "def radian_to_degrees(radians):\n",
    "    degrees = radians *(180/math.pi)\n",
    "    return round(degrees,1)\n",
    "print(radian_to_degrees(1 ))\n",
    "print(radian_to_degrees(20 ))\n",
    "print(radian_to_degrees(50 ))"
   ]
  },
  {
   "cell_type": "code",
   "execution_count": 9,
   "id": "6b4834c4",
   "metadata": {},
   "outputs": [
    {
     "name": "stdout",
     "output_type": "stream",
     "text": [
      "57.3\n",
      "1145.9\n",
      "2864.8\n"
     ]
    }
   ],
   "source": [
    "print(radian_to_degrees(1))\n",
    "print(radian_to_degrees(20))\n",
    "print(radian_to_degrees(50))"
   ]
  },
  {
   "cell_type": "markdown",
   "id": "3fcf5e37",
   "metadata": {},
   "source": [
    "# Caluclator"
   ]
  },
  {
   "cell_type": "code",
   "execution_count": 6,
   "id": "3106ee12",
   "metadata": {},
   "outputs": [
    {
     "name": "stdout",
     "output_type": "stream",
     "text": [
      "Select operation.\n",
      "1. Add\n",
      "2. Subtract\n",
      "3. Multiply\n",
      "4. Divide\n",
      "Enter choice (1/2/3/4): 4\n",
      "Enter first number: 5\n",
      "Enter second number: 9\n",
      "5.0 / 9.0 = 0.5555555555555556\n",
      "Do you want to perform another calculation? (yes/no): yes\n",
      "Enter choice (1/2/3/4): 3\n",
      "Enter first number: 2\n",
      "Enter second number: 1\n",
      "2.0 * 1.0 = 2.0\n",
      "Do you want to perform another calculation? (yes/no): no\n"
     ]
    }
   ],
   "source": [
    "\n",
    "def add(x, y):\n",
    "    return x + y\n",
    "\n",
    "\n",
    "def subtract(x, y):\n",
    "    return x - y\n",
    "\n",
    "\n",
    "def multiply(x, y):\n",
    "    return x * y\n",
    "\n",
    "\n",
    "def divide(x, y):\n",
    "    return x / y\n",
    "\n",
    "\n",
    "print(\"Select operation.\")\n",
    "print(\"1. Add\")\n",
    "print(\"2. Subtract\")\n",
    "print(\"3. Multiply\")\n",
    "print(\"4. Divide\")\n",
    "\n",
    "\n",
    "while True:\n",
    "  \n",
    "    choice = input(\"Enter choice (1/2/3/4): \")\n",
    "\n",
    "   \n",
    "    if choice in ('1', '2', '3', '4'):\n",
    "        try:\n",
    "           \n",
    "            num1 = float(input(\"Enter first number: \"))\n",
    "            num2 = float(input(\"Enter second number: \"))\n",
    "        except ValueError:\n",
    "            print(\"Invalid input. Please enter a number.\")\n",
    "            continue\n",
    "\n",
    "       \n",
    "        if choice == '1':\n",
    "            print(num1, \"+\", num2, \"=\", add(num1, num2))\n",
    "        elif choice == '2':\n",
    "            print(num1, \"-\", num2, \"=\", subtract(num1, num2))\n",
    "        elif choice == '3':\n",
    "            print(num1, \"*\", num2, \"=\", multiply(num1, num2))\n",
    "        elif choice == '4':\n",
    "            # Check for division by zero\n",
    "            if num2 != 0:\n",
    "                print(num1, \"/\", num2, \"=\", divide(num1, num2))\n",
    "            else:\n",
    "                print(\"Cannot divide by zero.\")\n",
    "    else:\n",
    "        print(\"Invalid choice. Please enter a valid option (1/2/3/4).\")\n",
    "\n",
    "   \n",
    "    next_calculation = input(\"Do you want to perform another calculation? (yes/no): \")\n",
    "    if next_calculation.lower() != \"yes\":\n",
    "        break\n"
   ]
  },
  {
   "cell_type": "markdown",
   "id": "96374a5f",
   "metadata": {},
   "source": [
    "# Fibonacii"
   ]
  },
  {
   "cell_type": "code",
   "execution_count": 8,
   "id": "3d3b4441",
   "metadata": {},
   "outputs": [
    {
     "name": "stdout",
     "output_type": "stream",
     "text": [
      "Enter the number of terms (greater than 0): 9\n",
      "Fibonacci sequence:\n",
      "0\n",
      "1\n",
      "1\n",
      "2\n",
      "3\n",
      "5\n",
      "8\n",
      "13\n",
      "21\n"
     ]
    }
   ],
   "source": [
    "\n",
    "def recur_fibo(n):\n",
    "    if n <= 1:\n",
    "        return n\n",
    "    else:\n",
    "        return recur_fibo(n-1) + recur_fibo(n-2)\n",
    "\n",
    "\n",
    "nterms = int(input(\"Enter the number of terms (greater than 0): \"))\n",
    "\n",
    "if nterms <= 0:\n",
    "\n",
    "    print(\"Please enter a positive integer\")\n",
    "else:\n",
    "    print(\"Fibonacci sequence:\")\n",
    "    \n",
    "    \n",
    "    for i in range(nterms):\n",
    "        print(recur_fibo(i))\n"
   ]
  },
  {
   "cell_type": "markdown",
   "id": "e6147bdd",
   "metadata": {},
   "source": [
    "# Sorted_Alphabet"
   ]
  },
  {
   "cell_type": "code",
   "execution_count": 3,
   "id": "88215156",
   "metadata": {},
   "outputs": [
    {
     "name": "stdout",
     "output_type": "stream",
     "text": [
      "Enter a string: SiNcHaNa\n",
      "The sorted words are:\n",
      "Sinchana\n"
     ]
    }
   ],
   "source": [
    "my_str = input(\"Enter a string: \")\n",
    "\n",
    "words = [word.capitalize() for word in my_str.split()]\n",
    "\n",
    "words.sort()\n",
    "\n",
    "print(\"The sorted words are:\")\n",
    "for word in words:\n",
    "    print(word)"
   ]
  },
  {
   "cell_type": "code",
   "execution_count": 8,
   "id": "d545e18b",
   "metadata": {},
   "outputs": [
    {
     "name": "stdout",
     "output_type": "stream",
     "text": [
      "Enter a string: chetu!!__\n",
      "c\n",
      "ch\n",
      "che\n",
      "chet\n",
      "chetu\n"
     ]
    }
   ],
   "source": [
    "punctuations = '''!()-[]{};:'\"\\,<>./?@#$%^&*_~'''\n",
    "\n",
    "\n",
    "my_str = input(\"Enter a string: \")\n",
    "\n",
    "no_punct = \"\"\n",
    "for char in my_str:\n",
    "    if char not in punctuations:\n",
    "        no_punct = no_punct + char\n",
    "        print(no_punct)"
   ]
  },
  {
   "cell_type": "markdown",
   "id": "ed040750",
   "metadata": {},
   "source": [
    "# Sum_array"
   ]
  },
  {
   "cell_type": "code",
   "execution_count": 1,
   "id": "859a187e",
   "metadata": {},
   "outputs": [
    {
     "name": "stdout",
     "output_type": "stream",
     "text": [
      "Sum of the array is  6\n"
     ]
    }
   ],
   "source": [
    "arr = [1,2,3]\n",
    "ans = sum(arr)\n",
    "print('Sum of the array is ', ans)"
   ]
  },
  {
   "cell_type": "code",
   "execution_count": 3,
   "id": "45523ad3",
   "metadata": {},
   "outputs": [
    {
     "name": "stdout",
     "output_type": "stream",
     "text": [
      "Sum of the array: 70\n"
     ]
    }
   ],
   "source": [
    "def sum_of_array(arr):\n",
    "    total = 0  \n",
    "    for element in arr:\n",
    "        total += element  \n",
    "    return total\n",
    "\n",
    "\n",
    "array = [10,56,4]\n",
    "result = sum_of_array(array)\n",
    "print(\"Sum of the array:\", result)\n"
   ]
  },
  {
   "cell_type": "markdown",
   "id": "76bb8df4",
   "metadata": {},
   "source": [
    "# Largest_Element\n"
   ]
  },
  {
   "cell_type": "code",
   "execution_count": 5,
   "id": "37a933b9",
   "metadata": {},
   "outputs": [
    {
     "ename": "IndentationError",
     "evalue": "expected an indented block after function definition on line 1 (710449538.py, line 2)",
     "output_type": "error",
     "traceback": [
      "\u001b[1;36m  Cell \u001b[1;32mIn[5], line 2\u001b[1;36m\u001b[0m\n\u001b[1;33m    if not arr:\u001b[0m\n\u001b[1;37m    ^\u001b[0m\n\u001b[1;31mIndentationError\u001b[0m\u001b[1;31m:\u001b[0m expected an indented block after function definition on line 1\n"
     ]
    }
   ],
   "source": [
    "def find_largest_element(arr):\n",
    "if not arr:\n",
    "return \"Array is empty\"\n",
    "\n",
    "largest_element = arr[0]\n",
    "\n",
    "for element in arr:\n",
    "if element > largest_element:\n",
    "largest_element = element\n",
    "return largest_element\n",
    "\n",
    "my_array = [10, 20, 30, 99]\n",
    "result = find_largest_element(my_array)\n",
    "print(f\"The largest element in the array is: {result}\")"
   ]
  },
  {
   "cell_type": "code",
   "execution_count": null,
   "id": "4d0c430f",
   "metadata": {},
   "outputs": [],
   "source": []
  }
 ],
 "metadata": {
  "kernelspec": {
   "display_name": "Python 3 (ipykernel)",
   "language": "python",
   "name": "python3"
  },
  "language_info": {
   "codemirror_mode": {
    "name": "ipython",
    "version": 3
   },
   "file_extension": ".py",
   "mimetype": "text/x-python",
   "name": "python",
   "nbconvert_exporter": "python",
   "pygments_lexer": "ipython3",
   "version": "3.11.5"
  }
 },
 "nbformat": 4,
 "nbformat_minor": 5
}
