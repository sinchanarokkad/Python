{
 "cells": [
  {
   "cell_type": "markdown",
   "id": "a3e99886",
   "metadata": {},
   "source": [
    "# Add\n"
   ]
  },
  {
   "cell_type": "code",
   "execution_count": 5,
   "id": "ee7c6af1",
   "metadata": {},
   "outputs": [
    {
     "name": "stdout",
     "output_type": "stream",
     "text": [
      "enter the number 1: 3\n",
      "enter the  number 2: 4\n",
      "3+4= 7\n"
     ]
    }
   ],
   "source": [
    "num1 = int(input(\"enter the number 1: \"))\n",
    "num2 = int(input(\"enter the  number 2: \"))\n",
    "sum_result = num1 + num2 \n",
    "print(f\"{num1}+{num2}= {sum_result}\")"
   ]
  },
  {
   "cell_type": "markdown",
   "id": "53705a95",
   "metadata": {},
   "source": [
    "# division"
   ]
  },
  {
   "cell_type": "code",
   "execution_count": 1,
   "id": "4923bd89",
   "metadata": {},
   "outputs": [
    {
     "name": "stdout",
     "output_type": "stream",
     "text": [
      "enter the number 1: 8\n",
      "enter the  number 2: 4\n",
      "2.0\n"
     ]
    }
   ],
   "source": [
    "num3 = int(input(\"enter the number 1: \"))\n",
    "num4 = int(input(\"enter the  number 2: \") )\n",
    "if num3 == 0:\n",
    "    print(\"ERROR \")\n",
    "else:\n",
    "    div_result = num3 / num4 \n",
    "print(div_result)"
   ]
  },
  {
   "cell_type": "markdown",
   "id": "a1642ed0",
   "metadata": {},
   "source": [
    "# AREA_OF_TRIANGLE"
   ]
  },
  {
   "cell_type": "code",
   "execution_count": 8,
   "id": "493ceffd",
   "metadata": {},
   "outputs": [
    {
     "name": "stdout",
     "output_type": "stream",
     "text": [
      "enter the base: 10\n",
      "enter the height: 10\n",
      "the area of triangle is :  50.0\n"
     ]
    }
   ],
   "source": [
    "Base = int(input(\"enter the base: \"))\n",
    "Height = int(input(\"enter the height: \"))\n",
    "Area = 0.5 * Base * Height\n",
    "print(\"the area of triangle is : \",Area)"
   ]
  },
  {
   "cell_type": "markdown",
   "id": "7d325617",
   "metadata": {},
   "source": [
    "# swap_variables"
   ]
  },
  {
   "cell_type": "code",
   "execution_count": 16,
   "id": "06c55286",
   "metadata": {},
   "outputs": [
    {
     "name": "stdout",
     "output_type": "stream",
     "text": [
      "enter the number a: 5\n",
      "enter the number b: 8\n",
      "swap number: 8 5\n"
     ]
    }
   ],
   "source": [
    "a = int(input(\"enter the number a: \"))\n",
    "b = int(input(\"enter the number b: \"))\n",
    "\n",
    "temp = a\n",
    "a = b\n",
    "b = temp\n",
    "print(\"swap number:\",a , b)"
   ]
  },
  {
   "cell_type": "markdown",
   "id": "63fbb1ca",
   "metadata": {},
   "source": [
    "# Km to M"
   ]
  },
  {
   "cell_type": "code",
   "execution_count": 17,
   "id": "06267106",
   "metadata": {},
   "outputs": [
    {
     "name": "stdout",
     "output_type": "stream",
     "text": [
      "enter the kilometer: 15\n",
      "conversion of KM to M:  9.320565\n"
     ]
    }
   ],
   "source": [
    "kilometer = float(input(\"enter the kilometer: \"))\n",
    "conversion_factor = 0.621371\n",
    "miles = kilometer * conversion_factor\n",
    "print(\"conversion of KM to M: \",miles)"
   ]
  },
  {
   "cell_type": "markdown",
   "id": "520b3445",
   "metadata": {},
   "source": [
    "# Celcius_to_Fhrenite"
   ]
  },
  {
   "cell_type": "code",
   "execution_count": 19,
   "id": "7e86a29f",
   "metadata": {},
   "outputs": [
    {
     "name": "stdout",
     "output_type": "stream",
     "text": [
      "enter the celcius: 17\n",
      "62.6\n"
     ]
    }
   ],
   "source": [
    "celcius =float(input(\"enter the celcius: \"))\n",
    "fahrenite = (celcius* 9/5)+32\n",
    "print(fahrenite)"
   ]
  },
  {
   "cell_type": "markdown",
   "id": "6bbcfb30",
   "metadata": {},
   "source": [
    "# Calender"
   ]
  },
  {
   "cell_type": "code",
   "execution_count": 23,
   "id": "f12bcbd2",
   "metadata": {},
   "outputs": [
    {
     "name": "stdout",
     "output_type": "stream",
     "text": [
      "enter the year: 2005\n",
      "enter the month: 10\n",
      "    October 2005\n",
      "Mo Tu We Th Fr Sa Su\n",
      "                1  2\n",
      " 3  4  5  6  7  8  9\n",
      "10 11 12 13 14 15 16\n",
      "17 18 19 20 21 22 23\n",
      "24 25 26 27 28 29 30\n",
      "31\n",
      "\n"
     ]
    }
   ],
   "source": [
    "import calendar\n",
    "year = int(input(\"enter the year: \"))\n",
    "month = int(input(\"enter the month: \"))\n",
    "cal = calendar.month(year,month)\n",
    "print(cal)"
   ]
  },
  {
   "cell_type": "markdown",
   "id": "3a861a7b",
   "metadata": {},
   "source": [
    "# Prime_Number"
   ]
  },
  {
   "cell_type": "code",
   "execution_count": 31,
   "id": "a80b3c1a",
   "metadata": {},
   "outputs": [
    {
     "name": "stdout",
     "output_type": "stream",
     "text": [
      "Enter a number: 5\n",
      "5 is a prime number\n"
     ]
    }
   ],
   "source": [
    "num = int(input(\"Enter a number: \"))\n",
    "\n",
    "flag = False\n",
    "if num == 1:\n",
    "    print(f\"{num} is not a prime number\")\n",
    "elif num > 1:\n",
    "    for i in range(2, num):\n",
    "        if (num % i) == 0:\n",
    "            flag = True \n",
    "            break\n",
    "\n",
    "    if flag:\n",
    "        print(f\"{num} is not a prime number\")\n",
    "    else:\n",
    "        print(f\"{num} is a prime number\")\n"
   ]
  },
  {
   "cell_type": "code",
   "execution_count": 34,
   "id": "bcdfa31a",
   "metadata": {},
   "outputs": [
    {
     "name": "stdout",
     "output_type": "stream",
     "text": [
      "Prime numbers between 1 and 10 are:\n",
      "2\n",
      "3\n",
      "5\n",
      "7\n"
     ]
    }
   ],
   "source": [
    "lower = 1\n",
    "upper = 10\n",
    "print(\"Prime numbers between\", lower, \"and\", upper, \"are:\")\n",
    "for num in range(lower, upper + 1):\n",
    "    if num > 1:\n",
    "        for i in range(2, num):\n",
    "            if (num % i) == 0:\n",
    "                break\n",
    "        else:\n",
    "            print(num)\n",
    "\n",
    "            "
   ]
  },
  {
   "cell_type": "markdown",
   "id": "5e8f4831",
   "metadata": {},
   "source": [
    "# Table"
   ]
  },
  {
   "cell_type": "code",
   "execution_count": 36,
   "id": "60c3da03",
   "metadata": {},
   "outputs": [
    {
     "name": "stdout",
     "output_type": "stream",
     "text": [
      "Display multiplication table of: 13\n",
      "13 X 1 = 13\n",
      "13 X 2 = 26\n",
      "13 X 3 = 39\n",
      "13 X 4 = 52\n",
      "13 X 5 = 65\n",
      "13 X 6 = 78\n",
      "13 X 7 = 91\n",
      "13 X 8 = 104\n",
      "13 X 9 = 117\n",
      "13 X 10 = 130\n"
     ]
    }
   ],
   "source": [
    "num = int(input(\"Display multiplication table of: \"))\n",
    "for i in range(1, 11):\n",
    "    print(f\"{num} X {i} = {num*i}\")"
   ]
  },
  {
   "cell_type": "code",
   "execution_count": 38,
   "id": "7fa706cd",
   "metadata": {},
   "outputs": [
    {
     "name": "stdout",
     "output_type": "stream",
     "text": [
      "How many terms: 10\n",
      "Fibonacci sequence:\n",
      "0\n",
      "1\n",
      "1\n",
      "2\n",
      "3\n",
      "5\n",
      "8\n",
      "13\n",
      "21\n",
      "34\n"
     ]
    }
   ],
   "source": [
    "\n",
    "nterms = int(input(\"How many terms: \"))\n",
    "\n",
    "\n",
    "n1, n2 = 0, 1\n",
    "count = 0\n",
    "\n",
    "\n",
    "if nterms <= 0:\n",
    "    print(\"Please enter a positive integer\")\n",
    "\n",
    "elif nterms == 1:\n",
    "    print(\"Fibonacci sequence up to\", nterms, \":\")\n",
    "    print(n1)\n",
    "\n",
    "else:\n",
    "    print(\"Fibonacci sequence:\")\n",
    "    while count < nterms:\n",
    "        print(n1)\n",
    "        nth = n1 + n2\n",
    "        \n",
    "        n1 = n2\n",
    "        n2 = nth\n",
    "        count += 1\n"
   ]
  },
  {
   "cell_type": "markdown",
   "id": "b0a05596",
   "metadata": {},
   "source": [
    "# Armstrong"
   ]
  },
  {
   "cell_type": "code",
   "execution_count": 41,
   "id": "fe6b9006",
   "metadata": {},
   "outputs": [
    {
     "name": "stdout",
     "output_type": "stream",
     "text": [
      "Enter a number: 0\n",
      "0 is an Armstrong number.\n"
     ]
    }
   ],
   "source": [
    "num = int(input(\"Enter a number: \"))\n",
    "\n",
    "num_str = str(num)\n",
    "num_digits = len(num_str)\n",
    "\n",
    "sum_of_powers = 0\n",
    "temp_num = num\n",
    "\n",
    "while temp_num > 0:\n",
    "    digit = temp_num % 10\n",
    "    sum_of_powers += digit ** num_digits\n",
    "    temp_num //= 10\n",
    "\n",
    "if sum_of_powers == num:\n",
    "    print(f\"{num} is an Armstrong number.\")\n",
    "else:\n",
    "    print(f\"{num} is not an Armstrong number.\")\n",
    "\n",
    "    "
   ]
  },
  {
   "cell_type": "markdown",
   "id": "00312a02",
   "metadata": {},
   "source": [
    "# sum_of_natural_number"
   ]
  },
  {
   "cell_type": "code",
   "execution_count": 4,
   "id": "eaae5fb0",
   "metadata": {},
   "outputs": [
    {
     "name": "stdout",
     "output_type": "stream",
     "text": [
      "enter the number: 3\n",
      "the sum of natural number 3 is:  1\n",
      "the sum of natural number 3 is:  3\n"
     ]
    }
   ],
   "source": [
    "num = int(input(\"enter the number: \"))\n",
    "sum = 0\n",
    "for i in range (1,num):\n",
    "    sum+= i\n",
    "    print(\"the sum of natural number\",num,\"is: \",sum)"
   ]
  },
  {
   "cell_type": "code",
   "execution_count": null,
   "id": "db160326",
   "metadata": {},
   "outputs": [],
   "source": [
    "#Binary_octa_Hexa"
   ]
  },
  {
   "cell_type": "code",
   "execution_count": null,
   "id": "dc3d8679",
   "metadata": {},
   "outputs": [],
   "source": []
  },
  {
   "cell_type": "code",
   "execution_count": null,
   "id": "e15a12e7",
   "metadata": {},
   "outputs": [],
   "source": []
  },
  {
   "cell_type": "code",
   "execution_count": null,
   "id": "9b29972c",
   "metadata": {},
   "outputs": [],
   "source": []
  },
  {
   "cell_type": "code",
   "execution_count": null,
   "id": "9c24b1d6",
   "metadata": {},
   "outputs": [],
   "source": []
  },
  {
   "cell_type": "code",
   "execution_count": null,
   "id": "2198deba",
   "metadata": {},
   "outputs": [],
   "source": []
  },
  {
   "cell_type": "code",
   "execution_count": null,
   "id": "fde3ecc4",
   "metadata": {},
   "outputs": [],
   "source": []
  }
 ],
 "metadata": {
  "kernelspec": {
   "display_name": "Python 3 (ipykernel)",
   "language": "python",
   "name": "python3"
  },
  "language_info": {
   "codemirror_mode": {
    "name": "ipython",
    "version": 3
   },
   "file_extension": ".py",
   "mimetype": "text/x-python",
   "name": "python",
   "nbconvert_exporter": "python",
   "pygments_lexer": "ipython3",
   "version": "3.11.5"
  }
 },
 "nbformat": 4,
 "nbformat_minor": 5
}
