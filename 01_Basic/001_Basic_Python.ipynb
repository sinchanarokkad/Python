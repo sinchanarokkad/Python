{
 "cells": [
  {
   "cell_type": "markdown",
   "id": "a129f0c6",
   "metadata": {},
   "source": [
    "# <font color = 'Blue'> Basics Python"
   ]
  },
  {
   "cell_type": "code",
   "execution_count": 1,
   "id": "9080cb4d",
   "metadata": {},
   "outputs": [],
   "source": [
    " s = \"sinch\""
   ]
  },
  {
   "cell_type": "code",
   "execution_count": 2,
   "id": "0190c946",
   "metadata": {},
   "outputs": [
    {
     "data": {
      "text/plain": [
       "str"
      ]
     },
     "execution_count": 2,
     "metadata": {},
     "output_type": "execute_result"
    }
   ],
   "source": [
    "type(s)"
   ]
  },
  {
   "cell_type": "code",
   "execution_count": 3,
   "id": "4aa89374",
   "metadata": {},
   "outputs": [
    {
     "data": {
      "text/plain": [
       "'i'"
      ]
     },
     "execution_count": 3,
     "metadata": {},
     "output_type": "execute_result"
    }
   ],
   "source": [
    "s[1]"
   ]
  },
  {
   "cell_type": "code",
   "execution_count": 4,
   "id": "d1224545",
   "metadata": {},
   "outputs": [
    {
     "data": {
      "text/plain": [
       "'c'"
      ]
     },
     "execution_count": 4,
     "metadata": {},
     "output_type": "execute_result"
    }
   ],
   "source": [
    "s[3]"
   ]
  },
  {
   "cell_type": "code",
   "execution_count": 5,
   "id": "69fc3e54",
   "metadata": {},
   "outputs": [
    {
     "data": {
      "text/plain": [
       "'h'"
      ]
     },
     "execution_count": 5,
     "metadata": {},
     "output_type": "execute_result"
    }
   ],
   "source": [
    "s[4]"
   ]
  },
  {
   "cell_type": "code",
   "execution_count": 6,
   "id": "9096727f",
   "metadata": {},
   "outputs": [
    {
     "data": {
      "text/plain": [
       "'h'"
      ]
     },
     "execution_count": 6,
     "metadata": {},
     "output_type": "execute_result"
    }
   ],
   "source": [
    "s[-1]"
   ]
  },
  {
   "cell_type": "code",
   "execution_count": 7,
   "id": "30dcdf33",
   "metadata": {},
   "outputs": [
    {
     "data": {
      "text/plain": [
       "'i'"
      ]
     },
     "execution_count": 7,
     "metadata": {},
     "output_type": "execute_result"
    }
   ],
   "source": [
    "s[-4]"
   ]
  },
  {
   "cell_type": "code",
   "execution_count": 8,
   "id": "14289343",
   "metadata": {},
   "outputs": [
    {
     "ename": "IndexError",
     "evalue": "string index out of range",
     "output_type": "error",
     "traceback": [
      "\u001b[1;31m---------------------------------------------------------------------------\u001b[0m",
      "\u001b[1;31mIndexError\u001b[0m                                Traceback (most recent call last)",
      "Cell \u001b[1;32mIn[8], line 1\u001b[0m\n\u001b[1;32m----> 1\u001b[0m s[\u001b[38;5;241m100\u001b[39m]\n",
      "\u001b[1;31mIndexError\u001b[0m: string index out of range"
     ]
    }
   ],
   "source": [
    "s[100]"
   ]
  },
  {
   "cell_type": "code",
   "execution_count": 9,
   "id": "842c9560",
   "metadata": {},
   "outputs": [],
   "source": [
    "a='my name is sinch'"
   ]
  },
  {
   "cell_type": "code",
   "execution_count": 10,
   "id": "f316cebe",
   "metadata": {},
   "outputs": [
    {
     "data": {
      "text/plain": [
       "'e'"
      ]
     },
     "execution_count": 10,
     "metadata": {},
     "output_type": "execute_result"
    }
   ],
   "source": [
    "a[0-10]"
   ]
  },
  {
   "cell_type": "code",
   "execution_count": 11,
   "id": "5c87f965",
   "metadata": {},
   "outputs": [
    {
     "data": {
      "text/plain": [
       "'my name is'"
      ]
     },
     "execution_count": 11,
     "metadata": {},
     "output_type": "execute_result"
    }
   ],
   "source": [
    "a[0:10]"
   ]
  },
  {
   "cell_type": "code",
   "execution_count": 12,
   "id": "a2e465fe",
   "metadata": {},
   "outputs": [
    {
     "data": {
      "text/plain": [
       "'my name is sinch'"
      ]
     },
     "execution_count": 12,
     "metadata": {},
     "output_type": "execute_result"
    }
   ],
   "source": [
    "a[0:100]"
   ]
  },
  {
   "cell_type": "code",
   "execution_count": 13,
   "id": "aea3270c",
   "metadata": {},
   "outputs": [
    {
     "data": {
      "text/plain": [
       "'sinc'"
      ]
     },
     "execution_count": 13,
     "metadata": {},
     "output_type": "execute_result"
    }
   ],
   "source": [
    "a[-5:-1]"
   ]
  },
  {
   "cell_type": "code",
   "execution_count": 14,
   "id": "5f669ff4",
   "metadata": {},
   "outputs": [
    {
     "data": {
      "text/plain": [
       "'my name is sinch'"
      ]
     },
     "execution_count": 14,
     "metadata": {},
     "output_type": "execute_result"
    }
   ],
   "source": [
    "a[0:200:1]"
   ]
  },
  {
   "cell_type": "code",
   "execution_count": 15,
   "id": "feaf6000",
   "metadata": {},
   "outputs": [
    {
     "data": {
      "text/plain": [
       "'mnesih'"
      ]
     },
     "execution_count": 15,
     "metadata": {},
     "output_type": "execute_result"
    }
   ],
   "source": [
    "a[0:120:3]"
   ]
  },
  {
   "cell_type": "code",
   "execution_count": 16,
   "id": "9e035ae6",
   "metadata": {},
   "outputs": [
    {
     "data": {
      "text/plain": [
       "'m aei ic'"
      ]
     },
     "execution_count": 16,
     "metadata": {},
     "output_type": "execute_result"
    }
   ],
   "source": [
    "a[0:100:2]"
   ]
  },
  {
   "cell_type": "code",
   "execution_count": 17,
   "id": "e264d2cd",
   "metadata": {},
   "outputs": [
    {
     "data": {
      "text/plain": [
       "'my name is sinch'"
      ]
     },
     "execution_count": 17,
     "metadata": {},
     "output_type": "execute_result"
    }
   ],
   "source": [
    "a[0:100:1]"
   ]
  },
  {
   "cell_type": "code",
   "execution_count": 18,
   "id": "4a4d20d1",
   "metadata": {},
   "outputs": [
    {
     "ename": "SyntaxError",
     "evalue": "invalid syntax (621232271.py, line 1)",
     "output_type": "error",
     "traceback": [
      "\u001b[1;36m  Cell \u001b[1;32mIn[18], line 1\u001b[1;36m\u001b[0m\n\u001b[1;33m    a[0:100;-1]\u001b[0m\n\u001b[1;37m           ^\u001b[0m\n\u001b[1;31mSyntaxError\u001b[0m\u001b[1;31m:\u001b[0m invalid syntax\n"
     ]
    }
   ],
   "source": [
    "a[0:100;-1]"
   ]
  },
  {
   "cell_type": "code",
   "execution_count": 19,
   "id": "e38e3064",
   "metadata": {},
   "outputs": [
    {
     "data": {
      "text/plain": [
       "''"
      ]
     },
     "execution_count": 19,
     "metadata": {},
     "output_type": "execute_result"
    }
   ],
   "source": [
    "a[0:100:-1]"
   ]
  },
  {
   "cell_type": "code",
   "execution_count": 20,
   "id": "7e284380",
   "metadata": {},
   "outputs": [
    {
     "data": {
      "text/plain": [
       "'hcn'"
      ]
     },
     "execution_count": 20,
     "metadata": {},
     "output_type": "execute_result"
    }
   ],
   "source": [
    "a[-1:-4:-1]"
   ]
  },
  {
   "cell_type": "code",
   "execution_count": 21,
   "id": "d0ffec12",
   "metadata": {},
   "outputs": [
    {
     "data": {
      "text/plain": [
       "'my name is sinch'"
      ]
     },
     "execution_count": 21,
     "metadata": {},
     "output_type": "execute_result"
    }
   ],
   "source": [
    "a\n"
   ]
  },
  {
   "cell_type": "code",
   "execution_count": 22,
   "id": "87dba9b0",
   "metadata": {},
   "outputs": [
    {
     "data": {
      "text/plain": [
       "'my name is sinch'"
      ]
     },
     "execution_count": 22,
     "metadata": {},
     "output_type": "execute_result"
    }
   ],
   "source": [
    "a[::]"
   ]
  },
  {
   "cell_type": "code",
   "execution_count": 23,
   "id": "55d90270",
   "metadata": {},
   "outputs": [
    {
     "ename": "NameError",
     "evalue": "name 'A' is not defined",
     "output_type": "error",
     "traceback": [
      "\u001b[1;31m---------------------------------------------------------------------------\u001b[0m",
      "\u001b[1;31mNameError\u001b[0m                                 Traceback (most recent call last)",
      "Cell \u001b[1;32mIn[23], line 1\u001b[0m\n\u001b[1;32m----> 1\u001b[0m A[:\u001b[38;5;241m8\u001b[39m]\n",
      "\u001b[1;31mNameError\u001b[0m: name 'A' is not defined"
     ]
    }
   ],
   "source": [
    "A[:8]"
   ]
  },
  {
   "cell_type": "code",
   "execution_count": null,
   "id": "ee6784df",
   "metadata": {},
   "outputs": [],
   "source": [
    "a[:8]"
   ]
  },
  {
   "cell_type": "code",
   "execution_count": 24,
   "id": "2e0bad3e",
   "metadata": {},
   "outputs": [
    {
     "data": {
      "text/plain": [
       "'c'"
      ]
     },
     "execution_count": 24,
     "metadata": {},
     "output_type": "execute_result"
    }
   ],
   "source": [
    "a[-2]"
   ]
  },
  {
   "cell_type": "code",
   "execution_count": 25,
   "id": "7a2380b0",
   "metadata": {},
   "outputs": [
    {
     "data": {
      "text/plain": [
       "'ch'"
      ]
     },
     "execution_count": 25,
     "metadata": {},
     "output_type": "execute_result"
    }
   ],
   "source": [
    "a[-2:]"
   ]
  },
  {
   "cell_type": "code",
   "execution_count": 26,
   "id": "0f6c8051",
   "metadata": {},
   "outputs": [
    {
     "data": {
      "text/plain": [
       "'c'"
      ]
     },
     "execution_count": 26,
     "metadata": {},
     "output_type": "execute_result"
    }
   ],
   "source": [
    "a[-2:-1]"
   ]
  },
  {
   "cell_type": "code",
   "execution_count": 27,
   "id": "01ba1e37",
   "metadata": {},
   "outputs": [
    {
     "data": {
      "text/plain": [
       "'hcnis si eman ym'"
      ]
     },
     "execution_count": 27,
     "metadata": {},
     "output_type": "execute_result"
    }
   ],
   "source": [
    "a[::-1]"
   ]
  },
  {
   "cell_type": "code",
   "execution_count": 28,
   "id": "3d13dcb7",
   "metadata": {},
   "outputs": [
    {
     "data": {
      "text/plain": [
       "''"
      ]
     },
     "execution_count": 28,
     "metadata": {},
     "output_type": "execute_result"
    }
   ],
   "source": [
    "a[-5:-5]"
   ]
  },
  {
   "cell_type": "code",
   "execution_count": 29,
   "id": "a1e0e2e7",
   "metadata": {},
   "outputs": [],
   "source": [
    "b='i am nhce'"
   ]
  },
  {
   "cell_type": "code",
   "execution_count": 30,
   "id": "a868fff3",
   "metadata": {},
   "outputs": [
    {
     "data": {
      "text/plain": [
       "''"
      ]
     },
     "execution_count": 30,
     "metadata": {},
     "output_type": "execute_result"
    }
   ],
   "source": [
    "a[-5:5:1]"
   ]
  },
  {
   "cell_type": "code",
   "execution_count": 31,
   "id": "7b6f5f41",
   "metadata": {},
   "outputs": [
    {
     "data": {
      "text/plain": [
       "'s si e'"
      ]
     },
     "execution_count": 31,
     "metadata": {},
     "output_type": "execute_result"
    }
   ],
   "source": [
    "a[-5:5:-1]"
   ]
  },
  {
   "cell_type": "code",
   "execution_count": 32,
   "id": "9002e36d",
   "metadata": {},
   "outputs": [
    {
     "ename": "SyntaxError",
     "evalue": "invalid syntax (2944857706.py, line 1)",
     "output_type": "error",
     "traceback": [
      "\u001b[1;36m  Cell \u001b[1;32mIn[32], line 1\u001b[1;36m\u001b[0m\n\u001b[1;33m    b[-5:5;-1]\u001b[0m\n\u001b[1;37m          ^\u001b[0m\n\u001b[1;31mSyntaxError\u001b[0m\u001b[1;31m:\u001b[0m invalid syntax\n"
     ]
    }
   ],
   "source": [
    "b[-5:5;-1]"
   ]
  },
  {
   "cell_type": "code",
   "execution_count": 33,
   "id": "5d174bf2",
   "metadata": {},
   "outputs": [],
   "source": [
    "d='i am working with rd'"
   ]
  },
  {
   "cell_type": "code",
   "execution_count": 34,
   "id": "363d586e",
   "metadata": {},
   "outputs": [
    {
     "data": {
      "text/plain": [
       "'tiw gnikro'"
      ]
     },
     "execution_count": 34,
     "metadata": {},
     "output_type": "execute_result"
    }
   ],
   "source": [
    "d[-5:5:-1]"
   ]
  },
  {
   "cell_type": "code",
   "execution_count": 35,
   "id": "90ea996d",
   "metadata": {},
   "outputs": [
    {
     "data": {
      "text/plain": [
       "'sinchanasinchanasinchana'"
      ]
     },
     "execution_count": 35,
     "metadata": {},
     "output_type": "execute_result"
    }
   ],
   "source": [
    "\"sinchana\"*3"
   ]
  },
  {
   "cell_type": "code",
   "execution_count": 36,
   "id": "d0b9f008",
   "metadata": {},
   "outputs": [
    {
     "data": {
      "text/plain": [
       "'sinchrokkad'"
      ]
     },
     "execution_count": 36,
     "metadata": {},
     "output_type": "execute_result"
    }
   ],
   "source": [
    "\"sinch\" + \"rokkad\""
   ]
  },
  {
   "cell_type": "code",
   "execution_count": 37,
   "id": "5f9c778c",
   "metadata": {},
   "outputs": [
    {
     "data": {
      "text/plain": [
       "20"
      ]
     },
     "execution_count": 37,
     "metadata": {},
     "output_type": "execute_result"
    }
   ],
   "source": [
    "len(d)"
   ]
  },
  {
   "cell_type": "code",
   "execution_count": 38,
   "id": "53635e24",
   "metadata": {},
   "outputs": [
    {
     "ename": "NameError",
     "evalue": "name 'i' is not defined",
     "output_type": "error",
     "traceback": [
      "\u001b[1;31m---------------------------------------------------------------------------\u001b[0m",
      "\u001b[1;31mNameError\u001b[0m                                 Traceback (most recent call last)",
      "Cell \u001b[1;32mIn[38], line 1\u001b[0m\n\u001b[1;32m----> 1\u001b[0m d\u001b[38;5;241m.\u001b[39mfind(i)\n",
      "\u001b[1;31mNameError\u001b[0m: name 'i' is not defined"
     ]
    }
   ],
   "source": [
    "d.find(i)"
   ]
  },
  {
   "cell_type": "code",
   "execution_count": 39,
   "id": "0298c7b7",
   "metadata": {},
   "outputs": [
    {
     "data": {
      "text/plain": [
       "0"
      ]
     },
     "execution_count": 39,
     "metadata": {},
     "output_type": "execute_result"
    }
   ],
   "source": [
    "d.find('i')"
   ]
  },
  {
   "cell_type": "code",
   "execution_count": 40,
   "id": "0b17844e",
   "metadata": {},
   "outputs": [
    {
     "data": {
      "text/plain": [
       "'i am working with rd'"
      ]
     },
     "execution_count": 40,
     "metadata": {},
     "output_type": "execute_result"
    }
   ],
   "source": [
    "d"
   ]
  },
  {
   "cell_type": "code",
   "execution_count": 41,
   "id": "821fad2c",
   "metadata": {},
   "outputs": [
    {
     "ename": "NameError",
     "evalue": "name 'r' is not defined",
     "output_type": "error",
     "traceback": [
      "\u001b[1;31m---------------------------------------------------------------------------\u001b[0m",
      "\u001b[1;31mNameError\u001b[0m                                 Traceback (most recent call last)",
      "Cell \u001b[1;32mIn[41], line 1\u001b[0m\n\u001b[1;32m----> 1\u001b[0m d\u001b[38;5;241m.\u001b[39mfind(r)\n",
      "\u001b[1;31mNameError\u001b[0m: name 'r' is not defined"
     ]
    }
   ],
   "source": [
    "d.find(r)"
   ]
  },
  {
   "cell_type": "code",
   "execution_count": null,
   "id": "0a4eb8ac",
   "metadata": {},
   "outputs": [],
   "source": [
    "d.find('rd')"
   ]
  },
  {
   "cell_type": "code",
   "execution_count": null,
   "id": "ef3e432c",
   "metadata": {},
   "outputs": [],
   "source": [
    "d.split()"
   ]
  },
  {
   "cell_type": "code",
   "execution_count": null,
   "id": "3e826aba",
   "metadata": {},
   "outputs": [],
   "source": [
    "d.split('r')"
   ]
  },
  {
   "cell_type": "code",
   "execution_count": null,
   "id": "9123b4de",
   "metadata": {},
   "outputs": [],
   "source": [
    "d.upper()"
   ]
  },
  {
   "cell_type": "code",
   "execution_count": null,
   "id": "632bb979",
   "metadata": {},
   "outputs": [],
   "source": [
    "s=\"daRsh\""
   ]
  },
  {
   "cell_type": "code",
   "execution_count": 42,
   "id": "7dd6062c",
   "metadata": {},
   "outputs": [
    {
     "data": {
      "text/plain": [
       "'SINCH'"
      ]
     },
     "execution_count": 42,
     "metadata": {},
     "output_type": "execute_result"
    }
   ],
   "source": [
    "s.swapcase()"
   ]
  },
  {
   "cell_type": "code",
   "execution_count": 43,
   "id": "1fc43866",
   "metadata": {},
   "outputs": [
    {
     "data": {
      "text/plain": [
       "'Sinch'"
      ]
     },
     "execution_count": 43,
     "metadata": {},
     "output_type": "execute_result"
    }
   ],
   "source": [
    "s.title()"
   ]
  },
  {
   "cell_type": "code",
   "execution_count": 44,
   "id": "f0164c41",
   "metadata": {},
   "outputs": [],
   "source": [
    "x=\"megha\"\n",
    "y=\"manaya\""
   ]
  },
  {
   "cell_type": "code",
   "execution_count": 45,
   "id": "7a214197",
   "metadata": {},
   "outputs": [
    {
     "data": {
      "text/plain": [
       "'m  e  g  h  a'"
      ]
     },
     "execution_count": 45,
     "metadata": {},
     "output_type": "execute_result"
    }
   ],
   "source": [
    "\"  \".join(\"megha\")"
   ]
  },
  {
   "cell_type": "code",
   "execution_count": 46,
   "id": "6179e13f",
   "metadata": {},
   "outputs": [
    {
     "name": "stdout",
     "output_type": "stream",
     "text": [
      "a\n",
      "h\n",
      "g\n",
      "e\n",
      "m\n"
     ]
    }
   ],
   "source": [
    "for i in reversed (\"megha\"):\n",
    "    print(i)"
   ]
  },
  {
   "cell_type": "code",
   "execution_count": 47,
   "id": "cfa15352",
   "metadata": {},
   "outputs": [
    {
     "data": {
      "text/plain": [
       "<function str.strip(chars=None, /)>"
      ]
     },
     "execution_count": 47,
     "metadata": {},
     "output_type": "execute_result"
    }
   ],
   "source": [
    "s.strip"
   ]
  },
  {
   "cell_type": "code",
   "execution_count": 48,
   "id": "5cac7055",
   "metadata": {},
   "outputs": [
    {
     "data": {
      "text/plain": [
       "'i am woddking with ddd'"
      ]
     },
     "execution_count": 48,
     "metadata": {},
     "output_type": "execute_result"
    }
   ],
   "source": [
    "d.replace(\"r\" , \"dd\")"
   ]
  },
  {
   "cell_type": "code",
   "execution_count": 49,
   "id": "637d8003",
   "metadata": {},
   "outputs": [
    {
     "data": {
      "text/plain": [
       "'tttttttttttttttttsinchtttttttttttttttttt'"
      ]
     },
     "execution_count": 49,
     "metadata": {},
     "output_type": "execute_result"
    }
   ],
   "source": [
    "s.center(40,'t')"
   ]
  },
  {
   "cell_type": "code",
   "execution_count": null,
   "id": "8eb92db4",
   "metadata": {},
   "outputs": [],
   "source": []
  },
  {
   "cell_type": "code",
   "execution_count": null,
   "id": "0bee84fd",
   "metadata": {},
   "outputs": [],
   "source": []
  },
  {
   "cell_type": "code",
   "execution_count": 50,
   "id": "70bc5b53",
   "metadata": {},
   "outputs": [
    {
     "data": {
      "text/plain": [
       "'       india are the best in the world'"
      ]
     },
     "execution_count": 50,
     "metadata": {},
     "output_type": "execute_result"
    }
   ],
   "source": [
    "z= \"       india are the best in the world\"\n",
    "z.strip(\"are\")"
   ]
  },
  {
   "cell_type": "code",
   "execution_count": 51,
   "id": "e6fdc5b0",
   "metadata": {},
   "outputs": [
    {
     "data": {
      "text/plain": [
       "'       india are the best in the world'"
      ]
     },
     "execution_count": 51,
     "metadata": {},
     "output_type": "execute_result"
    }
   ],
   "source": [
    "z= \"       india are the best in the world\"\n",
    "z.strip(\"are\")"
   ]
  },
  {
   "cell_type": "code",
   "execution_count": 52,
   "id": "c9ddd9d0",
   "metadata": {},
   "outputs": [
    {
     "data": {
      "text/plain": [
       "False"
      ]
     },
     "execution_count": 52,
     "metadata": {},
     "output_type": "execute_result"
    }
   ],
   "source": [
    "s.isupper()"
   ]
  },
  {
   "cell_type": "code",
   "execution_count": 53,
   "id": "58c03c32",
   "metadata": {},
   "outputs": [],
   "source": [
    "t= \" SINCH\""
   ]
  },
  {
   "cell_type": "code",
   "execution_count": 54,
   "id": "69982ba3",
   "metadata": {},
   "outputs": [
    {
     "ename": "NameError",
     "evalue": "name 'isupper' is not defined",
     "output_type": "error",
     "traceback": [
      "\u001b[1;31m---------------------------------------------------------------------------\u001b[0m",
      "\u001b[1;31mNameError\u001b[0m                                 Traceback (most recent call last)",
      "Cell \u001b[1;32mIn[54], line 1\u001b[0m\n\u001b[1;32m----> 1\u001b[0m s,isupper()\n",
      "\u001b[1;31mNameError\u001b[0m: name 'isupper' is not defined"
     ]
    }
   ],
   "source": [
    "s,isupper()"
   ]
  },
  {
   "cell_type": "code",
   "execution_count": 55,
   "id": "ecb09e8a",
   "metadata": {},
   "outputs": [
    {
     "data": {
      "text/plain": [
       "False"
      ]
     },
     "execution_count": 55,
     "metadata": {},
     "output_type": "execute_result"
    }
   ],
   "source": [
    "s.isupper()"
   ]
  },
  {
   "cell_type": "code",
   "execution_count": 56,
   "id": "1871c220",
   "metadata": {},
   "outputs": [
    {
     "data": {
      "text/plain": [
       "False"
      ]
     },
     "execution_count": 56,
     "metadata": {},
     "output_type": "execute_result"
    }
   ],
   "source": [
    "s.isupper()"
   ]
  },
  {
   "cell_type": "code",
   "execution_count": 57,
   "id": "103853a1",
   "metadata": {},
   "outputs": [
    {
     "data": {
      "text/plain": [
       "False"
      ]
     },
     "execution_count": 57,
     "metadata": {},
     "output_type": "execute_result"
    }
   ],
   "source": [
    "s.isupper()"
   ]
  },
  {
   "cell_type": "code",
   "execution_count": 58,
   "id": "cf6cff6a",
   "metadata": {},
   "outputs": [
    {
     "data": {
      "text/plain": [
       "True"
      ]
     },
     "execution_count": 58,
     "metadata": {},
     "output_type": "execute_result"
    }
   ],
   "source": [
    "t.isupper()"
   ]
  },
  {
   "cell_type": "code",
   "execution_count": 59,
   "id": "434a742c",
   "metadata": {},
   "outputs": [
    {
     "data": {
      "text/plain": [
       "True"
      ]
     },
     "execution_count": 59,
     "metadata": {},
     "output_type": "execute_result"
    }
   ],
   "source": [
    "s.islower()"
   ]
  },
  {
   "cell_type": "code",
   "execution_count": 60,
   "id": "49f31ccd",
   "metadata": {},
   "outputs": [
    {
     "data": {
      "text/plain": [
       "False"
      ]
     },
     "execution_count": 60,
     "metadata": {},
     "output_type": "execute_result"
    }
   ],
   "source": [
    "t.isdigit()"
   ]
  },
  {
   "cell_type": "code",
   "execution_count": 61,
   "id": "af149065",
   "metadata": {},
   "outputs": [
    {
     "data": {
      "text/plain": [
       "False"
      ]
     },
     "execution_count": 61,
     "metadata": {},
     "output_type": "execute_result"
    }
   ],
   "source": [
    "t.endswith('h')"
   ]
  },
  {
   "cell_type": "code",
   "execution_count": 62,
   "id": "e70e8148",
   "metadata": {},
   "outputs": [],
   "source": [
    " h= \" sinch darsh megha\""
   ]
  },
  {
   "cell_type": "code",
   "execution_count": 63,
   "id": "d1ecd67f",
   "metadata": {},
   "outputs": [],
   "source": [
    "l= [\"sinchu\" , \"rokkad\" , 2625 , True , 365]"
   ]
  },
  {
   "cell_type": "code",
   "execution_count": 64,
   "id": "3407ba26",
   "metadata": {},
   "outputs": [
    {
     "data": {
      "text/plain": [
       "int"
      ]
     },
     "execution_count": 64,
     "metadata": {},
     "output_type": "execute_result"
    }
   ],
   "source": [
    "type(1)"
   ]
  },
  {
   "cell_type": "code",
   "execution_count": 65,
   "id": "bc7cd408",
   "metadata": {},
   "outputs": [
    {
     "data": {
      "text/plain": [
       "365"
      ]
     },
     "execution_count": 65,
     "metadata": {},
     "output_type": "execute_result"
    }
   ],
   "source": [
    "l[-1]"
   ]
  },
  {
   "cell_type": "code",
   "execution_count": 66,
   "id": "8a34d3a7",
   "metadata": {},
   "outputs": [
    {
     "data": {
      "text/plain": [
       "'rokkad'"
      ]
     },
     "execution_count": 66,
     "metadata": {},
     "output_type": "execute_result"
    }
   ],
   "source": [
    "l[-4]"
   ]
  },
  {
   "cell_type": "code",
   "execution_count": 67,
   "id": "e844df96",
   "metadata": {},
   "outputs": [
    {
     "data": {
      "text/plain": [
       "['sinchu', 'rokkad', 2625, True]"
      ]
     },
     "execution_count": 67,
     "metadata": {},
     "output_type": "execute_result"
    }
   ],
   "source": [
    "l[0:4]"
   ]
  },
  {
   "cell_type": "code",
   "execution_count": 68,
   "id": "4abf0c9d",
   "metadata": {},
   "outputs": [
    {
     "data": {
      "text/plain": [
       "[365, True, 2625, 'rokkad', 'sinchu']"
      ]
     },
     "execution_count": 68,
     "metadata": {},
     "output_type": "execute_result"
    }
   ],
   "source": [
    "l[::-1]"
   ]
  },
  {
   "cell_type": "code",
   "execution_count": 69,
   "id": "a3e734b9",
   "metadata": {},
   "outputs": [
    {
     "data": {
      "text/plain": [
       "[365]"
      ]
     },
     "execution_count": 69,
     "metadata": {},
     "output_type": "execute_result"
    }
   ],
   "source": [
    "l[-1:6]"
   ]
  },
  {
   "cell_type": "code",
   "execution_count": 70,
   "id": "4508244d",
   "metadata": {},
   "outputs": [
    {
     "data": {
      "text/plain": [
       "bool"
      ]
     },
     "execution_count": 70,
     "metadata": {},
     "output_type": "execute_result"
    }
   ],
   "source": [
    "type(l[3])"
   ]
  },
  {
   "cell_type": "code",
   "execution_count": 71,
   "id": "42548d9b",
   "metadata": {},
   "outputs": [],
   "source": [
    " l1 = [\"amogh\" , \" kumar\" , 478]\n",
    " l2 =  [\"kite\" , \"car\" , \"bike\"]"
   ]
  },
  {
   "cell_type": "code",
   "execution_count": 72,
   "id": "8a9b5221",
   "metadata": {},
   "outputs": [
    {
     "data": {
      "text/plain": [
       "['amogh', ' kumar', 478, 'kite', 'car', 'bike']"
      ]
     },
     "execution_count": 72,
     "metadata": {},
     "output_type": "execute_result"
    }
   ],
   "source": [
    "l1+l2"
   ]
  },
  {
   "cell_type": "code",
   "execution_count": 73,
   "id": "d677c934",
   "metadata": {
    "scrolled": true
   },
   "outputs": [
    {
     "data": {
      "text/plain": [
       "['amogh',\n",
       " ' kumar',\n",
       " 478,\n",
       " 'amogh',\n",
       " ' kumar',\n",
       " 478,\n",
       " 'amogh',\n",
       " ' kumar',\n",
       " 478,\n",
       " 'amogh',\n",
       " ' kumar',\n",
       " 478,\n",
       " 'amogh',\n",
       " ' kumar',\n",
       " 478]"
      ]
     },
     "execution_count": 73,
     "metadata": {},
     "output_type": "execute_result"
    }
   ],
   "source": [
    "l1* 5"
   ]
  },
  {
   "cell_type": "code",
   "execution_count": 74,
   "id": "e17249f6",
   "metadata": {},
   "outputs": [],
   "source": [
    "l1[0] = \"yt\""
   ]
  },
  {
   "cell_type": "code",
   "execution_count": 75,
   "id": "fd2a9718",
   "metadata": {},
   "outputs": [
    {
     "data": {
      "text/plain": [
       "['yt', ' kumar', 478]"
      ]
     },
     "execution_count": 75,
     "metadata": {},
     "output_type": "execute_result"
    }
   ],
   "source": [
    "l1"
   ]
  },
  {
   "cell_type": "code",
   "execution_count": 76,
   "id": "aa4ac82f",
   "metadata": {},
   "outputs": [
    {
     "data": {
      "text/plain": [
       "3"
      ]
     },
     "execution_count": 76,
     "metadata": {},
     "output_type": "execute_result"
    }
   ],
   "source": [
    "len(l1)"
   ]
  },
  {
   "cell_type": "code",
   "execution_count": 77,
   "id": "01aa8062",
   "metadata": {},
   "outputs": [
    {
     "ename": "NameError",
     "evalue": "name 'amogh' is not defined",
     "output_type": "error",
     "traceback": [
      "\u001b[1;31m---------------------------------------------------------------------------\u001b[0m",
      "\u001b[1;31mNameError\u001b[0m                                 Traceback (most recent call last)",
      "Cell \u001b[1;32mIn[77], line 1\u001b[0m\n\u001b[1;32m----> 1\u001b[0m amogh \u001b[38;5;129;01min\u001b[39;00m l1\n",
      "\u001b[1;31mNameError\u001b[0m: name 'amogh' is not defined"
     ]
    }
   ],
   "source": [
    "amogh in l1"
   ]
  },
  {
   "cell_type": "code",
   "execution_count": 78,
   "id": "86e20d81",
   "metadata": {},
   "outputs": [
    {
     "data": {
      "text/plain": [
       "False"
      ]
     },
     "execution_count": 78,
     "metadata": {},
     "output_type": "execute_result"
    }
   ],
   "source": [
    "\"amogh\" in l1"
   ]
  },
  {
   "cell_type": "code",
   "execution_count": 79,
   "id": "171d3d98",
   "metadata": {},
   "outputs": [
    {
     "data": {
      "text/plain": [
       "['kite', 'car', 'bike']"
      ]
     },
     "execution_count": 79,
     "metadata": {},
     "output_type": "execute_result"
    }
   ],
   "source": [
    "l2"
   ]
  },
  {
   "cell_type": "code",
   "execution_count": 80,
   "id": "a4dfd2c3",
   "metadata": {},
   "outputs": [],
   "source": [
    "l2.append(\"rokkad\")"
   ]
  },
  {
   "cell_type": "code",
   "execution_count": 81,
   "id": "e3cc3ac2",
   "metadata": {},
   "outputs": [
    {
     "data": {
      "text/plain": [
       "['kite', 'car', 'bike', 'rokkad']"
      ]
     },
     "execution_count": 81,
     "metadata": {},
     "output_type": "execute_result"
    }
   ],
   "source": [
    "l2"
   ]
  },
  {
   "cell_type": "code",
   "execution_count": 82,
   "id": "7e4ca489",
   "metadata": {},
   "outputs": [
    {
     "data": {
      "text/plain": [
       "'rokkad'"
      ]
     },
     "execution_count": 82,
     "metadata": {},
     "output_type": "execute_result"
    }
   ],
   "source": [
    "l2.pop()"
   ]
  },
  {
   "cell_type": "code",
   "execution_count": 83,
   "id": "228d5b8c",
   "metadata": {},
   "outputs": [
    {
     "data": {
      "text/plain": [
       "'bike'"
      ]
     },
     "execution_count": 83,
     "metadata": {},
     "output_type": "execute_result"
    }
   ],
   "source": [
    "l2.pop(2)"
   ]
  },
  {
   "cell_type": "code",
   "execution_count": 84,
   "id": "7dd16096",
   "metadata": {},
   "outputs": [],
   "source": [
    "l2.insert(1,\"inch\")"
   ]
  },
  {
   "cell_type": "code",
   "execution_count": 85,
   "id": "52d65fcf",
   "metadata": {},
   "outputs": [
    {
     "data": {
      "text/plain": [
       "['kite', 'inch', 'car']"
      ]
     },
     "execution_count": 85,
     "metadata": {},
     "output_type": "execute_result"
    }
   ],
   "source": [
    "l2"
   ]
  },
  {
   "cell_type": "code",
   "execution_count": 86,
   "id": "deb4fd3c",
   "metadata": {},
   "outputs": [],
   "source": [
    "l2.reverse()"
   ]
  },
  {
   "cell_type": "code",
   "execution_count": 87,
   "id": "5db5153d",
   "metadata": {},
   "outputs": [
    {
     "data": {
      "text/plain": [
       "['car', 'inch', 'kite']"
      ]
     },
     "execution_count": 87,
     "metadata": {},
     "output_type": "execute_result"
    }
   ],
   "source": [
    "l2"
   ]
  },
  {
   "cell_type": "code",
   "execution_count": 88,
   "id": "b4e960c7",
   "metadata": {},
   "outputs": [],
   "source": [
    "l2.append([34,5,6,4])"
   ]
  },
  {
   "cell_type": "code",
   "execution_count": 89,
   "id": "a4cd91bb",
   "metadata": {},
   "outputs": [
    {
     "data": {
      "text/plain": [
       "['car', 'inch', 'kite', [34, 5, 6, 4]]"
      ]
     },
     "execution_count": 89,
     "metadata": {},
     "output_type": "execute_result"
    }
   ],
   "source": [
    "l2"
   ]
  },
  {
   "cell_type": "code",
   "execution_count": 90,
   "id": "87e734fc",
   "metadata": {},
   "outputs": [
    {
     "name": "stdout",
     "output_type": "stream",
     "text": [
      "hello world\n"
     ]
    }
   ],
   "source": [
    "print('hello world')"
   ]
  },
  {
   "cell_type": "markdown",
   "id": "e06b647c",
   "metadata": {},
   "source": [
    "---"
   ]
  }
 ],
 "metadata": {
  "kernelspec": {
   "display_name": "Python 3 (ipykernel)",
   "language": "python",
   "name": "python3"
  },
  "language_info": {
   "codemirror_mode": {
    "name": "ipython",
    "version": 3
   },
   "file_extension": ".py",
   "mimetype": "text/x-python",
   "name": "python",
   "nbconvert_exporter": "python",
   "pygments_lexer": "ipython3",
   "version": "3.11.5"
  }
 },
 "nbformat": 4,
 "nbformat_minor": 5
}
