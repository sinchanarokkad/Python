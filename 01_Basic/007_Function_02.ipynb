{
 "cells": [
  {
   "cell_type": "code",
   "execution_count": 1,
   "id": "15f7a3f0",
   "metadata": {},
   "outputs": [],
   "source": [
    "def test(a,b,c,d,e) :\n",
    "    return a,b,c,d,e"
   ]
  },
  {
   "cell_type": "code",
   "execution_count": 2,
   "id": "d3c8eff5",
   "metadata": {},
   "outputs": [
    {
     "data": {
      "text/plain": [
       "(34, 56, 78, 26, 1)"
      ]
     },
     "execution_count": 2,
     "metadata": {},
     "output_type": "execute_result"
    }
   ],
   "source": [
    "test(34,56,78 , 26,1)"
   ]
  },
  {
   "cell_type": "code",
   "execution_count": 3,
   "id": "1b1a8fd1",
   "metadata": {},
   "outputs": [],
   "source": [
    "def test1(*args):\n",
    "    return args"
   ]
  },
  {
   "cell_type": "code",
   "execution_count": 4,
   "id": "c7590173",
   "metadata": {},
   "outputs": [
    {
     "data": {
      "text/plain": [
       "(90, 93, 95)"
      ]
     },
     "execution_count": 4,
     "metadata": {},
     "output_type": "execute_result"
    }
   ],
   "source": [
    "test1(90,93,95)"
   ]
  },
  {
   "cell_type": "code",
   "execution_count": 5,
   "id": "524b55a9",
   "metadata": {},
   "outputs": [
    {
     "data": {
      "text/plain": [
       "(3, 4, 5, 6, 7, 8, 9)"
      ]
     },
     "execution_count": 5,
     "metadata": {},
     "output_type": "execute_result"
    }
   ],
   "source": [
    "test1(3,4,5,6,7,8,9)"
   ]
  },
  {
   "cell_type": "code",
   "execution_count": 6,
   "id": "8673669a",
   "metadata": {},
   "outputs": [
    {
     "data": {
      "text/plain": [
       "([2, 4, 6, 8], (45, 75, 85), 'rokkad', (356+7j))"
      ]
     },
     "execution_count": 6,
     "metadata": {},
     "output_type": "execute_result"
    }
   ],
   "source": [
    "test1([2,4,6,8] , (45,75,85),\"rokkad\" , 356+7j)"
   ]
  },
  {
   "cell_type": "code",
   "execution_count": 7,
   "id": "43cfced5",
   "metadata": {},
   "outputs": [],
   "source": [
    "def test2(*sinchurokkad):\n",
    "    return sinchurokkad"
   ]
  },
  {
   "cell_type": "code",
   "execution_count": 8,
   "id": "f5894e64",
   "metadata": {},
   "outputs": [
    {
     "data": {
      "text/plain": [
       "('sinchu', 354, '23423', 359)"
      ]
     },
     "execution_count": 8,
     "metadata": {},
     "output_type": "execute_result"
    }
   ],
   "source": [
    "test2(\"sinchu\" , 354 , \"23423\" , 359)"
   ]
  },
  {
   "cell_type": "code",
   "execution_count": 9,
   "id": "535439d6",
   "metadata": {},
   "outputs": [
    {
     "data": {
      "text/plain": [
       "('trp', 'rcb', 'bmw')"
      ]
     },
     "execution_count": 9,
     "metadata": {},
     "output_type": "execute_result"
    }
   ],
   "source": [
    "test1(\"trp\" , \"rcb\" , \"bmw\")"
   ]
  },
  {
   "cell_type": "code",
   "execution_count": 10,
   "id": "1d103bdf",
   "metadata": {},
   "outputs": [],
   "source": [
    "def test3(*darsh , a):\n",
    "    return darsh , a"
   ]
  },
  {
   "cell_type": "code",
   "execution_count": 11,
   "id": "68fa81e9",
   "metadata": {},
   "outputs": [
    {
     "data": {
      "text/plain": [
       "((34, 56, 767), 9)"
      ]
     },
     "execution_count": 11,
     "metadata": {},
     "output_type": "execute_result"
    }
   ],
   "source": [
    "test3(34,56,767, a=9)"
   ]
  },
  {
   "cell_type": "code",
   "execution_count": 12,
   "id": "527d7017",
   "metadata": {},
   "outputs": [],
   "source": [
    "def test3(*darsh , a, b, c, d):\n",
    "    return darsh , a, b, c, d"
   ]
  },
  {
   "cell_type": "code",
   "execution_count": 13,
   "id": "9986c3a2",
   "metadata": {},
   "outputs": [
    {
     "data": {
      "text/plain": [
       "(('sudi',), 100, 200, 40, 90)"
      ]
     },
     "execution_count": 13,
     "metadata": {},
     "output_type": "execute_result"
    }
   ],
   "source": [
    "test3(\"sudi\", a=100 , b=200 , c=40 , d=90)"
   ]
  },
  {
   "cell_type": "code",
   "execution_count": 14,
   "id": "f7ad67ce",
   "metadata": {},
   "outputs": [
    {
     "data": {
      "text/plain": [
       "((123, 234, 345, 456), [4, 5, 6, 7], [8, 9, 1], 'dsfdsf', 345.656)"
      ]
     },
     "execution_count": 14,
     "metadata": {},
     "output_type": "execute_result"
    }
   ],
   "source": [
    "test3(123,234,345,456, a=[4,5,6,7], b=[8,9,1], c=\"dsfdsf\" , d= 345.656)"
   ]
  },
  {
   "cell_type": "code",
   "execution_count": 15,
   "id": "6bc4a2f6",
   "metadata": {},
   "outputs": [],
   "source": [
    "def test3(a , *sinch) :\n",
    "    return a , sinch"
   ]
  },
  {
   "cell_type": "code",
   "execution_count": 16,
   "id": "9b179277",
   "metadata": {},
   "outputs": [
    {
     "ename": "SyntaxError",
     "evalue": "positional argument follows keyword argument (1148934254.py, line 1)",
     "output_type": "error",
     "traceback": [
      "\u001b[1;36m  Cell \u001b[1;32mIn[16], line 1\u001b[1;36m\u001b[0m\n\u001b[1;33m    test3(a=55 , 34 ,56,78,98)\u001b[0m\n\u001b[1;37m                             ^\u001b[0m\n\u001b[1;31mSyntaxError\u001b[0m\u001b[1;31m:\u001b[0m positional argument follows keyword argument\n"
     ]
    }
   ],
   "source": [
    "test3(a=55 , 34 ,56,78,98)"
   ]
  },
  {
   "cell_type": "code",
   "execution_count": 17,
   "id": "e5dcace2",
   "metadata": {},
   "outputs": [],
   "source": [
    "def test5(*args):\n",
    "    l = []\n",
    "    for i in args :\n",
    "        if type(i) == list :\n",
    "            l.append(i)\n",
    "    return l"
   ]
  },
  {
   "cell_type": "code",
   "execution_count": 18,
   "id": "0bf6f798",
   "metadata": {},
   "outputs": [
    {
     "data": {
      "text/plain": [
       "[[34, 67, 85]]"
      ]
     },
     "execution_count": 18,
     "metadata": {},
     "output_type": "execute_result"
    }
   ],
   "source": [
    "test5(45 ,67,76,[34,67,85])"
   ]
  },
  {
   "cell_type": "code",
   "execution_count": 19,
   "id": "76187139",
   "metadata": {},
   "outputs": [],
   "source": [
    "d = {\" a \" : [2,3,4,5.6] , 6 :[4,54,5,6,2]}"
   ]
  },
  {
   "cell_type": "code",
   "execution_count": 20,
   "id": "a0307cc7",
   "metadata": {},
   "outputs": [
    {
     "data": {
      "text/plain": [
       "[2, 3, 4, 5.6]"
      ]
     },
     "execution_count": 20,
     "metadata": {},
     "output_type": "execute_result"
    }
   ],
   "source": [
    "d[\" a \"]"
   ]
  },
  {
   "cell_type": "code",
   "execution_count": 21,
   "id": "585935a0",
   "metadata": {},
   "outputs": [],
   "source": [
    "def test7(**kumar):\n",
    "    return kumar"
   ]
  },
  {
   "cell_type": "code",
   "execution_count": 22,
   "id": "ca4a32c5",
   "metadata": {},
   "outputs": [
    {
     "data": {
      "text/plain": [
       "{'a': 345, 'b': [24, 35, 57, 78]}"
      ]
     },
     "execution_count": 22,
     "metadata": {},
     "output_type": "execute_result"
    }
   ],
   "source": [
    "test7(a=345 , b=[24,35,57,78])"
   ]
  },
  {
   "cell_type": "code",
   "execution_count": 23,
   "id": "d205ab5b",
   "metadata": {},
   "outputs": [],
   "source": [
    "def test9(**sudh):\n",
    "    return sudh"
   ]
  },
  {
   "cell_type": "code",
   "execution_count": 24,
   "id": "7d53ea52",
   "metadata": {},
   "outputs": [
    {
     "data": {
      "text/plain": [
       "{'name': 'sinch', 'age': '31', 'mail_id': 'sinchrokkad25'}"
      ]
     },
     "execution_count": 24,
     "metadata": {},
     "output_type": "execute_result"
    }
   ],
   "source": [
    "test9(name=\"sinch\" , age=\"31\" , mail_id =\"sinchrokkad25\")"
   ]
  },
  {
   "cell_type": "code",
   "execution_count": 25,
   "id": "8f3672a2",
   "metadata": {},
   "outputs": [],
   "source": [
    "def test10(a,*args , **rokkad) :\n",
    "    return a, args ,rokkad"
   ]
  },
  {
   "cell_type": "code",
   "execution_count": 26,
   "id": "77a1f6a0",
   "metadata": {},
   "outputs": [
    {
     "data": {
      "text/plain": [
       "(26, (25, 65, 2, 1), {'g': 4356, 'l': 46})"
      ]
     },
     "execution_count": 26,
     "metadata": {},
     "output_type": "execute_result"
    }
   ],
   "source": [
    "test10(26 , 25 , 65 ,2,1, g = 4356 , l = 46)"
   ]
  },
  {
   "cell_type": "code",
   "execution_count": 27,
   "id": "b749065b",
   "metadata": {},
   "outputs": [],
   "source": [
    "def test11(a , b):\n",
    "    return a*b"
   ]
  },
  {
   "cell_type": "code",
   "execution_count": 28,
   "id": "07a5544a",
   "metadata": {},
   "outputs": [
    {
     "data": {
      "text/plain": [
       "3015"
      ]
     },
     "execution_count": 28,
     "metadata": {},
     "output_type": "execute_result"
    }
   ],
   "source": [
    "test11 (45,67)"
   ]
  },
  {
   "cell_type": "code",
   "execution_count": 29,
   "id": "1d3b2564",
   "metadata": {},
   "outputs": [
    {
     "data": {
      "text/plain": [
       "<function __main__.<lambda>(a, b)>"
      ]
     },
     "execution_count": 29,
     "metadata": {},
     "output_type": "execute_result"
    }
   ],
   "source": [
    "lambda a , b :a*b"
   ]
  },
  {
   "cell_type": "code",
   "execution_count": 30,
   "id": "0735e5c0",
   "metadata": {},
   "outputs": [],
   "source": [
    " a = lambda a , b :a*b"
   ]
  },
  {
   "cell_type": "code",
   "execution_count": 31,
   "id": "754b7b14",
   "metadata": {},
   "outputs": [
    {
     "data": {
      "text/plain": [
       "2925"
      ]
     },
     "execution_count": 31,
     "metadata": {},
     "output_type": "execute_result"
    }
   ],
   "source": [
    "a(45 , 65)"
   ]
  },
  {
   "cell_type": "code",
   "execution_count": 32,
   "id": "75008642",
   "metadata": {},
   "outputs": [
    {
     "data": {
      "text/plain": [
       "45"
      ]
     },
     "execution_count": 32,
     "metadata": {},
     "output_type": "execute_result"
    }
   ],
   "source": [
    "a(9 , 5)"
   ]
  },
  {
   "cell_type": "code",
   "execution_count": 33,
   "id": "76b6900e",
   "metadata": {},
   "outputs": [],
   "source": [
    "v = lambda *a:a*a"
   ]
  },
  {
   "cell_type": "code",
   "execution_count": 34,
   "id": "c7ab996f",
   "metadata": {},
   "outputs": [],
   "source": [
    "x = lambda *i : i**2"
   ]
  },
  {
   "cell_type": "code",
   "execution_count": 35,
   "id": "39a49976",
   "metadata": {},
   "outputs": [],
   "source": [
    "a = lambda a,b :(a*b , a+b)"
   ]
  },
  {
   "cell_type": "code",
   "execution_count": 36,
   "id": "0ace8ba2",
   "metadata": {},
   "outputs": [
    {
     "data": {
      "text/plain": [
       "(20, 9)"
      ]
     },
     "execution_count": 36,
     "metadata": {},
     "output_type": "execute_result"
    }
   ],
   "source": [
    "a(4 , 5)"
   ]
  },
  {
   "cell_type": "code",
   "execution_count": 37,
   "id": "88771e38",
   "metadata": {},
   "outputs": [
    {
     "ename": "SyntaxError",
     "evalue": "invalid syntax (4168816815.py, line 1)",
     "output_type": "error",
     "traceback": [
      "\u001b[1;36m  Cell \u001b[1;32mIn[37], line 1\u001b[1;36m\u001b[0m\n\u001b[1;33m    x = lambda x : i for i in x\u001b[0m\n\u001b[1;37m                     ^\u001b[0m\n\u001b[1;31mSyntaxError\u001b[0m\u001b[1;31m:\u001b[0m invalid syntax\n"
     ]
    }
   ],
   "source": [
    "x = lambda x : i for i in x"
   ]
  },
  {
   "cell_type": "code",
   "execution_count": 38,
   "id": "7f00e338",
   "metadata": {},
   "outputs": [],
   "source": [
    "x = lambda x : [print(i) for i in x]"
   ]
  },
  {
   "cell_type": "code",
   "execution_count": 39,
   "id": "2290e626",
   "metadata": {},
   "outputs": [
    {
     "name": "stdout",
     "output_type": "stream",
     "text": [
      "4\n",
      "5\n",
      "6\n",
      "7\n",
      "9\n"
     ]
    },
    {
     "data": {
      "text/plain": [
       "[None, None, None, None, None]"
      ]
     },
     "execution_count": 39,
     "metadata": {},
     "output_type": "execute_result"
    }
   ],
   "source": [
    "x([4,5,6,7,9])"
   ]
  },
  {
   "cell_type": "code",
   "execution_count": 40,
   "id": "d9a4e8fa",
   "metadata": {},
   "outputs": [],
   "source": [
    "a = 10 \n",
    "def test12( c, d) :\n",
    "        return c*d"
   ]
  },
  {
   "cell_type": "code",
   "execution_count": 41,
   "id": "5433587b",
   "metadata": {},
   "outputs": [
    {
     "data": {
      "text/plain": [
       "550"
      ]
     },
     "execution_count": 41,
     "metadata": {},
     "output_type": "execute_result"
    }
   ],
   "source": [
    "test12(a , 55)"
   ]
  },
  {
   "cell_type": "code",
   "execution_count": 42,
   "id": "55bb66da",
   "metadata": {},
   "outputs": [
    {
     "data": {
      "text/plain": [
       "10"
      ]
     },
     "execution_count": 42,
     "metadata": {},
     "output_type": "execute_result"
    }
   ],
   "source": [
    "a"
   ]
  },
  {
   "cell_type": "code",
   "execution_count": 43,
   "id": "a5216f5b",
   "metadata": {},
   "outputs": [],
   "source": [
    "l = [1,2,3,4,5,6,7,8,9,10]\n",
    "l1 = []\n",
    "for i in l:\n",
    "    l1.append(i+2)"
   ]
  },
  {
   "cell_type": "code",
   "execution_count": 44,
   "id": "397d4417",
   "metadata": {},
   "outputs": [
    {
     "data": {
      "text/plain": [
       "[3, 4, 5, 6, 7, 8, 9, 10, 11, 12]"
      ]
     },
     "execution_count": 44,
     "metadata": {},
     "output_type": "execute_result"
    }
   ],
   "source": [
    "l1"
   ]
  },
  {
   "cell_type": "code",
   "execution_count": 45,
   "id": "203a4bb3",
   "metadata": {},
   "outputs": [],
   "source": [
    "def test12(a) :\n",
    "    l1 = []\n",
    "    for i in l :\n",
    "        l1.append(i+2)\n",
    "\n",
    "    "
   ]
  },
  {
   "cell_type": "code",
   "execution_count": 46,
   "id": "b397fc22",
   "metadata": {},
   "outputs": [],
   "source": [
    "test12(l)"
   ]
  },
  {
   "cell_type": "code",
   "execution_count": 47,
   "id": "f48bc2a0",
   "metadata": {},
   "outputs": [],
   "source": [
    "a = lambda a :[ i+2 for i in a]"
   ]
  },
  {
   "cell_type": "code",
   "execution_count": 48,
   "id": "90a91bab",
   "metadata": {},
   "outputs": [
    {
     "data": {
      "text/plain": [
       "[3, 4, 5, 6, 7, 8, 9, 10, 11, 12]"
      ]
     },
     "execution_count": 48,
     "metadata": {},
     "output_type": "execute_result"
    }
   ],
   "source": [
    "a(l)"
   ]
  },
  {
   "cell_type": "code",
   "execution_count": 49,
   "id": "81eb6d80",
   "metadata": {},
   "outputs": [],
   "source": [
    "l1 = [ ] \n",
    "for i in l :\n",
    "    if i<4 :\n",
    "        l1.append((i**2, i+1))"
   ]
  },
  {
   "cell_type": "code",
   "execution_count": 50,
   "id": "b7a9d5a3",
   "metadata": {},
   "outputs": [
    {
     "data": {
      "text/plain": [
       "[1, 2, 3, 4, 5, 6, 7, 8, 9, 10]"
      ]
     },
     "execution_count": 50,
     "metadata": {},
     "output_type": "execute_result"
    }
   ],
   "source": [
    "l\n"
   ]
  },
  {
   "cell_type": "code",
   "execution_count": 51,
   "id": "02f16a2f",
   "metadata": {},
   "outputs": [
    {
     "data": {
      "text/plain": [
       "[(1, 2),\n",
       " (4, 4),\n",
       " (9, 6),\n",
       " (16, 8),\n",
       " (25, 10),\n",
       " (36, 12),\n",
       " (49, 14),\n",
       " (64, 16),\n",
       " (81, 18),\n",
       " (100, 20)]"
      ]
     },
     "execution_count": 51,
     "metadata": {},
     "output_type": "execute_result"
    }
   ],
   "source": [
    "[(i**2 , i+i) for i in l]"
   ]
  },
  {
   "cell_type": "code",
   "execution_count": 52,
   "id": "5c455286",
   "metadata": {},
   "outputs": [
    {
     "data": {
      "text/plain": [
       "[(1, 2), (4, 4), (9, 6)]"
      ]
     },
     "execution_count": 52,
     "metadata": {},
     "output_type": "execute_result"
    }
   ],
   "source": [
    "[(i**2 , i+i) for i in l if i<4]"
   ]
  },
  {
   "cell_type": "code",
   "execution_count": 53,
   "id": "9b157d40",
   "metadata": {},
   "outputs": [],
   "source": [
    "d = {i : i , 2:4 , 3:9}"
   ]
  },
  {
   "cell_type": "code",
   "execution_count": 54,
   "id": "0fc2f05e",
   "metadata": {},
   "outputs": [
    {
     "data": {
      "text/plain": [
       "{0: 0, 1: 1, 2: 4, 3: 9, 4: 16, 5: 25, 6: 36, 7: 49, 8: 64, 9: 81}"
      ]
     },
     "execution_count": 54,
     "metadata": {},
     "output_type": "execute_result"
    }
   ],
   "source": [
    "{i:i**2 for i in range(10)}"
   ]
  },
  {
   "cell_type": "code",
   "execution_count": 55,
   "id": "2759fe85",
   "metadata": {},
   "outputs": [],
   "source": [
    "d1 = {}\n",
    "for i in range(10) :\n",
    "    d1[i] = i**2"
   ]
  },
  {
   "cell_type": "code",
   "execution_count": 56,
   "id": "2fb731de",
   "metadata": {},
   "outputs": [
    {
     "data": {
      "text/plain": [
       "{0: 0, 1: 1, 2: 4, 3: 9, 4: 16, 5: 25, 6: 36, 7: 49, 8: 64, 9: 81}"
      ]
     },
     "execution_count": 56,
     "metadata": {},
     "output_type": "execute_result"
    }
   ],
   "source": [
    "d1"
   ]
  },
  {
   "cell_type": "code",
   "execution_count": 57,
   "id": "70927106",
   "metadata": {},
   "outputs": [
    {
     "data": {
      "text/plain": [
       "(0, 1, 2, 3, 4, 5, 6, 7, 8, 9)"
      ]
     },
     "execution_count": 57,
     "metadata": {},
     "output_type": "execute_result"
    }
   ],
   "source": [
    "tuple(i for i in range(10))"
   ]
  },
  {
   "cell_type": "code",
   "execution_count": 58,
   "id": "0d3cf469",
   "metadata": {},
   "outputs": [
    {
     "ename": "TypeError",
     "evalue": "'int' object is not iterable",
     "output_type": "error",
     "traceback": [
      "\u001b[1;31m---------------------------------------------------------------------------\u001b[0m",
      "\u001b[1;31mTypeError\u001b[0m                                 Traceback (most recent call last)",
      "Cell \u001b[1;32mIn[58], line 2\u001b[0m\n\u001b[0;32m      1\u001b[0m a \u001b[38;5;241m=\u001b[39m \u001b[38;5;241m56\u001b[39m \n\u001b[1;32m----> 2\u001b[0m \u001b[38;5;28;01mfor\u001b[39;00m i \u001b[38;5;129;01min\u001b[39;00m a :\n\u001b[0;32m      3\u001b[0m     \u001b[38;5;28mprint\u001b[39m(i)\n",
      "\u001b[1;31mTypeError\u001b[0m: 'int' object is not iterable"
     ]
    }
   ],
   "source": [
    "a = 56 \n",
    "for i in a :\n",
    "    print(i)"
   ]
  },
  {
   "cell_type": "code",
   "execution_count": 67,
   "id": "e9b249c9",
   "metadata": {
    "scrolled": true
   },
   "outputs": [
    {
     "name": "stdout",
     "output_type": "stream",
     "text": [
      "a\n",
      "p\n",
      "p\n",
      "u\n"
     ]
    }
   ],
   "source": [
    "s = \"appu\"\n",
    "for i in s :\n",
    "    print(i)"
   ]
  },
  {
   "cell_type": "code",
   "execution_count": 68,
   "id": "a6d9ce5c",
   "metadata": {},
   "outputs": [
    {
     "ename": "NameError",
     "evalue": "name 'nest' is not defined",
     "output_type": "error",
     "traceback": [
      "\u001b[1;31m---------------------------------------------------------------------------\u001b[0m",
      "\u001b[1;31mNameError\u001b[0m                                 Traceback (most recent call last)",
      "Cell \u001b[1;32mIn[68], line 1\u001b[0m\n\u001b[1;32m----> 1\u001b[0m nest(s)\n",
      "\u001b[1;31mNameError\u001b[0m: name 'nest' is not defined"
     ]
    }
   ],
   "source": [
    "nest(s)"
   ]
  },
  {
   "cell_type": "code",
   "execution_count": 69,
   "id": "affa4c44",
   "metadata": {},
   "outputs": [
    {
     "data": {
      "text/plain": [
       "'appu'"
      ]
     },
     "execution_count": 69,
     "metadata": {},
     "output_type": "execute_result"
    }
   ],
   "source": [
    "s"
   ]
  },
  {
   "cell_type": "code",
   "execution_count": 70,
   "id": "f79b6d04",
   "metadata": {},
   "outputs": [],
   "source": [
    "b = iter(s)"
   ]
  },
  {
   "cell_type": "code",
   "execution_count": 71,
   "id": "7eb3d876",
   "metadata": {},
   "outputs": [
    {
     "data": {
      "text/plain": [
       "<str_ascii_iterator at 0x2665bbce770>"
      ]
     },
     "execution_count": 71,
     "metadata": {},
     "output_type": "execute_result"
    }
   ],
   "source": [
    "b"
   ]
  },
  {
   "cell_type": "code",
   "execution_count": 72,
   "id": "70fc1e4c",
   "metadata": {},
   "outputs": [
    {
     "data": {
      "text/plain": [
       "'a'"
      ]
     },
     "execution_count": 72,
     "metadata": {},
     "output_type": "execute_result"
    }
   ],
   "source": [
    "next(b)"
   ]
  },
  {
   "cell_type": "code",
   "execution_count": 73,
   "id": "ca898293",
   "metadata": {},
   "outputs": [
    {
     "data": {
      "text/plain": [
       "'p'"
      ]
     },
     "execution_count": 73,
     "metadata": {},
     "output_type": "execute_result"
    }
   ],
   "source": [
    "next(b)"
   ]
  },
  {
   "cell_type": "code",
   "execution_count": 74,
   "id": "617fd866",
   "metadata": {},
   "outputs": [
    {
     "data": {
      "text/plain": [
       "'p'"
      ]
     },
     "execution_count": 74,
     "metadata": {},
     "output_type": "execute_result"
    }
   ],
   "source": [
    "next(b)"
   ]
  },
  {
   "cell_type": "code",
   "execution_count": 75,
   "id": "9d117060",
   "metadata": {},
   "outputs": [
    {
     "data": {
      "text/plain": [
       "'u'"
      ]
     },
     "execution_count": 75,
     "metadata": {},
     "output_type": "execute_result"
    }
   ],
   "source": [
    "next(b)"
   ]
  },
  {
   "cell_type": "code",
   "execution_count": 81,
   "id": "1b8ff66b",
   "metadata": {},
   "outputs": [
    {
     "name": "stdout",
     "output_type": "stream",
     "text": [
      "s\n",
      "i\n",
      "n\n",
      "c\n",
      "h\n"
     ]
    }
   ],
   "source": [
    "s = \"sinch\" \n",
    "for i in s:\n",
    "    print(i)"
   ]
  },
  {
   "cell_type": "code",
   "execution_count": 84,
   "id": "ef43c126",
   "metadata": {},
   "outputs": [],
   "source": [
    "s =  iter(s)"
   ]
  },
  {
   "cell_type": "code",
   "execution_count": 85,
   "id": "cfbb1fdc",
   "metadata": {},
   "outputs": [
    {
     "data": {
      "text/plain": [
       "'s'"
      ]
     },
     "execution_count": 85,
     "metadata": {},
     "output_type": "execute_result"
    }
   ],
   "source": [
    "next(s)"
   ]
  },
  {
   "cell_type": "code",
   "execution_count": 86,
   "id": "dc4de267",
   "metadata": {},
   "outputs": [
    {
     "data": {
      "text/plain": [
       "'i'"
      ]
     },
     "execution_count": 86,
     "metadata": {},
     "output_type": "execute_result"
    }
   ],
   "source": [
    "next(s)"
   ]
  },
  {
   "cell_type": "code",
   "execution_count": 87,
   "id": "cac3f506",
   "metadata": {},
   "outputs": [
    {
     "data": {
      "text/plain": [
       "'n'"
      ]
     },
     "execution_count": 87,
     "metadata": {},
     "output_type": "execute_result"
    }
   ],
   "source": [
    "next(s)"
   ]
  },
  {
   "cell_type": "code",
   "execution_count": 88,
   "id": "db51bedb",
   "metadata": {},
   "outputs": [
    {
     "data": {
      "text/plain": [
       "'c'"
      ]
     },
     "execution_count": 88,
     "metadata": {},
     "output_type": "execute_result"
    }
   ],
   "source": [
    "next(s)"
   ]
  },
  {
   "cell_type": "code",
   "execution_count": 89,
   "id": "2b3810c3",
   "metadata": {},
   "outputs": [
    {
     "data": {
      "text/plain": [
       "'h'"
      ]
     },
     "execution_count": 89,
     "metadata": {},
     "output_type": "execute_result"
    }
   ],
   "source": [
    "next(s)"
   ]
  },
  {
   "cell_type": "code",
   "execution_count": 91,
   "id": "91339d3c",
   "metadata": {},
   "outputs": [
    {
     "data": {
      "text/plain": [
       "[1, 2, 3, 4, 5, 6, 7, 8, 9, 10]"
      ]
     },
     "execution_count": 91,
     "metadata": {},
     "output_type": "execute_result"
    }
   ],
   "source": [
    "l"
   ]
  },
  {
   "cell_type": "code",
   "execution_count": 94,
   "id": "42574ada",
   "metadata": {},
   "outputs": [],
   "source": [
    "l = iter(l)"
   ]
  },
  {
   "cell_type": "code",
   "execution_count": 95,
   "id": "7061b235",
   "metadata": {},
   "outputs": [
    {
     "data": {
      "text/plain": [
       "1"
      ]
     },
     "execution_count": 95,
     "metadata": {},
     "output_type": "execute_result"
    }
   ],
   "source": [
    "next(l)"
   ]
  },
  {
   "cell_type": "code",
   "execution_count": 96,
   "id": "628438d2",
   "metadata": {},
   "outputs": [
    {
     "data": {
      "text/plain": [
       "2"
      ]
     },
     "execution_count": 96,
     "metadata": {},
     "output_type": "execute_result"
    }
   ],
   "source": [
    "next(l)"
   ]
  },
  {
   "cell_type": "code",
   "execution_count": 97,
   "id": "0c61ff3d",
   "metadata": {},
   "outputs": [
    {
     "data": {
      "text/plain": [
       "3"
      ]
     },
     "execution_count": 97,
     "metadata": {},
     "output_type": "execute_result"
    }
   ],
   "source": [
    "next(l)"
   ]
  },
  {
   "cell_type": "code",
   "execution_count": 98,
   "id": "eb24df28",
   "metadata": {},
   "outputs": [
    {
     "data": {
      "text/plain": [
       "4"
      ]
     },
     "execution_count": 98,
     "metadata": {},
     "output_type": "execute_result"
    }
   ],
   "source": [
    "next(l)"
   ]
  },
  {
   "cell_type": "code",
   "execution_count": 99,
   "id": "f0932f7a",
   "metadata": {},
   "outputs": [
    {
     "data": {
      "text/plain": [
       "5"
      ]
     },
     "execution_count": 99,
     "metadata": {},
     "output_type": "execute_result"
    }
   ],
   "source": [
    "next(l)"
   ]
  },
  {
   "cell_type": "code",
   "execution_count": 100,
   "id": "cd53326f",
   "metadata": {},
   "outputs": [
    {
     "data": {
      "text/plain": [
       "6"
      ]
     },
     "execution_count": 100,
     "metadata": {},
     "output_type": "execute_result"
    }
   ],
   "source": [
    "next(l)"
   ]
  },
  {
   "cell_type": "code",
   "execution_count": 101,
   "id": "707f2823",
   "metadata": {},
   "outputs": [
    {
     "data": {
      "text/plain": [
       "7"
      ]
     },
     "execution_count": 101,
     "metadata": {},
     "output_type": "execute_result"
    }
   ],
   "source": [
    "next(l)"
   ]
  },
  {
   "cell_type": "code",
   "execution_count": 102,
   "id": "20770bf6",
   "metadata": {},
   "outputs": [
    {
     "data": {
      "text/plain": [
       "8"
      ]
     },
     "execution_count": 102,
     "metadata": {},
     "output_type": "execute_result"
    }
   ],
   "source": [
    "next(l)"
   ]
  },
  {
   "cell_type": "code",
   "execution_count": 103,
   "id": "23b6d39a",
   "metadata": {},
   "outputs": [
    {
     "data": {
      "text/plain": [
       "9"
      ]
     },
     "execution_count": 103,
     "metadata": {},
     "output_type": "execute_result"
    }
   ],
   "source": [
    "next(l)"
   ]
  },
  {
   "cell_type": "code",
   "execution_count": 104,
   "id": "6aac18ba",
   "metadata": {},
   "outputs": [
    {
     "data": {
      "text/plain": [
       "10"
      ]
     },
     "execution_count": 104,
     "metadata": {},
     "output_type": "execute_result"
    }
   ],
   "source": [
    "next(l)"
   ]
  },
  {
   "cell_type": "code",
   "execution_count": 109,
   "id": "3b1326e6",
   "metadata": {},
   "outputs": [
    {
     "ename": "SyntaxError",
     "evalue": "invalid syntax (99916259.py, line 1)",
     "output_type": "error",
     "traceback": [
      "\u001b[1;36m  Cell \u001b[1;32mIn[109], line 1\u001b[1;36m\u001b[0m\n\u001b[1;33m    a = (1:\"a\" , 2:\"b\" , 3:\"c\")\u001b[0m\n\u001b[1;37m          ^\u001b[0m\n\u001b[1;31mSyntaxError\u001b[0m\u001b[1;31m:\u001b[0m invalid syntax\n"
     ]
    }
   ],
   "source": [
    "a = (1:\"a\" , 2:\"b\" , 3:\"c\")\n",
    "up = (4 :\"d\")\n",
    "def insertion_beginning(dic,upk):\n",
    "    upk.update(dic)\n",
    "    print (upk)\n",
    "    return upk\n",
    "inserstion_beginning(a up)"
   ]
  },
  {
   "cell_type": "code",
   "execution_count": 110,
   "id": "feeac31e",
   "metadata": {},
   "outputs": [
    {
     "name": "stdout",
     "output_type": "stream",
     "text": [
      "thank \n"
     ]
    }
   ],
   "source": [
    "print(\"thank \")"
   ]
  }
 ],
 "metadata": {
  "kernelspec": {
   "display_name": "Python 3 (ipykernel)",
   "language": "python",
   "name": "python3"
  },
  "language_info": {
   "codemirror_mode": {
    "name": "ipython",
    "version": 3
   },
   "file_extension": ".py",
   "mimetype": "text/x-python",
   "name": "python",
   "nbconvert_exporter": "python",
   "pygments_lexer": "ipython3",
   "version": "3.11.5"
  }
 },
 "nbformat": 4,
 "nbformat_minor": 5
}
