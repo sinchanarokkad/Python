{
 "cells": [
  {
   "cell_type": "code",
   "execution_count": 1,
   "id": "8ffb7431",
   "metadata": {},
   "outputs": [],
   "source": [
    "a=10"
   ]
  },
  {
   "cell_type": "code",
   "execution_count": 17,
   "id": "f7df5a60",
   "metadata": {},
   "outputs": [],
   "source": [
    "if a < 15 :\n",
    "    pass"
   ]
  },
  {
   "cell_type": "code",
   "execution_count": 18,
   "id": "a4337a69",
   "metadata": {},
   "outputs": [
    {
     "data": {
      "text/plain": [
       "True"
      ]
     },
     "execution_count": 18,
     "metadata": {},
     "output_type": "execute_result"
    }
   ],
   "source": [
    " a< 15"
   ]
  },
  {
   "cell_type": "code",
   "execution_count": 19,
   "id": "f3d80bd2",
   "metadata": {},
   "outputs": [
    {
     "name": "stdout",
     "output_type": "stream",
     "text": [
      "my name is sinchu i love india\n"
     ]
    }
   ],
   "source": [
    "if a < 15 :\n",
    "    print(\"my name is sinchu i love india\")"
   ]
  },
  {
   "cell_type": "code",
   "execution_count": 22,
   "id": "9dc012e5",
   "metadata": {},
   "outputs": [],
   "source": [
    "if 24 <15 :\n",
    "       print(\"my name is darsh\")"
   ]
  },
  {
   "cell_type": "markdown",
   "id": "27b8714c",
   "metadata": {},
   "source": [
    "24 < 15"
   ]
  },
  {
   "cell_type": "code",
   "execution_count": 23,
   "id": "e307dfe8",
   "metadata": {},
   "outputs": [
    {
     "data": {
      "text/plain": [
       "False"
      ]
     },
     "execution_count": 23,
     "metadata": {},
     "output_type": "execute_result"
    }
   ],
   "source": [
    "24 <15"
   ]
  },
  {
   "cell_type": "code",
   "execution_count": 26,
   "id": "e25df2a2",
   "metadata": {},
   "outputs": [
    {
     "name": "stdout",
     "output_type": "stream",
     "text": [
      "10 is less than 13\n"
     ]
    }
   ],
   "source": [
    "if 10 < 13 :\n",
    "    print(\"10 is less than 13\")\n",
    "else :\n",
    "    print(\"if statment is wrong\")"
   ]
  },
  {
   "cell_type": "code",
   "execution_count": 1,
   "id": "6db3d35e",
   "metadata": {},
   "outputs": [],
   "source": [
    "income = 1000\n",
    "if income < 500 :\n",
    "    print(\"u can buy \")\n",
    "elif  income < 200 :\n",
    "    print (\"u can't buy\")"
   ]
  },
  {
   "cell_type": "code",
   "execution_count": 2,
   "id": "75e25b9a",
   "metadata": {},
   "outputs": [
    {
     "data": {
      "text/plain": [
       "False"
      ]
     },
     "execution_count": 2,
     "metadata": {},
     "output_type": "execute_result"
    }
   ],
   "source": [
    "income <300"
   ]
  },
  {
   "cell_type": "code",
   "execution_count": null,
   "id": "d0ce08fc",
   "metadata": {},
   "outputs": [],
   "source": []
  },
  {
   "cell_type": "code",
   "execution_count": null,
   "id": "92d7d0d6",
   "metadata": {},
   "outputs": [],
   "source": [
    "\n",
    "    "
   ]
  },
  {
   "cell_type": "code",
   "execution_count": 3,
   "id": "fe6cdd49",
   "metadata": {},
   "outputs": [
    {
     "ename": "NameError",
     "evalue": "name 'a' is not defined",
     "output_type": "error",
     "traceback": [
      "\u001b[1;31m---------------------------------------------------------------------------\u001b[0m",
      "\u001b[1;31mNameError\u001b[0m                                 Traceback (most recent call last)",
      "Cell \u001b[1;32mIn[3], line 1\u001b[0m\n\u001b[1;32m----> 1\u001b[0m \u001b[38;5;28;01mif\u001b[39;00m a \u001b[38;5;241m<\u001b[39m \u001b[38;5;241m15\u001b[39m :\n\u001b[0;32m      2\u001b[0m     \u001b[38;5;28mprint\u001b[39m(\u001b[38;5;124m\"\u001b[39m\u001b[38;5;124mmy name is sinchu i love india\u001b[39m\u001b[38;5;124m\"\u001b[39m)\n",
      "\u001b[1;31mNameError\u001b[0m: name 'a' is not defined"
     ]
    }
   ],
   "source": [
    "if a < 15 :\n",
    "    print(\"my name is sinchu i love india\")"
   ]
  },
  {
   "cell_type": "code",
   "execution_count": null,
   "id": "f781c6d1",
   "metadata": {},
   "outputs": [],
   "source": [
    "study_hour = int(input())\n",
    "if study_hour < 1 :\n",
    "    print(\"it may take 8 month time\")\n",
    "elif study_hour <4 and study_hour >1 :\n",
    "    print(\"it may take 6 month time\")\n",
    "elif study_hour > 10 :\n",
    "    print(\"it will take 3 month of time\")\n",
    "else"
   ]
  },
  {
   "cell_type": "code",
   "execution_count": 1,
   "id": "d1fc2dcc",
   "metadata": {},
   "outputs": [
    {
     "name": "stdout",
     "output_type": "stream",
     "text": [
      "1\n",
      "2\n",
      "3\n",
      "4\n",
      "5\n",
      "6\n",
      "7\n"
     ]
    }
   ],
   "source": [
    "l=[1,2,3,4,5,6,7]\n",
    "for i in l :\n",
    "    print(i)"
   ]
  },
  {
   "cell_type": "code",
   "execution_count": 5,
   "id": "22ef7e62",
   "metadata": {},
   "outputs": [
    {
     "name": "stdout",
     "output_type": "stream",
     "text": [
      "s\n",
      "i\n",
      "n\n",
      "c\n",
      "h\n",
      "u\n"
     ]
    }
   ],
   "source": [
    "\n",
    "for i in  \"sinchu\" :\n",
    "    print(i)"
   ]
  },
  {
   "cell_type": "code",
   "execution_count": 7,
   "id": "a7507db6",
   "metadata": {},
   "outputs": [],
   "source": [
    "t = (1,2,3,4,5,6,6)"
   ]
  },
  {
   "cell_type": "code",
   "execution_count": 8,
   "id": "54a30ac9",
   "metadata": {},
   "outputs": [
    {
     "name": "stdout",
     "output_type": "stream",
     "text": [
      "1\n",
      "2\n",
      "3\n",
      "4\n",
      "5\n",
      "6\n",
      "6\n"
     ]
    }
   ],
   "source": [
    "for i in t :\n",
    "    print(i)"
   ]
  },
  {
   "cell_type": "code",
   "execution_count": 9,
   "id": "2cf4e90d",
   "metadata": {},
   "outputs": [],
   "source": [
    "l = [1,2,3,5.6, 4+7j , \" sinchurokkad\"]"
   ]
  },
  {
   "cell_type": "code",
   "execution_count": 10,
   "id": "7bc45577",
   "metadata": {},
   "outputs": [
    {
     "name": "stdout",
     "output_type": "stream",
     "text": [
      "<class 'int'>\n",
      "<class 'int'>\n",
      "<class 'int'>\n",
      "<class 'float'>\n",
      "<class 'complex'>\n",
      "<class 'str'>\n"
     ]
    }
   ],
   "source": [
    "for i in l :\n",
    "    print(type (i))"
   ]
  },
  {
   "cell_type": "code",
   "execution_count": 11,
   "id": "094016dd",
   "metadata": {},
   "outputs": [
    {
     "name": "stdout",
     "output_type": "stream",
     "text": [
      "3\n",
      "6\n",
      "7.6\n"
     ]
    }
   ],
   "source": [
    "l = [1,4,5.6]\n",
    "l1 = []\n",
    "for i in l :\n",
    "    print(i+2)"
   ]
  },
  {
   "cell_type": "code",
   "execution_count": 12,
   "id": "128cc2e0",
   "metadata": {},
   "outputs": [
    {
     "data": {
      "text/plain": [
       "[]"
      ]
     },
     "execution_count": 12,
     "metadata": {},
     "output_type": "execute_result"
    }
   ],
   "source": [
    "l1\n"
   ]
  },
  {
   "cell_type": "code",
   "execution_count": 13,
   "id": "4b7edb7d",
   "metadata": {},
   "outputs": [],
   "source": [
    "l = [2,45,78, \"sinchu\" , {56 , 67 ,78}]"
   ]
  },
  {
   "cell_type": "code",
   "execution_count": 15,
   "id": "da932e5b",
   "metadata": {},
   "outputs": [
    {
     "name": "stdout",
     "output_type": "stream",
     "text": [
      "2\n",
      "45\n",
      "78\n"
     ]
    }
   ],
   "source": [
    "for i in l :\n",
    "    if type (i) == int :\n",
    "        print (i)\n",
    "    elif type(i) == list :\n",
    "        for j in i :\n",
    "            if type(j) == int :\n",
    "                print(j)"
   ]
  },
  {
   "cell_type": "code",
   "execution_count": null,
   "id": "04367d6d",
   "metadata": {},
   "outputs": [],
   "source": []
  }
 ],
 "metadata": {
  "kernelspec": {
   "display_name": "Python 3 (ipykernel)",
   "language": "python",
   "name": "python3"
  },
  "language_info": {
   "codemirror_mode": {
    "name": "ipython",
    "version": 3
   },
   "file_extension": ".py",
   "mimetype": "text/x-python",
   "name": "python",
   "nbconvert_exporter": "python",
   "pygments_lexer": "ipython3",
   "version": "3.11.5"
  }
 },
 "nbformat": 4,
 "nbformat_minor": 5
}
