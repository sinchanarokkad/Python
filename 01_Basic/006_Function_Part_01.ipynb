{
 "cells": [
  {
   "cell_type": "code",
   "execution_count": 2,
   "id": "47a423ba",
   "metadata": {},
   "outputs": [
    {
     "data": {
      "text/plain": [
       "14"
      ]
     },
     "execution_count": 2,
     "metadata": {},
     "output_type": "execute_result"
    }
   ],
   "source": [
    "len(\"sinchanarokkad\")\n",
    "\n"
   ]
  },
  {
   "cell_type": "code",
   "execution_count": 3,
   "id": "d7eb0e23",
   "metadata": {},
   "outputs": [
    {
     "name": "stdout",
     "output_type": "stream",
     "text": [
      "amogh , sudeeksha,priya\n"
     ]
    }
   ],
   "source": [
    "print(\"amogh , sudeeksha,priya\")"
   ]
  },
  {
   "cell_type": "code",
   "execution_count": 4,
   "id": "dbba2f87",
   "metadata": {},
   "outputs": [],
   "source": [
    "def test() :\n",
    "    pass"
   ]
  },
  {
   "cell_type": "code",
   "execution_count": 5,
   "id": "3da7c5d0",
   "metadata": {},
   "outputs": [],
   "source": [
    "def test1():\n",
    "    print(\"this is my first coding\")"
   ]
  },
  {
   "cell_type": "code",
   "execution_count": 6,
   "id": "5aa205f3",
   "metadata": {},
   "outputs": [
    {
     "name": "stdout",
     "output_type": "stream",
     "text": [
      "this is my first coding\n"
     ]
    }
   ],
   "source": [
    "test1()"
   ]
  },
  {
   "cell_type": "code",
   "execution_count": 7,
   "id": "bf61c29c",
   "metadata": {},
   "outputs": [],
   "source": [
    "a = test()"
   ]
  },
  {
   "cell_type": "code",
   "execution_count": 8,
   "id": "2acf593d",
   "metadata": {},
   "outputs": [
    {
     "data": {
      "text/plain": [
       "'sinchrokkad'"
      ]
     },
     "execution_count": 8,
     "metadata": {},
     "output_type": "execute_result"
    }
   ],
   "source": [
    "\"sinch\" + \"rokkad\""
   ]
  },
  {
   "cell_type": "code",
   "execution_count": 9,
   "id": "da0683e3",
   "metadata": {},
   "outputs": [
    {
     "name": "stdout",
     "output_type": "stream",
     "text": [
      "this is my first coding\n"
     ]
    },
    {
     "data": {
      "text/plain": [
       "NoneType"
      ]
     },
     "execution_count": 9,
     "metadata": {},
     "output_type": "execute_result"
    }
   ],
   "source": [
    "type(test1())"
   ]
  },
  {
   "cell_type": "code",
   "execution_count": 10,
   "id": "c56e29d3",
   "metadata": {},
   "outputs": [
    {
     "name": "stdout",
     "output_type": "stream",
     "text": [
      "this is my first coding\n"
     ]
    }
   ],
   "source": [
    "a = test1()"
   ]
  },
  {
   "cell_type": "code",
   "execution_count": 11,
   "id": "730434a9",
   "metadata": {},
   "outputs": [
    {
     "data": {
      "text/plain": [
       "'None'"
      ]
     },
     "execution_count": 11,
     "metadata": {},
     "output_type": "execute_result"
    }
   ],
   "source": [
    "str(a)"
   ]
  },
  {
   "cell_type": "code",
   "execution_count": 12,
   "id": "6f71f2f0",
   "metadata": {},
   "outputs": [],
   "source": [
    "def test2() :\n",
    "    return \"this my life \""
   ]
  },
  {
   "cell_type": "code",
   "execution_count": 13,
   "id": "83c9348f",
   "metadata": {},
   "outputs": [
    {
     "data": {
      "text/plain": [
       "str"
      ]
     },
     "execution_count": 13,
     "metadata": {},
     "output_type": "execute_result"
    }
   ],
   "source": [
    "type(test2())"
   ]
  },
  {
   "cell_type": "code",
   "execution_count": null,
   "id": "2e03c88c",
   "metadata": {},
   "outputs": [
    {
     "data": {
      "text/plain": [
       "'this my life   ninu'"
      ]
     },
     "execution_count": 14,
     "metadata": {},
     "output_type": "execute_result"
    }
   ],
   "source": [
    "test2() + \"  ninu\""
   ]
  },
  {
   "cell_type": "code",
   "execution_count": 15,
   "id": "02f5b578",
   "metadata": {},
   "outputs": [],
   "source": [
    "def test3() :\n",
    "    return 234535"
   ]
  },
  {
   "cell_type": "code",
   "execution_count": 16,
   "id": "f39a2d92",
   "metadata": {},
   "outputs": [
    {
     "data": {
      "text/plain": [
       "int"
      ]
     },
     "execution_count": 16,
     "metadata": {},
     "output_type": "execute_result"
    }
   ],
   "source": [
    "type(test3( ))"
   ]
  },
  {
   "cell_type": "code",
   "execution_count": 17,
   "id": "3f4bb512",
   "metadata": {},
   "outputs": [],
   "source": [
    "def test4( ) :\n",
    "    return 4,3, \"sinchu\" , [1,2,3,4,5]\n"
   ]
  },
  {
   "cell_type": "code",
   "execution_count": 18,
   "id": "88b521c6",
   "metadata": {},
   "outputs": [
    {
     "data": {
      "text/plain": [
       "tuple"
      ]
     },
     "execution_count": 18,
     "metadata": {},
     "output_type": "execute_result"
    }
   ],
   "source": [
    "type(test4())"
   ]
  },
  {
   "cell_type": "code",
   "execution_count": 19,
   "id": "78346d40",
   "metadata": {},
   "outputs": [
    {
     "data": {
      "text/plain": [
       "(4, 3, 'sinchu', [1, 2, 3, 4, 5])"
      ]
     },
     "execution_count": 19,
     "metadata": {},
     "output_type": "execute_result"
    }
   ],
   "source": [
    "test4()"
   ]
  },
  {
   "cell_type": "code",
   "execution_count": 20,
   "id": "798575fd",
   "metadata": {},
   "outputs": [],
   "source": [
    "b = test4()"
   ]
  },
  {
   "cell_type": "code",
   "execution_count": 21,
   "id": "54533b00",
   "metadata": {},
   "outputs": [
    {
     "data": {
      "text/plain": [
       "(4, 3, 'sinchu', [1, 2, 3, 4, 5])"
      ]
     },
     "execution_count": 21,
     "metadata": {},
     "output_type": "execute_result"
    }
   ],
   "source": [
    "b"
   ]
  },
  {
   "cell_type": "code",
   "execution_count": 22,
   "id": "09d543c3",
   "metadata": {},
   "outputs": [
    {
     "data": {
      "text/plain": [
       "4"
      ]
     },
     "execution_count": 22,
     "metadata": {},
     "output_type": "execute_result"
    }
   ],
   "source": [
    "b[0]"
   ]
  },
  {
   "cell_type": "code",
   "execution_count": 23,
   "id": "0edd78ef",
   "metadata": {},
   "outputs": [
    {
     "data": {
      "text/plain": [
       "3"
      ]
     },
     "execution_count": 23,
     "metadata": {},
     "output_type": "execute_result"
    }
   ],
   "source": [
    "b[1]"
   ]
  },
  {
   "cell_type": "code",
   "execution_count": 24,
   "id": "8419b7a5",
   "metadata": {},
   "outputs": [
    {
     "data": {
      "text/plain": [
       "'sinchu'"
      ]
     },
     "execution_count": 24,
     "metadata": {},
     "output_type": "execute_result"
    }
   ],
   "source": [
    "b[2]"
   ]
  },
  {
   "cell_type": "code",
   "execution_count": 25,
   "id": "4e11d381",
   "metadata": {},
   "outputs": [
    {
     "data": {
      "text/plain": [
       "[1, 2, 3, 4, 5]"
      ]
     },
     "execution_count": 25,
     "metadata": {},
     "output_type": "execute_result"
    }
   ],
   "source": [
    "b[3]"
   ]
  },
  {
   "cell_type": "code",
   "execution_count": 26,
   "id": "2697d980",
   "metadata": {},
   "outputs": [
    {
     "data": {
      "text/plain": [
       "(4, 3, 'sinchu', [1, 2, 3, 4, 5])"
      ]
     },
     "execution_count": 26,
     "metadata": {},
     "output_type": "execute_result"
    }
   ],
   "source": [
    "test4( )"
   ]
  },
  {
   "cell_type": "code",
   "execution_count": 27,
   "id": "bcc03c2c",
   "metadata": {},
   "outputs": [],
   "source": [
    "a = 1\n",
    "b = 5\n",
    "c = \"love\"\n",
    "d = [3456,5678,78800]"
   ]
  },
  {
   "cell_type": "code",
   "execution_count": 28,
   "id": "50d3dcd8",
   "metadata": {},
   "outputs": [],
   "source": [
    "a , b,c,d = 34 , 45 ,\"sinch\" , \"care\""
   ]
  },
  {
   "cell_type": "code",
   "execution_count": 29,
   "id": "36c0212b",
   "metadata": {},
   "outputs": [],
   "source": [
    "x , y,u,v = test4()"
   ]
  },
  {
   "cell_type": "code",
   "execution_count": 30,
   "id": "be8da357",
   "metadata": {},
   "outputs": [
    {
     "data": {
      "text/plain": [
       "4"
      ]
     },
     "execution_count": 30,
     "metadata": {},
     "output_type": "execute_result"
    }
   ],
   "source": [
    "x\n"
   ]
  },
  {
   "cell_type": "code",
   "execution_count": 31,
   "id": "08c65c44",
   "metadata": {},
   "outputs": [
    {
     "data": {
      "text/plain": [
       "3"
      ]
     },
     "execution_count": 31,
     "metadata": {},
     "output_type": "execute_result"
    }
   ],
   "source": [
    "y"
   ]
  },
  {
   "cell_type": "code",
   "execution_count": 32,
   "id": "8c184e24",
   "metadata": {},
   "outputs": [
    {
     "data": {
      "text/plain": [
       "'sinchu'"
      ]
     },
     "execution_count": 32,
     "metadata": {},
     "output_type": "execute_result"
    }
   ],
   "source": [
    "u"
   ]
  },
  {
   "cell_type": "code",
   "execution_count": 33,
   "id": "95cdff48",
   "metadata": {},
   "outputs": [
    {
     "data": {
      "text/plain": [
       "[1, 2, 3, 4, 5]"
      ]
     },
     "execution_count": 33,
     "metadata": {},
     "output_type": "execute_result"
    }
   ],
   "source": [
    "v"
   ]
  },
  {
   "cell_type": "code",
   "execution_count": 34,
   "id": "95d3748a",
   "metadata": {},
   "outputs": [],
   "source": [
    "def test5 ( ):\n",
    "    a = 6 * 7/6 \n",
    "    return a"
   ]
  },
  {
   "cell_type": "code",
   "execution_count": 35,
   "id": "0bcc2511",
   "metadata": {},
   "outputs": [
    {
     "data": {
      "text/plain": [
       "7.0"
      ]
     },
     "execution_count": 35,
     "metadata": {},
     "output_type": "execute_result"
    }
   ],
   "source": [
    "test5( )"
   ]
  },
  {
   "cell_type": "code",
   "execution_count": 36,
   "id": "e52b220f",
   "metadata": {},
   "outputs": [],
   "source": [
    "def test6( ):\n",
    "    a = 4 + 5\n",
    "    return a"
   ]
  },
  {
   "cell_type": "code",
   "execution_count": 37,
   "id": "6a5fa904",
   "metadata": {},
   "outputs": [
    {
     "data": {
      "text/plain": [
       "9"
      ]
     },
     "execution_count": 37,
     "metadata": {},
     "output_type": "execute_result"
    }
   ],
   "source": [
    "test6( )"
   ]
  },
  {
   "cell_type": "code",
   "execution_count": 38,
   "id": "4a429bc2",
   "metadata": {},
   "outputs": [],
   "source": [
    "def test7( ):\n",
    "    a = 10-3+9\n",
    "    return a"
   ]
  },
  {
   "cell_type": "code",
   "execution_count": 39,
   "id": "bc5d9268",
   "metadata": {},
   "outputs": [
    {
     "data": {
      "text/plain": [
       "16"
      ]
     },
     "execution_count": 39,
     "metadata": {},
     "output_type": "execute_result"
    }
   ],
   "source": [
    "test7( )"
   ]
  },
  {
   "cell_type": "code",
   "execution_count": 40,
   "id": "e7ff11c1",
   "metadata": {},
   "outputs": [
    {
     "data": {
      "text/plain": [
       "5"
      ]
     },
     "execution_count": 40,
     "metadata": {},
     "output_type": "execute_result"
    }
   ],
   "source": [
    "len(\"darsh\")"
   ]
  },
  {
   "cell_type": "code",
   "execution_count": 41,
   "id": "7677999c",
   "metadata": {},
   "outputs": [],
   "source": [
    "l = [3,4,5,6,7,\"father\", [1,3,5,7]]"
   ]
  },
  {
   "cell_type": "code",
   "execution_count": 42,
   "id": "9ace6e30",
   "metadata": {},
   "outputs": [],
   "source": [
    "def test6( a):\n",
    "    n =[]\n",
    "    if type(a) == list :\n",
    "        for i in a:\n",
    "            if type(i) == int :\n",
    "                 n.append(i)\n",
    "                \n",
    "    return n"
   ]
  },
  {
   "cell_type": "code",
   "execution_count": 43,
   "id": "8883c71a",
   "metadata": {},
   "outputs": [
    {
     "data": {
      "text/plain": [
       "[3, 4, 5, 6, 7]"
      ]
     },
     "execution_count": 43,
     "metadata": {},
     "output_type": "execute_result"
    }
   ],
   "source": [
    "test6(l )"
   ]
  },
  {
   "cell_type": "code",
   "execution_count": 44,
   "id": "85f0781c",
   "metadata": {},
   "outputs": [],
   "source": [
    "def test7(a):\n",
    "    n =[]\n",
    "    if type(a) == list :\n",
    "        for i in a:\n",
    "            if type(i) == int :\n",
    "                 n.append(i)\n",
    "            elif type(i) == list :\n",
    "                for j in i :\n",
    "                    if type(j) == int :\n",
    "                        n.append(j)\n",
    "                \n",
    "    return n"
   ]
  },
  {
   "cell_type": "code",
   "execution_count": 44,
   "id": "74f5cf60",
   "metadata": {},
   "outputs": [
    {
     "data": {
      "text/plain": [
       "[3, 4, 5, 6, 7, 1, 3, 5, 7]"
      ]
     },
     "execution_count": 44,
     "metadata": {},
     "output_type": "execute_result"
    }
   ],
   "source": [
    "test7(l)"
   ]
  },
  {
   "cell_type": "code",
   "execution_count": 45,
   "id": "5f106ac6",
   "metadata": {},
   "outputs": [],
   "source": [
    "def test9(a ):\n",
    "    n = \"sinch\"\n",
    "    if type(a) == list :\n",
    "        for i in a :\n",
    "            if type(i) == int :\n",
    "                n.append(i)\n",
    "                \n",
    "    return n"
   ]
  },
  {
   "cell_type": "code",
   "execution_count": 46,
   "id": "d5fc900c",
   "metadata": {},
   "outputs": [
    {
     "data": {
      "text/plain": [
       "'sinch'"
      ]
     },
     "execution_count": 46,
     "metadata": {},
     "output_type": "execute_result"
    }
   ],
   "source": [
    "test9( a)"
   ]
  },
  {
   "cell_type": "code",
   "execution_count": 47,
   "id": "358fb1ca",
   "metadata": {},
   "outputs": [],
   "source": [
    "def test8(c) :\n",
    "    if type(a) == list :\n",
    "        for i in l :\n",
    "            if type(i) == int :\n",
    "                n = print(i,end = \"  \")\n",
    "                \n",
    "    return n"
   ]
  },
  {
   "cell_type": "code",
   "execution_count": 48,
   "id": "5280b1df",
   "metadata": {},
   "outputs": [],
   "source": [
    "def test9(a ,b) :\n",
    "    if type(a) == list and type(b) == list :\n",
    "        return a.extend(b)\n",
    "    else :\n",
    "        return \"either of your data is not a list\"\n",
    "    \n",
    "        "
   ]
  },
  {
   "cell_type": "code",
   "execution_count": 49,
   "id": "813186df",
   "metadata": {},
   "outputs": [
    {
     "data": {
      "text/plain": [
       "'either of your data is not a list'"
      ]
     },
     "execution_count": 49,
     "metadata": {},
     "output_type": "execute_result"
    }
   ],
   "source": [
    "test9(2424,\"upside\")"
   ]
  },
  {
   "cell_type": "code",
   "execution_count": 50,
   "id": "cfd87e4b",
   "metadata": {},
   "outputs": [],
   "source": [
    "test9([2,3,4,5,6] , [4,5,6])"
   ]
  },
  {
   "cell_type": "code",
   "execution_count": 51,
   "id": "d8af187e",
   "metadata": {},
   "outputs": [],
   "source": [
    "n = test9([2,3,4,5,6] , [4,5,7,1])"
   ]
  },
  {
   "cell_type": "code",
   "execution_count": 52,
   "id": "d8090ab2",
   "metadata": {},
   "outputs": [],
   "source": [
    "n"
   ]
  },
  {
   "cell_type": "code",
   "execution_count": 53,
   "id": "ff71147b",
   "metadata": {},
   "outputs": [],
   "source": [
    "a = [2,3,4,5,6]\n",
    "b = [4,5,7,1]"
   ]
  },
  {
   "cell_type": "code",
   "execution_count": 54,
   "id": "d2936f6a",
   "metadata": {},
   "outputs": [],
   "source": [
    "test9(a , b)"
   ]
  },
  {
   "cell_type": "code",
   "execution_count": 55,
   "id": "26a06942",
   "metadata": {},
   "outputs": [
    {
     "data": {
      "text/plain": [
       "[2, 3, 4, 5, 6, 4, 5, 7, 1]"
      ]
     },
     "execution_count": 55,
     "metadata": {},
     "output_type": "execute_result"
    }
   ],
   "source": [
    "a"
   ]
  },
  {
   "cell_type": "code",
   "execution_count": 56,
   "id": "9e0112ff",
   "metadata": {},
   "outputs": [
    {
     "name": "stdout",
     "output_type": "stream",
     "text": [
      "*  \n",
      "\n",
      "*  *  \n",
      "\n",
      "*  *  *  \n",
      "\n"
     ]
    }
   ],
   "source": [
    "n = 3\n",
    "for i in range(0 , n):\n",
    "    for j in range(0,i+1):\n",
    "        print(\"*\" , end =\"  \")\n",
    "    print(\"\\n\")"
   ]
  },
  {
   "cell_type": "code",
   "execution_count": 57,
   "id": "6b9d1661",
   "metadata": {},
   "outputs": [
    {
     "name": "stdout",
     "output_type": "stream",
     "text": [
      "*  \n",
      "\n",
      "*  *  \n",
      "\n",
      "*  *  *  \n",
      "\n",
      "*  *  *  *  \n",
      "\n",
      "*  *  *  *  *  \n",
      "\n",
      "*  *  *  *  *  *  \n",
      "\n",
      "*  *  *  *  *  *  *  \n",
      "\n",
      "*  *  *  *  *  *  *  *  \n",
      "\n",
      "*  *  *  *  *  *  *  *  *  \n",
      "\n",
      "*  *  *  *  *  *  *  *  *  *  \n",
      "\n"
     ]
    }
   ],
   "source": [
    "\n",
    "n = 10\n",
    "for i in range(0 , n):\n",
    "    for j in range(0,i+1):\n",
    "        print(\"*\" , end =\"  \")\n",
    "    print(\"\\n\")"
   ]
  },
  {
   "cell_type": "code",
   "execution_count": 58,
   "id": "25082e13",
   "metadata": {},
   "outputs": [
    {
     "name": "stdout",
     "output_type": "stream",
     "text": [
      "                            *     \n",
      "                         *   *     \n",
      "                      *   *   *     \n",
      "                   *   *   *   *     \n",
      "                *   *   *   *   *     \n",
      "             *   *   *   *   *   *     \n",
      "          *   *   *   *   *   *   *     \n",
      "       *   *   *   *   *   *   *   *     \n",
      "    *   *   *   *   *   *   *   *   *     \n",
      " *   *   *   *   *   *   *   *   *   *     \n"
     ]
    }
   ],
   "source": [
    "def Create_Triangle(row_num):\n",
    "    n = row_num\n",
    "    k = n -1 \n",
    "    \n",
    "    for i in range(0 , n) :\n",
    "        \n",
    "        for j in range(0, k) :\n",
    "            print(end=\"   \")\n",
    "            \n",
    "        k = k-1 \n",
    "        \n",
    "        for j in range(0, i+1):\n",
    "            print(\" * \" , end=\" \")\n",
    "            \n",
    "        print(\"   \")\n",
    "        \n",
    "Create_Triangle(10)"
   ]
  },
  {
   "cell_type": "code",
   "execution_count": 59,
   "id": "be1e629f",
   "metadata": {},
   "outputs": [
    {
     "name": "stdout",
     "output_type": "stream",
     "text": [
      "          *     \n",
      "       *   *     \n",
      "    *   *   *     \n",
      " *   *   *   *     \n"
     ]
    }
   ],
   "source": [
    "Create_Triangle(4)"
   ]
  },
  {
   "cell_type": "code",
   "execution_count": 60,
   "id": "6b8c0efe",
   "metadata": {},
   "outputs": [
    {
     "name": "stdout",
     "output_type": "stream",
     "text": [
      "Help on function test9 in module __main__:\n",
      "\n",
      "test9(a, b)\n",
      "\n"
     ]
    }
   ],
   "source": [
    "help(test9)"
   ]
  },
  {
   "cell_type": "code",
   "execution_count": 61,
   "id": "f8747b52",
   "metadata": {},
   "outputs": [],
   "source": [
    "#kdkjnj mashkjhfiu snmhk zxnuw"
   ]
  },
  {
   "cell_type": "code",
   "execution_count": 62,
   "id": "46bd7794",
   "metadata": {},
   "outputs": [
    {
     "ename": "NameError",
     "evalue": "name 'dgb' is not defined",
     "output_type": "error",
     "traceback": [
      "\u001b[1;31m---------------------------------------------------------------------------\u001b[0m",
      "\u001b[1;31mNameError\u001b[0m                                 Traceback (most recent call last)",
      "Cell \u001b[1;32mIn[62], line 2\u001b[0m\n\u001b[0;32m      1\u001b[0m \u001b[38;5;66;03m#dfg\u001b[39;00m\n\u001b[1;32m----> 2\u001b[0m dgb\n\u001b[0;32m      3\u001b[0m fhg\n\u001b[0;32m      4\u001b[0m vnm\n",
      "\u001b[1;31mNameError\u001b[0m: name 'dgb' is not defined"
     ]
    }
   ],
   "source": [
    "#dfg\n",
    "dgb\n",
    "fhg\n",
    "vnm\n",
    "tmmmnku"
   ]
  },
  {
   "cell_type": "code",
   "execution_count": 64,
   "id": "f84b3e6e",
   "metadata": {},
   "outputs": [],
   "source": [
    "def ext(a, b):\n",
    "    if type(a) == list and type(b) == list :\n",
    "        a.extend(b)\n",
    "        return a\n",
    "    else :\n",
    "        print(\"it not list\")"
   ]
  },
  {
   "cell_type": "code",
   "execution_count": 65,
   "id": "3bae493d",
   "metadata": {},
   "outputs": [
    {
     "data": {
      "text/plain": [
       "[3, 4, 5, 6, 4, 5, 6, 7]"
      ]
     },
     "execution_count": 65,
     "metadata": {},
     "output_type": "execute_result"
    }
   ],
   "source": [
    "ext([3,4,5,6] , [4,5,6,7])"
   ]
  },
  {
   "cell_type": "code",
   "execution_count": 66,
   "id": "e40a3d18",
   "metadata": {},
   "outputs": [],
   "source": [
    "def test8() :\n",
    "    a = input()\n",
    "    b = []\n",
    "    if type(a) == int :\n",
    "        for i in a :\n",
    "            b.append ( )\n",
    "            \n",
    "    return b"
   ]
  },
  {
   "cell_type": "code",
   "execution_count": 67,
   "id": "346ca15b",
   "metadata": {},
   "outputs": [
    {
     "name": "stdout",
     "output_type": "stream",
     "text": [
      "THANK YOU\n"
     ]
    }
   ],
   "source": [
    "print(\"THANK YOU\")"
   ]
  }
 ],
 "metadata": {
  "kernelspec": {
   "display_name": "Python 3 (ipykernel)",
   "language": "python",
   "name": "python3"
  },
  "language_info": {
   "codemirror_mode": {
    "name": "ipython",
    "version": 3
   },
   "file_extension": ".py",
   "mimetype": "text/x-python",
   "name": "python",
   "nbconvert_exporter": "python",
   "pygments_lexer": "ipython3",
   "version": "3.11.5"
  }
 },
 "nbformat": 4,
 "nbformat_minor": 5
}
