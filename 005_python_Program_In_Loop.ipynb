{
 "cells": [
  {
   "cell_type": "markdown",
   "id": "6a97d5aa",
   "metadata": {},
   "source": [
    "<font colour = 'blue' > Program In Loop"
   ]
  },
  {
   "cell_type": "code",
   "execution_count": 1,
   "id": "1d73dfc3",
   "metadata": {},
   "outputs": [
    {
     "data": {
      "text/plain": [
       "26"
      ]
     },
     "execution_count": 1,
     "metadata": {},
     "output_type": "execute_result"
    }
   ],
   "source": [
    "\n",
    "t = \"This is basic python class\"\n",
    "len(t)"
   ]
  },
  {
   "cell_type": "code",
   "execution_count": 2,
   "id": "9939284f",
   "metadata": {},
   "outputs": [
    {
     "data": {
      "text/plain": [
       "33"
      ]
     },
     "execution_count": 2,
     "metadata": {},
     "output_type": "execute_result"
    }
   ],
   "source": [
    "s = \"My name is Sinchanarokkad age 18 \"\n",
    "len(s)"
   ]
  },
  {
   "cell_type": "code",
   "execution_count": 3,
   "id": "38866b26",
   "metadata": {},
   "outputs": [
    {
     "name": "stdout",
     "output_type": "stream",
     "text": [
      "33\n"
     ]
    }
   ],
   "source": [
    "count = 0\n",
    "for i in s :\n",
    "    count = count + 1 \n",
    "print(count)"
   ]
  },
  {
   "cell_type": "code",
   "execution_count": 4,
   "id": "c7b28d75",
   "metadata": {},
   "outputs": [
    {
     "data": {
      "text/plain": [
       "' 81 ega dakkoranahcniS si eman yM'"
      ]
     },
     "execution_count": 4,
     "metadata": {},
     "output_type": "execute_result"
    }
   ],
   "source": [
    "s[::-1]"
   ]
  },
  {
   "cell_type": "code",
   "execution_count": 5,
   "id": "dcc41b81",
   "metadata": {},
   "outputs": [
    {
     "data": {
      "text/plain": [
       "'ssalc nohtyp cisab si sihT'"
      ]
     },
     "execution_count": 5,
     "metadata": {},
     "output_type": "execute_result"
    }
   ],
   "source": [
    "t[::-1]"
   ]
  },
  {
   "cell_type": "code",
   "execution_count": 6,
   "id": "f22d22f5",
   "metadata": {},
   "outputs": [
    {
     "name": "stdout",
     "output_type": "stream",
     "text": [
      " \n",
      "8\n",
      "1\n",
      " \n",
      "e\n",
      "g\n",
      "a\n",
      " \n",
      "d\n",
      "a\n",
      "k\n",
      "k\n",
      "o\n",
      "r\n",
      "a\n",
      "n\n",
      "a\n",
      "h\n",
      "c\n",
      "n\n",
      "i\n",
      "S\n",
      " \n",
      "s\n",
      "i\n",
      " \n",
      "e\n",
      "m\n",
      "a\n",
      "n\n",
      " \n",
      "y\n",
      "M\n"
     ]
    }
   ],
   "source": [
    "for i in range(len(s) -1 , -1 ,-1):\n",
    "    print(s[i])"
   ]
  },
  {
   "cell_type": "code",
   "execution_count": 7,
   "id": "9de298b8",
   "metadata": {},
   "outputs": [
    {
     "data": {
      "text/plain": [
       "'My name is Sinchanarokkad age 18 '"
      ]
     },
     "execution_count": 7,
     "metadata": {},
     "output_type": "execute_result"
    }
   ],
   "source": [
    "s"
   ]
  },
  {
   "cell_type": "code",
   "execution_count": 8,
   "id": "05ce9632",
   "metadata": {},
   "outputs": [
    {
     "name": "stdout",
     "output_type": "stream",
     "text": [
      "  8 1   e g a   d a k k o r a n a h c n i S   s i   e m a n   y M "
     ]
    }
   ],
   "source": [
    "i = len(s)-1\n",
    "while(i>=0) :\n",
    "    print(s[i] , end = \" \")\n",
    "    i = i -1"
   ]
  },
  {
   "cell_type": "code",
   "execution_count": 9,
   "id": "c9a12737",
   "metadata": {},
   "outputs": [
    {
     "name": "stdout",
     "output_type": "stream",
     "text": [
      "Volwel  i\n",
      "Volwel  u\n",
      "Volwel  o\n",
      "Volwel  a\n",
      "not Volwel d\n"
     ]
    }
   ],
   "source": [
    "s = \"sinchurokkad\"\n",
    "v = \"AaEeIiOoUu\"\n",
    "for i in s :\n",
    "    if i in v :\n",
    "        print(\"Volwel \" , i)\n",
    "else :\n",
    "    print(\"not Volwel\" , i)"
   ]
  },
  {
   "cell_type": "code",
   "execution_count": 10,
   "id": "1110a638",
   "metadata": {},
   "outputs": [
    {
     "data": {
      "text/plain": [
       "False"
      ]
     },
     "execution_count": 10,
     "metadata": {},
     "output_type": "execute_result"
    }
   ],
   "source": [
    "s in \"sinchu\""
   ]
  },
  {
   "cell_type": "code",
   "execution_count": 11,
   "id": "b0f9cc79",
   "metadata": {},
   "outputs": [
    {
     "data": {
      "text/plain": [
       "True"
      ]
     },
     "execution_count": 11,
     "metadata": {},
     "output_type": "execute_result"
    }
   ],
   "source": [
    "\"s\" in \"sinchu\""
   ]
  },
  {
   "cell_type": "code",
   "execution_count": 12,
   "id": "f24586ad",
   "metadata": {},
   "outputs": [
    {
     "name": "stdout",
     "output_type": "stream",
     "text": [
      "not vowel  d\n",
      "vowel a\n",
      "not vowel  r\n",
      "not vowel  s\n",
      "not vowel  h\n",
      "vowel a\n",
      "not vowel  n\n",
      "vowel a\n"
     ]
    }
   ],
   "source": [
    "s = \"darshana\"\n",
    "v = \"AaEeIiOoUu\"\n",
    "for i in s :\n",
    "    if i in v:\n",
    "        print(\"vowel\" , i)\n",
    "    else :\n",
    "        print(\"not vowel \", i)"
   ]
  },
  {
   "cell_type": "code",
   "execution_count": 13,
   "id": "91c5c3f7",
   "metadata": {},
   "outputs": [
    {
     "data": {
      "text/plain": [
       "'eye'"
      ]
     },
     "execution_count": 13,
     "metadata": {},
     "output_type": "execute_result"
    }
   ],
   "source": [
    "\"tnent\"\n",
    "\"malayalam\"\n",
    "\"eye\""
   ]
  },
  {
   "cell_type": "code",
   "execution_count": 14,
   "id": "92ff70c1",
   "metadata": {},
   "outputs": [
    {
     "name": "stdout",
     "output_type": "stream",
     "text": [
      "tenet  - is a palendrome\n"
     ]
    }
   ],
   "source": [
    "word = \"tenet\"\n",
    "for i in range(len(word)):\n",
    "    if word[i] == word[len(word)-1-i]:\n",
    "        continue \n",
    "    else :\n",
    "            print(word,\" - Not palendrome\")\n",
    "else:\n",
    "    print(word,\" - is a palendrome\")"
   ]
  },
  {
   "cell_type": "code",
   "execution_count": 15,
   "id": "bd355909",
   "metadata": {},
   "outputs": [
    {
     "name": "stdout",
     "output_type": "stream",
     "text": [
      "not palendrome\n"
     ]
    }
   ],
   "source": [
    "s1 = \"eye\"\n",
    "s2 = s1\n",
    "n = len(s1)-1 \n",
    "while(n>=0):\n",
    "    n = n-1\n",
    "    if s2 == n :\n",
    "        print(\"palendrome\")\n",
    "else:\n",
    "    print(\"not palendrome\")"
   ]
  },
  {
   "cell_type": "code",
   "execution_count": 16,
   "id": "0e3a92e2",
   "metadata": {},
   "outputs": [
    {
     "name": "stdout",
     "output_type": "stream",
     "text": [
      "no\n"
     ]
    }
   ],
   "source": [
    "x = \"malayalam\"\n",
    "w = \"     \"\n",
    "for i in x :\n",
    "    w = i + w\n",
    "    \n",
    "if( x == w) :\n",
    "    print(\"yes\")\n",
    "else:\n",
    "    print(\"no\")\n",
    "    "
   ]
  },
  {
   "cell_type": "code",
   "execution_count": 17,
   "id": "c3804b66",
   "metadata": {},
   "outputs": [
    {
     "ename": "IndentationError",
     "evalue": "unexpected indent (3168656315.py, line 10)",
     "output_type": "error",
     "traceback": [
      "\u001b[1;36m  Cell \u001b[1;32mIn[17], line 10\u001b[1;36m\u001b[0m\n\u001b[1;33m    break\u001b[0m\n\u001b[1;37m    ^\u001b[0m\n\u001b[1;31mIndentationError\u001b[0m\u001b[1;31m:\u001b[0m unexpected indent\n"
     ]
    }
   ],
   "source": [
    "l = len (s)\n",
    "k = 0\n",
    "for i in range(l):\n",
    "    if s[i] == s[l-i-1] :\n",
    "          \n",
    "            continue \n",
    "else :\n",
    "            print(\"non palendrome\")\n",
    "            k= 1\n",
    "             break \n",
    "if k == 0 :\n",
    "    print(\"palendrome\")"
   ]
  },
  {
   "cell_type": "code",
   "execution_count": 18,
   "id": "82172c7f",
   "metadata": {},
   "outputs": [
    {
     "data": {
      "text/plain": [
       "'darshana'"
      ]
     },
     "execution_count": 18,
     "metadata": {},
     "output_type": "execute_result"
    }
   ],
   "source": [
    "s"
   ]
  },
  {
   "cell_type": "code",
   "execution_count": 19,
   "id": "ee2e7d1f",
   "metadata": {},
   "outputs": [],
   "source": [
    "d = {\"india\" : \"IN\" ,\n",
    "     \"canada\" :\"CA\" ,\n",
    "     \"china\" : \"CH\" ,\n",
    "     \"japan\" : \"JA\"}"
   ]
  },
  {
   "cell_type": "code",
   "execution_count": 20,
   "id": "7b802b95",
   "metadata": {},
   "outputs": [
    {
     "data": {
      "text/plain": [
       "True"
      ]
     },
     "execution_count": 20,
     "metadata": {},
     "output_type": "execute_result"
    }
   ],
   "source": [
    "\"india\" in d"
   ]
  },
  {
   "cell_type": "code",
   "execution_count": 21,
   "id": "941e5858",
   "metadata": {},
   "outputs": [
    {
     "name": "stdout",
     "output_type": "stream",
     "text": [
      "india\n",
      "canada\n",
      "china\n",
      "japan\n"
     ]
    }
   ],
   "source": [
    "for i in d :\n",
    "    print(i)"
   ]
  },
  {
   "cell_type": "code",
   "execution_count": 22,
   "id": "729a8e14",
   "metadata": {},
   "outputs": [],
   "source": [
    "l_greater = []\n",
    "l_smaller = []\n",
    "for i in d :\n",
    "    if len(i)<= 5 :\n",
    "        l_smaller.append(i)\n",
    "    else :\n",
    "        l_greater.append(i)"
   ]
  },
  {
   "cell_type": "code",
   "execution_count": 23,
   "id": "9c9510ea",
   "metadata": {},
   "outputs": [
    {
     "data": {
      "text/plain": [
       "['canada']"
      ]
     },
     "execution_count": 23,
     "metadata": {},
     "output_type": "execute_result"
    }
   ],
   "source": [
    "l_greater"
   ]
  },
  {
   "cell_type": "code",
   "execution_count": 24,
   "id": "d6ec04ab",
   "metadata": {},
   "outputs": [
    {
     "data": {
      "text/plain": [
       "['india', 'china', 'japan']"
      ]
     },
     "execution_count": 24,
     "metadata": {},
     "output_type": "execute_result"
    }
   ],
   "source": [
    "l_smaller"
   ]
  },
  {
   "cell_type": "code",
   "execution_count": 25,
   "id": "091c8136",
   "metadata": {},
   "outputs": [],
   "source": [
    "d_1 = {\"sinchurokkad\":{\n",
    "                             \"a\" : 14 , \n",
    "                             \"b\" : 10 ,\n",
    "                            \"c\"  : 4 \n",
    "                       } ,\n",
    "       \"course\" : {\n",
    "                             \"d\" : 45 , \n",
    "                              \"e\" : 34 ,\n",
    "                             \"f\"  : 1\n",
    "                      }\n",
    "      }"
   ]
  },
  {
   "cell_type": "code",
   "execution_count": 26,
   "id": "abc0b93b",
   "metadata": {},
   "outputs": [
    {
     "ename": "AttributeError",
     "evalue": "'str' object has no attribute 'values'",
     "output_type": "error",
     "traceback": [
      "\u001b[1;31m---------------------------------------------------------------------------\u001b[0m",
      "\u001b[1;31mAttributeError\u001b[0m                            Traceback (most recent call last)",
      "Cell \u001b[1;32mIn[26], line 3\u001b[0m\n\u001b[0;32m      1\u001b[0m lst \u001b[38;5;241m=\u001b[39m []\n\u001b[0;32m      2\u001b[0m \u001b[38;5;28;01mfor\u001b[39;00m i \u001b[38;5;129;01min\u001b[39;00m d\u001b[38;5;241m.\u001b[39mvalues():\n\u001b[1;32m----> 3\u001b[0m    \u001b[38;5;28;01mfor\u001b[39;00m j \u001b[38;5;129;01min\u001b[39;00m i\u001b[38;5;241m.\u001b[39mvalues():\n\u001b[0;32m      4\u001b[0m        lst\u001b[38;5;241m.\u001b[39mappend(j)\n\u001b[0;32m      5\u001b[0m    \u001b[38;5;28mprint\u001b[39m(\u001b[38;5;28mmax\u001b[39m(lst))\n",
      "\u001b[1;31mAttributeError\u001b[0m: 'str' object has no attribute 'values'"
     ]
    }
   ],
   "source": [
    " lst = []\n",
    "for i in d.values():\n",
    "    for j in i.values():\n",
    "        lst.append(j)\n",
    "    print(max(lst))"
   ]
  },
  {
   "cell_type": "code",
   "execution_count": null,
   "id": "0f5a10e2",
   "metadata": {},
   "outputs": [],
   "source": [
    "d_1 = {\"rokkad\" : {\"a\":14 , \"b\": 10 , \"c\" : 4},\n",
    "      \"course\" : {\"d\" : 45 , \"e\":34 , \"f\":1}\n",
    "       }\n",
    "for i in d1.values():\n",
    "    \n",
    "    mx = 0 \n",
    "    for j in i.values():\n",
    "        if mx < j :\n",
    "            mx = j \n",
    "        print(mx)"
   ]
  },
  {
   "cell_type": "code",
   "execution_count": 27,
   "id": "33f5a504",
   "metadata": {},
   "outputs": [
    {
     "name": "stdout",
     "output_type": "stream",
     "text": [
      "14\n",
      "45\n"
     ]
    }
   ],
   "source": [
    " for i in d_1.values() :\n",
    "        print(max(i.values()))"
   ]
  },
  {
   "cell_type": "code",
   "execution_count": 28,
   "id": "bc51b165",
   "metadata": {},
   "outputs": [
    {
     "name": "stdout",
     "output_type": "stream",
     "text": [
      "sinchurokkad\n",
      "course\n"
     ]
    },
    {
     "ename": "TypeError",
     "evalue": "'builtin_function_or_method' object is not iterable",
     "output_type": "error",
     "traceback": [
      "\u001b[1;31m---------------------------------------------------------------------------\u001b[0m",
      "\u001b[1;31mTypeError\u001b[0m                                 Traceback (most recent call last)",
      "Cell \u001b[1;32mIn[28], line 3\u001b[0m\n\u001b[0;32m      1\u001b[0m \u001b[38;5;28;01mfor\u001b[39;00m i \u001b[38;5;129;01min\u001b[39;00m d_1\u001b[38;5;241m.\u001b[39mkeys():\n\u001b[0;32m      2\u001b[0m     \u001b[38;5;28mprint\u001b[39m(i)\n\u001b[1;32m----> 3\u001b[0m \u001b[38;5;28mprint\u001b[39m(\u001b[38;5;28mmax\u001b[39m(d_1[i]\u001b[38;5;241m.\u001b[39mvalues))\n",
      "\u001b[1;31mTypeError\u001b[0m: 'builtin_function_or_method' object is not iterable"
     ]
    }
   ],
   "source": [
    "for i in d_1.keys():\n",
    "    print(i)\n",
    "print(max(d_1[i].values))"
   ]
  },
  {
   "cell_type": "code",
   "execution_count": 29,
   "id": "7e31589c",
   "metadata": {},
   "outputs": [
    {
     "data": {
      "text/plain": [
       "{'sinchurokkad': {'a': 14, 'b': 10, 'c': 4},\n",
       " 'course': {'d': 45, 'e': 34, 'f': 1}}"
      ]
     },
     "execution_count": 29,
     "metadata": {},
     "output_type": "execute_result"
    }
   ],
   "source": [
    "d_1"
   ]
  },
  {
   "cell_type": "code",
   "execution_count": 30,
   "id": "3c76cc2e",
   "metadata": {},
   "outputs": [
    {
     "ename": "NameError",
     "evalue": "name 'd1' is not defined",
     "output_type": "error",
     "traceback": [
      "\u001b[1;31m---------------------------------------------------------------------------\u001b[0m",
      "\u001b[1;31mNameError\u001b[0m                                 Traceback (most recent call last)",
      "Cell \u001b[1;32mIn[30], line 2\u001b[0m\n\u001b[0;32m      1\u001b[0m r \u001b[38;5;241m=\u001b[39m []\n\u001b[1;32m----> 2\u001b[0m \u001b[38;5;28;01mfor\u001b[39;00m i \u001b[38;5;129;01min\u001b[39;00m d1\u001b[38;5;241m.\u001b[39mvalues():\n\u001b[0;32m      4\u001b[0m    r\u001b[38;5;241m.\u001b[39mappend(\u001b[38;5;28mmax\u001b[39m(i\u001b[38;5;241m.\u001b[39mvalues()))\n\u001b[0;32m      5\u001b[0m    \u001b[38;5;28mprint\u001b[39m(\u001b[38;5;28mmax\u001b[39m(r))\n",
      "\u001b[1;31mNameError\u001b[0m: name 'd1' is not defined"
     ]
    }
   ],
   "source": [
    " r = []\n",
    "for i in d1.values():\n",
    "    \n",
    "    r.append(max(i.values()))\n",
    "    print(max(r))"
   ]
  },
  {
   "cell_type": "code",
   "execution_count": 31,
   "id": "10ff37c9",
   "metadata": {},
   "outputs": [],
   "source": [
    "d_1 = {\"rokkad\" : {\"a\":14 , \"b\": 10 , \"c\" : 4},\"cource\" :{\"d\":45 , \"e\" :34 , \"f\":1} ,\"g\": 356  , \"h\":[45,6,7,8,9,3] ,\n",
    "       \"i\" : (45 , 34 , 2) , \"k\":\"sudh\"}"
   ]
  },
  {
   "cell_type": "code",
   "execution_count": 32,
   "id": "b88def30",
   "metadata": {},
   "outputs": [
    {
     "name": "stdout",
     "output_type": "stream",
     "text": [
      "14\n",
      "45\n",
      "356\n",
      "356\n",
      "356\n",
      "356\n"
     ]
    }
   ],
   "source": [
    "l1 = []\n",
    "for i in d_1.values():\n",
    "    if type(i) == dict :\n",
    "        \n",
    "          l1.append(max(i.values( )))\n",
    "    elif type(i) == list :\n",
    "        l1.append(max(i))\n",
    "    elif type(i) == tuple :\n",
    "        l1.append(max(i))\n",
    "    elif type(i) == str :\n",
    "        pass\n",
    "    else :\n",
    "        l1.append(i)\n",
    "              \n",
    "    print(max(l1))\n",
    "        "
   ]
  },
  {
   "cell_type": "code",
   "execution_count": 33,
   "id": "adbed7c9",
   "metadata": {},
   "outputs": [],
   "source": [
    "d_1 = {\"rokkad\" : {\"a\":14 , \"b\": 10 , \"c\" : 4},\"cource\" :{\"d\":45 , \"e\" :34 , \"f\":1} ,\"g\": 356  , \"h\":[45,6,7,8,9,3] ,\n",
    "       \"i\" : (45 , 34 , 2) , \"k\":\"sudh\"}"
   ]
  },
  {
   "cell_type": "code",
   "execution_count": 34,
   "id": "30b851e0",
   "metadata": {},
   "outputs": [],
   "source": [
    "for i in d.values():\n",
    "    if i == int :\n",
    "        mx = 0\n",
    "        for j in i.values():\n",
    "            if mx < j :\n",
    "                  print(mx)"
   ]
  },
  {
   "cell_type": "code",
   "execution_count": 35,
   "id": "f6ad105f",
   "metadata": {},
   "outputs": [
    {
     "ename": "AttributeError",
     "evalue": "'str' object has no attribute 'values'",
     "output_type": "error",
     "traceback": [
      "\u001b[1;31m---------------------------------------------------------------------------\u001b[0m",
      "\u001b[1;31mAttributeError\u001b[0m                            Traceback (most recent call last)",
      "Cell \u001b[1;32mIn[35], line 3\u001b[0m\n\u001b[0;32m      1\u001b[0m lst \u001b[38;5;241m=\u001b[39m []\n\u001b[0;32m      2\u001b[0m \u001b[38;5;28;01mfor\u001b[39;00m i \u001b[38;5;129;01min\u001b[39;00m d\u001b[38;5;241m.\u001b[39mvalues() :\n\u001b[1;32m----> 3\u001b[0m       \u001b[38;5;28;01mfor\u001b[39;00m j \u001b[38;5;129;01min\u001b[39;00m i\u001b[38;5;241m.\u001b[39mvalues() :\n\u001b[0;32m      4\u001b[0m         \u001b[38;5;28;01mif\u001b[39;00m \u001b[38;5;28mtype\u001b[39m(j) \u001b[38;5;241m==\u001b[39m \u001b[38;5;28mlist\u001b[39m :\n\u001b[0;32m      5\u001b[0m             b \u001b[38;5;241m=\u001b[39m \u001b[38;5;28mmax\u001b[39m(j)\n",
      "\u001b[1;31mAttributeError\u001b[0m: 'str' object has no attribute 'values'"
     ]
    }
   ],
   "source": [
    "lst = []\n",
    "for i in d.values() :\n",
    "      for j in i.values() :\n",
    "        if type(j) == list :\n",
    "            b = max(j)\n",
    "            lst.append(b)\n",
    "        elif type (j) == tuple :\n",
    "            d = max(j)\n",
    "            lst.append(d)\n",
    "        elif type(j) == int :\n",
    "            lst.append(j)\n",
    "        print(max(lst))"
   ]
  },
  {
   "cell_type": "code",
   "execution_count": 36,
   "id": "e438bd75",
   "metadata": {},
   "outputs": [
    {
     "data": {
      "text/plain": [
       "int"
      ]
     },
     "execution_count": 36,
     "metadata": {},
     "output_type": "execute_result"
    }
   ],
   "source": [
    "type(1)"
   ]
  },
  {
   "cell_type": "code",
   "execution_count": 37,
   "id": "6a8d97d5",
   "metadata": {},
   "outputs": [
    {
     "data": {
      "text/plain": [
       "<function max>"
      ]
     },
     "execution_count": 37,
     "metadata": {},
     "output_type": "execute_result"
    }
   ],
   "source": [
    "max"
   ]
  },
  {
   "cell_type": "code",
   "execution_count": 38,
   "id": "3a35ac17",
   "metadata": {},
   "outputs": [
    {
     "data": {
      "text/plain": [
       "8"
      ]
     },
     "execution_count": 38,
     "metadata": {},
     "output_type": "execute_result"
    }
   ],
   "source": [
    "t = (5,6,7,8)\n",
    "max(t)"
   ]
  },
  {
   "cell_type": "code",
   "execution_count": 39,
   "id": "ba74a860",
   "metadata": {},
   "outputs": [
    {
     "name": "stdout",
     "output_type": "stream",
     "text": [
      "attempt  1  .\n",
      "attempt  3  . . .\n",
      "attempt  5  . . . . .\n",
      "attempt  7  . . . . . . .\n",
      "attempt  9  . . . . . . . . .\n"
     ]
    }
   ],
   "source": [
    "for number in range (1,10,2):\n",
    "    print(\"attempt \" , number , number * \" .\")"
   ]
  },
  {
   "cell_type": "code",
   "execution_count": 42,
   "id": "db8531a2",
   "metadata": {},
   "outputs": [
    {
     "name": "stdout",
     "output_type": "stream",
     "text": [
      "attempt  1  .\n",
      "attempt  3  . . .\n",
      "attempt  5  . . . . .\n",
      "attempt  7  . . . . . . .\n",
      "attempt  9  . . . . . . . . .\n",
      "attempt  11  . . . . . . . . . . .\n",
      "attempt  13  . . . . . . . . . . . . .\n"
     ]
    }
   ],
   "source": [
    "for number in range (1,15,2):\n",
    "    print(\"attempt \" , number , number * \" .\")"
   ]
  }
 ],
 "metadata": {
  "kernelspec": {
   "display_name": "Python 3 (ipykernel)",
   "language": "python",
   "name": "python3"
  },
  "language_info": {
   "codemirror_mode": {
    "name": "ipython",
    "version": 3
   },
   "file_extension": ".py",
   "mimetype": "text/x-python",
   "name": "python",
   "nbconvert_exporter": "python",
   "pygments_lexer": "ipython3",
   "version": "3.11.5"
  }
 },
 "nbformat": 4,
 "nbformat_minor": 5
}
